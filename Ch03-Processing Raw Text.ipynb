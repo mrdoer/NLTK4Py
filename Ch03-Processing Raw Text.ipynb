{
 "cells": [
  {
   "cell_type": "markdown",
   "metadata": {},
   "source": [
    "__The goal of this chapter is to answer the following questions:__\n",
    "\n",
    "- How can we write programs to access text from local files and from the web, in order to get hold of an unlimited range of language material?\n",
    "- How can we split documents up into individual words and punctuation symbols, so we can carry out the same kinds of analysis we did with text corpora in earlier chapters?\n",
    "- How can we write programs to produce formatted output and save it in a file? "
   ]
  },
  {
   "cell_type": "code",
   "execution_count": 1,
   "metadata": {},
   "outputs": [],
   "source": [
    "import nltk,re,pprint\n",
    "\n",
    "from nltk import word_tokenize"
   ]
  },
  {
   "cell_type": "code",
   "execution_count": 2,
   "metadata": {},
   "outputs": [],
   "source": [
    "from urllib import request"
   ]
  },
  {
   "cell_type": "code",
   "execution_count": 6,
   "metadata": {},
   "outputs": [
    {
     "data": {
      "text/plain": [
       "<urllib.request.ProxyHandler at 0x90a2a90>"
      ]
     },
     "execution_count": 6,
     "metadata": {},
     "output_type": "execute_result"
    }
   ],
   "source": [
    "request.ProxyHandler(proxies)"
   ]
  },
  {
   "cell_type": "code",
   "execution_count": 11,
   "metadata": {},
   "outputs": [],
   "source": [
    "response = request.urlopen(url)"
   ]
  },
  {
   "cell_type": "code",
   "execution_count": 12,
   "metadata": {},
   "outputs": [],
   "source": [
    "raw = response.read().decode('utf8')"
   ]
  },
  {
   "cell_type": "code",
   "execution_count": 13,
   "metadata": {},
   "outputs": [
    {
     "data": {
      "text/plain": [
       "str"
      ]
     },
     "execution_count": 13,
     "metadata": {},
     "output_type": "execute_result"
    }
   ],
   "source": [
    "type(raw)"
   ]
  },
  {
   "cell_type": "code",
   "execution_count": 14,
   "metadata": {},
   "outputs": [
    {
     "data": {
      "text/plain": [
       "1176965"
      ]
     },
     "execution_count": 14,
     "metadata": {},
     "output_type": "execute_result"
    }
   ],
   "source": [
    "len(raw)"
   ]
  },
  {
   "cell_type": "code",
   "execution_count": 15,
   "metadata": {},
   "outputs": [
    {
     "data": {
      "text/plain": [
       "'\\ufeffThe Project Gutenberg EBook of Crime and Punishment, by Fyodor Dostoevsky\\r'"
      ]
     },
     "execution_count": 15,
     "metadata": {},
     "output_type": "execute_result"
    }
   ],
   "source": [
    "raw[:75]"
   ]
  },
  {
   "cell_type": "code",
   "execution_count": 16,
   "metadata": {},
   "outputs": [],
   "source": [
    "tokens = word_tokenize(raw)"
   ]
  },
  {
   "cell_type": "code",
   "execution_count": 17,
   "metadata": {},
   "outputs": [
    {
     "data": {
      "text/plain": [
       "['\\ufeffThe',\n",
       " 'Project',\n",
       " 'Gutenberg',\n",
       " 'EBook',\n",
       " 'of',\n",
       " 'Crime',\n",
       " 'and',\n",
       " 'Punishment',\n",
       " ',',\n",
       " 'by']"
      ]
     },
     "execution_count": 17,
     "metadata": {},
     "output_type": "execute_result"
    }
   ],
   "source": [
    "tokens[:10]"
   ]
  },
  {
   "cell_type": "code",
   "execution_count": 37,
   "metadata": {},
   "outputs": [],
   "source": [
    "from nltk.corpus import PlaintextCorpusReader"
   ]
  },
  {
   "cell_type": "code",
   "execution_count": 38,
   "metadata": {},
   "outputs": [],
   "source": [
    "root = 'c://Users/EIEUCHH/Documents/Trace/'"
   ]
  },
  {
   "cell_type": "code",
   "execution_count": 39,
   "metadata": {},
   "outputs": [],
   "source": [
    "wordlist = PlaintextCorpusReader(root,'.*')"
   ]
  },
  {
   "cell_type": "code",
   "execution_count": 40,
   "metadata": {},
   "outputs": [],
   "source": [
    "trace = wordlist.words('Trace_sample.txt')"
   ]
  },
  {
   "cell_type": "code",
   "execution_count": 41,
   "metadata": {},
   "outputs": [
    {
     "data": {
      "text/plain": [
       "['[', '2018', '-', '04', '-', '28', '22', ':', '20', ...]"
      ]
     },
     "execution_count": 41,
     "metadata": {},
     "output_type": "execute_result"
    }
   ],
   "source": [
    "trace"
   ]
  },
  {
   "cell_type": "code",
   "execution_count": 42,
   "metadata": {},
   "outputs": [
    {
     "data": {
      "text/plain": [
       "nltk.corpus.reader.util.StreamBackedCorpusView"
      ]
     },
     "execution_count": 42,
     "metadata": {},
     "output_type": "execute_result"
    }
   ],
   "source": [
    "type(trace)"
   ]
  },
  {
   "cell_type": "code",
   "execution_count": 44,
   "metadata": {},
   "outputs": [],
   "source": [
    "trace_str = ' '.join(trace)"
   ]
  },
  {
   "cell_type": "code",
   "execution_count": 45,
   "metadata": {},
   "outputs": [
    {
     "data": {
      "text/plain": [
       "str"
      ]
     },
     "execution_count": 45,
     "metadata": {},
     "output_type": "execute_result"
    }
   ],
   "source": [
    "type(trace_str)"
   ]
  },
  {
   "cell_type": "code",
   "execution_count": 46,
   "metadata": {},
   "outputs": [],
   "source": [
    "trace_tokens = word_tokenize(trace_str)"
   ]
  },
  {
   "cell_type": "code",
   "execution_count": 48,
   "metadata": {},
   "outputs": [
    {
     "name": "stdout",
     "output_type": "stream",
     "text": [
      "<class 'list'> 25125\n"
     ]
    }
   ],
   "source": [
    "print(type(trace_tokens),len(trace_tokens))"
   ]
  },
  {
   "cell_type": "code",
   "execution_count": 50,
   "metadata": {},
   "outputs": [
    {
     "data": {
      "text/plain": [
       "['[', '2018', '-', '04', '-', '28', '22', ':', '20', ':']"
      ]
     },
     "execution_count": 50,
     "metadata": {},
     "output_type": "execute_result"
    }
   ],
   "source": [
    "trace_tokens[:10]"
   ]
  },
  {
   "cell_type": "code",
   "execution_count": 51,
   "metadata": {},
   "outputs": [],
   "source": [
    "trace_text = nltk.Text(trace_tokens)"
   ]
  },
  {
   "cell_type": "code",
   "execution_count": 52,
   "metadata": {},
   "outputs": [
    {
     "data": {
      "text/plain": [
       "nltk.text.Text"
      ]
     },
     "execution_count": 52,
     "metadata": {},
     "output_type": "execute_result"
    }
   ],
   "source": [
    "type(trace_text)"
   ]
  },
  {
   "cell_type": "code",
   "execution_count": 53,
   "metadata": {},
   "outputs": [
    {
     "name": "stdout",
     "output_type": "stream",
     "text": [
      "du1 com_ericsson_triobjif; handleSignal received; 1648098 receiver;\n",
      "164809b receiver; 164809e receiver; 16480a1 receiver; 1648097 sender;\n",
      "164809a sender; 164809d sender; 16480a0 sender; Received\n",
      "RICM_CONFIGURE_IQC_SWITCH_CFM; Received RICM_CONFIGURE_IQ_SWITCH_CFM;\n",
      "Sent RICM_CONFIGURE_IQC_SWITCH_REQ; Sent RICM_CONFIGURE_IQ_SWITCH_REQ;\n",
      "received RICM_CONFIGURE_IQC_SWITCH_CFM; received\n",
      "RICM_CONFIGURE_IQ_SWITCH_CFM; 6993 RICM_RELEASE_IQC_SWITCH_CFM; 6993\n",
      "RICM_RELEASE_IQ_SWITCH_CFM; 6993 RICM_RELEASE_IQ_SWITCH_REQ; 6993\n",
      "RICM_RELEASE_IQC_SWITCH_REQ\n"
     ]
    }
   ],
   "source": [
    "trace_text.collocations()"
   ]
  },
  {
   "cell_type": "code",
   "execution_count": 54,
   "metadata": {},
   "outputs": [],
   "source": [
    "import os"
   ]
  },
  {
   "cell_type": "code",
   "execution_count": 55,
   "metadata": {},
   "outputs": [
    {
     "data": {
      "text/plain": [
       "['.ipynb_checkpoints',\n",
       " 'add_num.py',\n",
       " 'Ch02-Accessing Text Corpora and Lexical Resources.ipynb',\n",
       " 'Ch03-Processing Raw Text.ipynb',\n",
       " 'code_unusual.py',\n",
       " 'print_sumab.py',\n",
       " 'spell_check.py',\n",
       " '__pycache__']"
      ]
     },
     "execution_count": 55,
     "metadata": {},
     "output_type": "execute_result"
    }
   ],
   "source": [
    "os.listdir('.')"
   ]
  },
  {
   "cell_type": "code",
   "execution_count": null,
   "metadata": {},
   "outputs": [],
   "source": []
  },
  {
   "cell_type": "code",
   "execution_count": 58,
   "metadata": {},
   "outputs": [],
   "source": [
    "raw_trace = open('c://Users/EIEUCHH/Documents/Trace/Trace_sample.txt').read()"
   ]
  },
  {
   "cell_type": "code",
   "execution_count": 59,
   "metadata": {},
   "outputs": [
    {
     "data": {
      "text/plain": [
       "'[2018-04-28 22:20:57.947056730] (+0.000071015) du1 com_ericsson_triobjif:TRACE6: { cpu_id = 11 }, { processAndObjIf = \"nc_main_thread(ncDcIf)\", fileAndLine = \"IcDciMsgHelpers.cc:154\", msg = \"RICM_RELEASE_IQC_SWITCH_REQ, carrierBranchId=3, unitId=1\" }\\n[2018-04-28 22:20:57.947232012] (+0.000142235) du1 com_ericsson_triobjif:REC_SIG: { cpu_id = 9 }, { processAndObjIf = \"Nci_control_proc(RICM_IF_DCI)\", fileAndLine = \"ricm_control_iq.c:1973\", msg = \"signo:16480a0 sender :6993 RICM_RELEASE_IQC_SWITCH_REQ: unitId: 0x1, carrierBranchId: 3\" }\\n[2018-04-28 22:20:57.947330730] (+0.000013484) du1 com_ericsson_triobjif:SEND_SIG: { cpu_id = 9 }, { processAndObjIf = \"Nci_control_proc(RICM_IF_DCI)\", fileAndLine = \"ricm_control_iq.c:1183\", msg = \"signo:16480a1 receiver :6993 RICM_RELEASE_IQC_SWITCH_CFM: unitId: 0x1, carrierBranchId: 3\" }\\n[2018-04-28 22:20:57.947355855] (+0.000025125) du1 com_ericsson_triobjif:TRACE6: { cpu_id = 11 }, { processAndObjIf = \"nc_main_thread(ncIcEquipmentControlIfSwU)\", fileAndLine = \"IcDciSessionImpl.cc:570\", msg = \"DU1:Sent RICM_RELEASE_IQC_SWITCH_REQ with clientRef=0xb143598c, serverRef=0x4e20\" }\\n[2018-04-28 22:20:57.947410293] (+0.000054438) du1 com_ericsson_triobjif:TRACE6: { cpu_id = 11 }, { processAndObjIf = \"nc_main_thread(ncDcIf)\", fileAndLine = \"IcDciMsgHelpers.cc:131\", msg = \"RICM_RELEASE_IQ_SWITCH_REQ, carrierBranchId=3, unitId=1\" }\\n[2018-04-28 22:20:57.947507418] (+0.000074297) du1 com_ericsson_triobjif:REC_SIG: { cpu_id = 9 }, { processAndObjIf = \"Nci_control_proc(RICM_IF_DCI)\", fileAndLine = \"ricm_control_iq.c:1933\", msg = \"signo:164809d sender :6993 RICM_RELEASE_IQ_SWITCH_REQ: unitId: 0x1, carrierBranchId: 3\" }\\n[2018-04-28 22:20:57.947585043] (+0.000011672) du1 com_ericsson_triobjif:SEND_SIG: { cpu_id = 9 }, { processAndObjIf = \"Nci_control_proc(RICM_IF_DCI)\", fileAndLine = \"ricm_control_iq.c:1151\", msg = \"signo:164809e receiver :6993 RICM_RELEASE_IQ_SWITCH_CFM: unitId: 0x1, carrierBranchId: 3\" }\\n[2018-04-28 22:20:57.947614387] (+0.000029344) du1 com_ericsson_triobjif:TRACE6: { cpu_id = 11 }, { processAndObjIf = \"nc_main_thread(ncIcEquipmentControlIfSwU)\", fileAndLine = \"IcDciSessionImpl.cc:523\", msg = \"DU1:Sent RICM_RELEASE_IQ_SWITCH_REQ with clientRef=0xb14b6aa4, serverRef=0x67756c50\" }\\n[2018-04-28 22:20:57.947736293] (+0.000121906) du1 com_ericsson_triobjif:TRACE6: { cpu_id = 11 }, { processAndObjIf = \"nc_main_thread(ncDcIf)\", fileAndLine = \"IcDciMsgHelpers.cc:154\", msg = \"RICM_RELEASE_IQC_SWITCH_REQ, carrierBranchId=3, unitId=1024\" }\\n[2018-04-28 22:20:57.947844230] (+0.000079359) du1 com_ericsson_triobjif:REC_SIG: { cpu_id = 9 }, { processAndObjIf = \"Nci_control_proc(RICM_IF_DCI)\", fileAndLine = \"ricm_control_iq.c:1973\", msg = \"signo:16480a0 sender :6993 RICM_RELEASE_IQC_SWITCH_REQ: unitId: 0x400, carrierBranchId: 3\" }\\n[2018-04-28 22:20:57.947889949] (+0.000014656) du1 com_ericsson_triobjif:SEND_SIG: { cpu_id = 9 }, { processAndObjIf = \"Nci_control_proc(RICM_IF_RICI)\", fileAndLine = \"spv_rici.c:7346\", msg = \"signo:10192a0 receiver :b320 RICI_RELEASE_IQC_SWITCH_REQ: unit: DU_0, clientReference: 0xEEA, carrierBranchId: 3, noOfConfigIds: 1\" }\\n[2018-04-28 22:20:57.947950668] (+0.000060719) du1 com_ericsson_triobjif:TRACE6: { cpu_id = 11 }, { processAndObjIf = \"nc_main_thread(ncIcEquipmentControlIfSwU)\", fileAndLine = \"IcDciSessionImpl.cc:570\", msg = \"DU1:Sent RICM_RELEASE_IQC_SWITCH_REQ with clientRef=0xb13b6dcc, serverRef=0x67756c50\" }\\n[2018-04-28 22:20:57.947997558] (+0.000046890) du1 com_ericsson_triobjif:TRACE6: { cpu_id = 11 }, { processAndObjIf = \"nc_main_thread(ncDcIf)\", fileAndLine = \"IcDciMsgHelpers.cc:131\", msg = \"RICM_RELEASE_IQ_SWITCH_REQ, carrierBranchId=3, unitId=1024\" }\\n[2018-04-28 22:20:57.948093808] (+0.000072359) du1 com_ericsson_triobjif:REC_SIG: { cpu_id = 9 }, { processAndObjIf = \"Nci_control_proc(RICM_IF_DCI)\", fileAndLine = \"ricm_control_iq.c:1933\", msg = \"signo:164809d sender :6993 RICM_RELEASE_IQ_SWITCH_REQ: unitId: 0x400, carrierBranchId: 3\" }\\n[2018-04-28 22:20:57.948134965] (+0.000012719) du1 com_ericsson_triobjif:SEND_SIG: { cpu_id = 9 }, { processAndObjIf = \"Nci_control_proc(RICM_IF_RICI)\", fileAndLine = \"spv_rici.c:7200\", msg = \"signo:101929d receiver :b320 RICI_RELEASE_IQ_SWITCH_REQ: unit: DU_0, clientReference: 0xEEB, carrierBranchId: 3, noOfConfigIds: 1\" }\\n[2018-04-28 22:20:57.948193996] (+0.000059031) du1 com_ericsson_triobjif:TRACE6: { cpu_id = 11 }, { processAndObjIf = \"nc_main_thread(ncIcEquipmentControlIfSwU)\", fileAndLine = \"IcDciSessionImpl.cc:523\", msg = \"DU1:Sent RICM_RELEASE_IQ_SWITCH_REQ with clientRef=0xb13b67c4, serverRef=0x4e20\" }\\n[2018-04-28 22:20:57.954143746] (+0.000061391) du1 com_ericsson_triobjif:TRACE7: { cpu_id = 11 }, { processAndObjIf = \"nc_main_thread(ncIcEquipmentControlIfSwU)\", fileAndLine = \"IcDciSessionManagerImpl.cc:107\", msg = \"handleSignal received RICM_RELEASE_IQC_SWITCH_CFM addressInfo.clientRef=0xb143598c, addressInfo.serverRef=0x67756c50\" }\\n[2018-04-28 22:20:57.954258074] (+0.000017375) du1 com_ericsson_triobjif:TRACE7: { cpu_id = 11 }, { processAndObjIf = \"nc_main_thread(ncIcEquipmentControlIfSwU)\", fileAndLine = \"IcDciSessionImpl.cc:582\", msg = \"DU1:Received RICM_RELEASE_IQC_SWITCH_CFM, addressInfo.clientRef=0xb143598c, addressInfo.serverRef=0x67756c50, carrierBranchId=3, unitId=1\" }\\n[2018-04-28 22:20:57.954329699] (+0.000071625) du1 com_ericsson_triobjif:TRACE7: { cpu_id = 11 }, { processAndObjIf = \"nc_main_thread(ncIcEquipmentControlIfSwU)\", fileAndLine = \"IcDciSessionManagerImpl.cc:107\", msg = \"handleSignal received RICM_RELEASE_IQ_SWITCH_CFM addressInfo.clientRef=0xb14b6aa4, addressInfo.serverRef=0x67756c50\" }\\n[2018-04-28 22:20:57.954437058] (+0.000014437) du1 com_ericsson_triobjif:TRACE7: { cpu_id = 11 }, { processAndObjIf = \"nc_main_thread(ncIcEquipmentControlIfSwU)\", fileAndLine = \"IcDciSessionImpl.cc:535\", msg = \"DU1:Received RICM_RELEASE_IQ_SWITCH_CFM, addressInfo.clientRef=0xb14b6aa4, addressInfo.serverRef=0x67756c50, carrierBranchId=3, unitId=1\" }\\n[2018-04-28 22:20:58.103892543] (+0.000012906) du1 com_ericsson_triobjif:SEND_SIG: { cpu_id = 9 }, { processAndObjIf = \"Nci_control_proc(RICM_IF_RICI)\", fileAndLine = \"spv_rici.c:5755\", msg = \"signo:1019253 receiver :b320 RICI_GET_DELAY_VALUES3_REQ: unit: DU_0, portNo: 0\" }\\n[2018-04-28 22:20:58.141496871] (+0.000012438) du1 com_ericsson_triobjif:REC_SIG: { cpu_id = 9 }, { processAndObjIf = \"Nci_control_proc(RICM_IF_RICI)\", fileAndLine = \"spv_rici.c:3657\", msg = \"signo:1019263 sender :b320 RICI_START_CPRI_LINK3_IND: path: DU_0, ruId: 1, portNo: 15, portType: 3, cpriRev: 3, bitRate: 2, availStatus: 0\" }\\n[2018-04-28 22:20:58.149127012] (+0.000011625) du1 com_ericsson_triobjif:REC_SIG: { cpu_id = 9 }, { processAndObjIf = \"Nci_control_proc(RICM_IF_RICI)\", fileAndLine = \"spv_rici.c:7388\", msg = \"signo:10192a1 sender :b320 RICI_RELEASE_IQC_SWITCH_CFM: unit: DU_0, ruId: 1, clientReference: 0xEEA, carrierBranchId: 3\" }\\n[2018-04-28 22:20:58.149147715] (+0.000012969) du1 com_ericsson_triobjif:SEND_SIG: { cpu_id = 9 }, { processAndObjIf = \"Nci_control_proc(RICM_IF_DCI)\", fileAndLine = \"ricm_control_iq.c:1183\", msg = \"signo:16480a1 receiver :6993 RICM_RELEASE_IQC_SWITCH_CFM: unitId: 0x400, carrierBranchId: 3\" }\\n[2018-04-28 22:20:58.149232652] (+0.000084937) du1 com_ericsson_triobjif:TRACE7: { cpu_id = 11 }, { processAndObjIf = \"nc_main_thread(ncIcEquipmentControlIfSwU)\", fileAndLine = \"IcDciSessionManagerImpl.cc:107\", msg = \"handleSignal received RICM_RELEASE_IQC_SWITCH_CFM addressInfo.clientRef=0xb13b6dcc, addressInfo.serverRef=0x67756c50\" }\\n[2018-04-28 22:20:58.149365965] (+0.000017219) du1 com_ericsson_triobjif:TRACE7: { cpu_id = 11 }, { processAndObjIf = \"nc_main_thread(ncIcEquipmentControlIfSwU)\", fileAndLine = \"IcDciSessionImpl.cc:582\", msg = \"DU1:Received RICM_RELEASE_IQC_SWITCH_CFM, addressInfo.clientRef=0xb13b6dcc, addressInfo.serverRef=0x67756c50, carrierBranchId=3, unitId=1024\" }\\n[2018-04-28 22:20:58.154265465] (+0.000011063) du1 com_ericsson_triobjif:REC_SIG: { cpu_id = 9 }, { processAndObjIf = \"Nci_control_proc(RICM_IF_RICI)\", fileAndLine = \"spv_rici.c:3441\", msg = \"signo:1019261 sender :b320 RICI_START_CPRI_LINK3_CFM: unit: DU_0, ruId: 1, portNo: 15\" }\\n[2018-04-28 22:20:58.155242949] (+0.000010344) du1 com_ericsson_triobjif:REC_SIG: { cpu_id = 9 }, { processAndObjIf = \"Nci_control_proc(RICM_IF_RICI)\", fileAndLine = \"spv_rici.c:7242\", msg = \"signo:101929e sender :b320 RICI_RELEASE_IQ_SWITCH_CFM: unit: DU_0, ruId: 1, clientReference: 0xEEB, carrierBranchId: 3\" }\\n[2018-04-28 22:20:58.155262074] (+0.000012312) du1 com_ericsson_triobjif:SEND_SIG: { cpu_id = 9 }, { processAndObjIf = \"Nci_control_proc(RICM_IF_DCI)\", fileAndLine = \"ricm_control_iq.c:1151\", msg = \"signo:164809e receiver :6993 RICM_RELEASE_IQ_SWITCH_CFM: unitId: 0x400, carrierBranchId: 3\" }\\n[2018-04-28 22:20:58.155330855] (+0.000068781) du1 com_ericsson_triobjif:TRACE7: { cpu_id = 11 }, { processAndObjIf = \"nc_main_thread(ncIcEquipmentControlIfSwU)\", fileAndLine = \"IcDciSessionManagerImpl.cc:107\", msg = \"handleSignal received RICM_RELEASE_IQ_SWITCH_CFM addressInfo.clientRef=0xb13b67c4, addressInfo.serverRef=0x67756c50\" }\\n[2018-04-28 22:20:58.155442199] (+0.000015141) du1 com_ericsson_triobjif:TRACE7: { cpu_id = 11 }, { processAndObjIf = \"nc_main_thread(ncIcEquipmentControlIfSwU)\", fileAndLine = \"IcDciSessionImpl.cc:535\", msg = \"DU1:Received RICM_RELEASE_IQ_SWITCH_CFM, addressInfo.clientRef=0xb13b67c4, addressInfo.serverRef=0x67756c50, carrierBranchId=3, unitId=1024\" }\\n[2018-04-28 22:20:58.162471074] (+0.000141500) du1 com_ericsson_triobjif:TRACE6: { cpu_id = 2 }, { processAndObjIf = \"nc_main_thread(ncDcIf)\", fileAndLine = \"IcDciMsgHelpers.cc:154\", msg = \"RICM_RELEASE_IQC_SWITCH_REQ, carrierBranchId=2, unitId=1\" }\\n[2018-04-28 22:20:58.162672355] (+0.000163437) du1 com_ericsson_triobjif:REC_SIG: { cpu_id = 8 }, { processAndObjIf = \"Nci_control_proc(RICM_IF_DCI)\", fileAndLine = \"ricm_control_iq.c:1973\", msg = \"signo:16480a0 sender :6993 RICM_RELEASE_IQC_SWITCH_REQ: unitId: 0x1, carrierBranchId: 2\" }\\n[2018-04-28 22:20:58.162766715] (+0.000013578) du1 com_ericsson_triobjif:SEND_SIG: { cpu_id = 8 }, { processAndObjIf = \"Nci_control_proc(RICM_IF_DCI)\", fileAndLine = \"ricm_control_iq.c:1183\", msg = \"signo:16480a1 receiver :6993 RICM_RELEASE_IQC_SWITCH_CFM: unitId: 0x1, carrierBranchId: 2\" }\\n[2018-04-28 22:20:58.163056918] (+0.000290203) du1 com_ericsson_triobjif:REC_SIG: { cpu_id = 8 }, { processAndObjIf = \"Nci_control_proc(RICM_IF_DCI)\", fileAndLine = \"ricm_control_iq.c:1933\", msg = \"signo:164809d sender :6993 RICM_RELEASE_IQ_SWITCH_REQ: unitId: 0x1, carrierBranchId: 2\" }\\n[2018-04-28 22:20:58.163135715] (+0.000010360) du1 com_ericsson_triobjif:SEND_SIG: { cpu_id = 8 }, { processAndObjIf = \"Nci_control_proc(RICM_IF_DCI)\", fileAndLine = \"ricm_control_iq.c:1151\", msg = \"signo:164809e receiver :6993 RICM_RELEASE_IQ_SWITCH_CFM: unitId: 0x1, carrierBranchId: 2\" }\\n[2018-04-28 22:20:58.163868043] (+0.000732328) du1 com_ericsson_triobjif:REC_SIG: { cpu_id = 8 }, { processAndObjIf = \"Nci_control_proc(RICM_IF_DCI)\", fileAndLine = \"ricm_control_iq.c:1973\", msg = \"signo:16480a0 sender :6993 RICM_RELEASE_IQC_SWITCH_REQ: unitId: 0x400, carrierBranchId: 2\" }\\n[2018-04-28 22:20:58.163909043] (+0.000013828) du1 com_ericsson_triobjif:SEND_SIG: { cpu_id = 8 }, { processAndObjIf = \"Nci_control_proc(RICM_IF_RICI)\", fileAndLine = \"spv_rici.c:7346\", msg = \"signo:10192a0 receiver :b320 RICI_RELEASE_IQC_SWITCH_REQ: unit: DU_0, clientReference: 0xEE6, carrierBranchId: 2, noOfConfigIds: 1\" }\\n[2018-04-28 22:20:58.164076355] (+0.000167312) du1 com_ericsson_triobjif:REC_SIG: { cpu_id = 8 }, { processAndObjIf = \"Nci_control_proc(RICM_IF_DCI)\", fileAndLine = \"ricm_control_iq.c:1933\", msg = \"signo:164809d sender :6993 RICM_RELEASE_IQ_SWITCH_REQ: unitId: 0x400, carrierBranchId: 2\" }\\n[2018-04-28 22:20:58.164111699] (+0.000012500) du1 com_ericsson_triobjif:SEND_SIG: { cpu_id = 8 }, { processAndObjIf = \"Nci_control_proc(RICM_IF_RICI)\", fileAndLine = \"spv_rici.c:7200\", msg = \"signo:101929d receiver :b320 RICI_RELEASE_IQ_SWITCH_REQ: unit: DU_0, clientReference: 0xEE7, carrierBranchId: 2, noOfConfigIds: 1\" }\\n[2018-04-28 22:20:58.168232808] (+0.000012437) du1 com_ericsson_triobjif:REC_SIG: { cpu_id = 8 }, { processAndObjIf = \"Nci_control_proc(RICM_IF_RICI)\", fileAndLine = \"spv_rici.c:7388\", msg = \"signo:10192a1 sender :b320 RICI_RELEASE_IQC_SWITCH_CFM: unit: DU_0, ruId: 1, clientReference: 0xEE6, carrierBranchId: 2\" }\\n[2018-04-28 22:20:58.168249980] (+0.000009765) du1 com_ericsson_triobjif:SEND_SIG: { cpu_id = 8 }, { processAndObjIf = \"Nci_control_proc(RICM_IF_DCI)\", fileAndLine = \"ricm_control_iq.c:1183\", msg = \"signo:16480a1 receiver :6993 RICM_RELEASE_IQC_SWITCH_CFM: unitId: 0x400, carrierBranchId: 2\" }\\n[2018-04-28 22:20:58.171247824] (+0.000011094) du1 com_ericsson_triobjif:REC_SIG: { cpu_id = 8 }, { processAndObjIf = \"Nci_control_proc(RICM_IF_RICI)\", fileAndLine = \"spv_rici.c:7242\", msg = \"signo:101929e sender :b320 RICI_RELEASE_IQ_SWITCH_CFM: unit: DU_0, ruId: 1, clientReference: 0xEE7, carrierBranchId: 2\" }\\n[2018-04-28 22:20:58.171264121] (+0.000009547) du1 com_ericsson_triobjif:SEND_SIG: { cpu_id = 8 }, { processAndObjIf = \"Nci_control_proc(RICM_IF_DCI)\", fileAndLine = \"ricm_control_iq.c:1151\", msg = \"signo:164809e receiver :6993 RICM_RELEASE_IQ_SWITCH_CFM: unitId: 0x400, carrierBranchId: 2\" }\\n[2018-04-28 22:20:58.181047355] (+0.009783234) du1 com_ericsson_triobjif:REC_SIG: { cpu_id = 8 }, { processAndObjIf = \"Nci_control_proc(RICM_IF_DCI)\", fileAndLine = \"ricm_control_iq.c:1973\", msg = \"signo:16480a0 sender :6993 RICM_RELEASE_IQC_SWITCH_REQ: unitId: 0x400, carrierBranchId: 5\" }\\n[2018-04-28 22:20:58.181084308] (+0.000011875) du1 com_ericsson_triobjif:SEND_SIG: { cpu_id = 8 }, { processAndObjIf = \"Nci_control_proc(RICM_IF_RICI)\", fileAndLine = \"spv_rici.c:7346\", msg = \"signo:10192a0 receiver :b320 RICI_RELEASE_IQC_SWITCH_REQ: unit: DU_0, clientReference: 0xEF0, carrierBranchId: 5, noOfConfigIds: 1\" }\\n[2018-04-28 22:20:58.181477183] (+0.000392875) du1 com_ericsson_triobjif:REC_SIG: { cpu_id = 8 }, { processAndObjIf = \"Nci_control_proc(RICM_IF_DCI)\", fileAndLine = \"ricm_control_iq.c:1933\", msg = \"signo:164809d sender :6993 RICM_RELEASE_IQ_SWITCH_REQ: unitId: 0x400, carrierBranchId: 5\" }\\n[2018-04-28 22:20:58.181512168] (+0.000011641) du1 com_ericsson_triobjif:SEND_SIG: { cpu_id = 8 }, { processAndObjIf = \"Nci_control_proc(RICM_IF_RICI)\", fileAndLine = \"spv_rici.c:7200\", msg = \"signo:101929d receiver :b320 RICI_RELEASE_IQ_SWITCH_REQ: unit: DU_0, clientReference: 0xEF1, carrierBranchId: 5, noOfConfigIds: 1\" }\\n[2018-04-28 22:20:58.181791590] (+0.000279422) du1 com_ericsson_triobjif:REC_SIG: { cpu_id = 8 }, { processAndObjIf = \"Nci_control_proc(RICM_IF_DCI)\", fileAndLine = \"ricm_control_iq.c:1973\", msg = \"signo:16480a0 sender :6993 RICM_RELEASE_IQC_SWITCH_REQ: unitId: 0x1, carrierBranchId: 5\" }\\n[2018-04-28 22:20:58.181855887] (+0.000009844) du1 com_ericsson_triobjif:SEND_SIG: { cpu_id = 8 }, { processAndObjIf = \"Nci_control_proc(RICM_IF_DCI)\", fileAndLine = \"ricm_control_iq.c:1183\", msg = \"signo:16480a1 receiver :6993 RICM_RELEASE_IQC_SWITCH_CFM: unitId: 0x1, carrierBranchId: 5\" }\\n[2018-04-28 22:20:58.182011215] (+0.000155328) du1 com_ericsson_triobjif:REC_SIG: { cpu_id = 8 }, { processAndObjIf = \"Nci_control_proc(RICM_IF_DCI)\", fileAndLine = \"ricm_control_iq.c:1933\", msg = \"signo:164809d sender :6993 RICM_RELEASE_IQ_SWITCH_REQ: unitId: 0x1, carrierBranchId: 5\" }\\n[2018-04-28 22:20:58.182072887] (+0.000009125) du1 com_ericsson_triobjif:SEND_SIG: { cpu_id = 8 }, { processAndObjIf = \"Nci_control_proc(RICM_IF_DCI)\", fileAndLine = \"ricm_control_iq.c:1151\", msg = \"signo:164809e receiver :6993 RICM_RELEASE_IQ_SWITCH_CFM: unitId: 0x1, carrierBranchId: 5\" }\\n[2018-04-28 22:20:58.183660277] (+0.000010890) du1 com_ericsson_triobjif:REC_SIG: { cpu_id = 8 }, { processAndObjIf = \"Nci_control_proc(RICM_IF_RICI)\", fileAndLine = \"spv_rici.c:7388\", msg = \"signo:10192a1 sender :b320 RICI_RELEASE_IQC_SWITCH_CFM: unit: DU_0, ruId: 1, clientReference: 0xEF0, carrierBranchId: 5\" }\\n[2018-04-28 22:20:58.183676965] (+0.000009953) du1 com_ericsson_triobjif:SEND_SIG: { cpu_id = 8 }, { processAndObjIf = \"Nci_control_proc(RICM_IF_DCI)\", fileAndLine = \"ricm_control_iq.c:1183\", msg = \"signo:16480a1 receiver :6993 RICM_RELEASE_IQC_SWITCH_CFM: unitId: 0x400, carrierBranchId: 5\" }\\n[2018-04-28 22:20:58.187038308] (+0.000014328) du1 com_ericsson_triobjif:REC_SIG: { cpu_id = 8 }, { processAndObjIf = \"Nci_control_proc(RICM_IF_RICI)\", fileAndLine = \"spv_rici.c:7242\", msg = \"signo:101929e sender :b320 RICI_RELEASE_IQ_SWITCH_CFM: unit: DU_0, ruId: 1, clientReference: 0xEF1, carrierBranchId: 5\" }\\n[2018-04-28 22:20:58.187055058] (+0.000010078) du1 com_ericsson_triobjif:SEND_SIG: { cpu_id = 8 }, { processAndObjIf = \"Nci_control_proc(RICM_IF_DCI)\", fileAndLine = \"ricm_control_iq.c:1151\", msg = \"signo:164809e receiver :6993 RICM_RELEASE_IQ_SWITCH_CFM: unitId: 0x400, carrierBranchId: 5\" }\\n[2018-04-28 22:20:58.190445871] (+0.000105578) du1 com_ericsson_triobjif:TRACE6: { cpu_id = 3 }, { processAndObjIf = \"nc_main_thread(ncDcIf)\", fileAndLine = \"IcDciMsgHelpers.cc:154\", msg = \"RICM_RELEASE_IQC_SWITCH_REQ, carrierBranchId=4, unitId=1024\" }\\n[2018-04-28 22:20:58.190567590] (+0.000088703) du1 com_ericsson_triobjif:REC_SIG: { cpu_id = 8 }, { processAndObjIf = \"Nci_control_proc(RICM_IF_DCI)\", fileAndLine = \"ricm_control_iq.c:1973\", msg = \"signo:16480a0 sender :6993 RICM_RELEASE_IQC_SWITCH_REQ: unitId: 0x400, carrierBranchId: 4\" }\\n[2018-04-28 22:20:58.190603043] (+0.000011594) du1 com_ericsson_triobjif:SEND_SIG: { cpu_id = 8 }, { processAndObjIf = \"Nci_control_proc(RICM_IF_RICI)\", fileAndLine = \"spv_rici.c:7346\", msg = \"signo:10192a0 receiver :b320 RICI_RELEASE_IQC_SWITCH_REQ: unit: DU_0, clientReference: 0xEEC, carrierBranchId: 4, noOfConfigIds: 1\" }\\n[2018-04-28 22:20:58.190643949] (+0.000040906) du1 com_ericsson_triobjif:TRACE6: { cpu_id = 3 }, { processAndObjIf = \"nc_main_thread(ncIcEquipmentControlIfSwU)\", fileAndLine = \"IcDciSessionImpl.cc:570\", msg = \"DU1:Sent RICM_RELEASE_IQC_SWITCH_REQ with clientRef=0xb16bac34, serverRef=0x67756c50\" }\\n[2018-04-28 22:20:58.190694746] (+0.000050797) du1 com_ericsson_triobjif:TRACE6: { cpu_id = 3 }, { processAndObjIf = \"nc_main_thread(ncDcIf)\", fileAndLine = \"IcDciMsgHelpers.cc:131\", msg = \"RICM_RELEASE_IQ_SWITCH_REQ, carrierBranchId=4, unitId=1024\" }\\n[2018-04-28 22:20:58.190811183] (+0.000090093) du1 com_ericsson_triobjif:REC_SIG: { cpu_id = 8 }, { processAndObjIf = \"Nci_control_proc(RICM_IF_DCI)\", fileAndLine = \"ricm_control_iq.c:1933\", msg = \"signo:164809d sender :6993 RICM_RELEASE_IQ_SWITCH_REQ: unitId: 0x400, carrierBranchId: 4\" }\\n[2018-04-28 22:20:58.190845277] (+0.000011125) du1 com_ericsson_triobjif:SEND_SIG: { cpu_id = 8 }, { processAndObjIf = \"Nci_control_proc(RICM_IF_RICI)\", fileAndLine = \"spv_rici.c:7200\", msg = \"signo:101929d receiver :b320 RICI_RELEASE_IQ_SWITCH_REQ: unit: DU_0, clientReference: 0xEED, carrierBranchId: 4, noOfConfigIds: 1\" }\\n[2018-04-28 22:20:58.190891293] (+0.000046016) du1 com_ericsson_triobjif:TRACE6: { cpu_id = 3 }, { processAndObjIf = \"nc_main_thread(ncIcEquipmentControlIfSwU)\", fileAndLine = \"IcDciSessionImpl.cc:523\", msg = \"DU1:Sent RICM_RELEASE_IQ_SWITCH_REQ with clientRef=0xb13ae78c, serverRef=0x4e20\" }\\n[2018-04-28 22:20:58.190958355] (+0.000067062) du1 com_ericsson_triobjif:TRACE6: { cpu_id = 3 }, { processAndObjIf = \"nc_main_thread(ncDcIf)\", fileAndLine = \"IcDciMsgHelpers.cc:154\", msg = \"RICM_RELEASE_IQC_SWITCH_REQ, carrierBranchId=4, unitId=1\" }\\n[2018-04-28 22:20:58.191070543] (+0.000089110) du1 com_ericsson_triobjif:REC_SIG: { cpu_id = 8 }, { processAndObjIf = \"Nci_control_proc(RICM_IF_DCI)\", fileAndLine = \"ricm_control_iq.c:1973\", msg = \"signo:16480a0 sender :6993 RICM_RELEASE_IQC_SWITCH_REQ: unitId: 0x1, carrierBranchId: 4\" }\\n[2018-04-28 22:20:58.191138308] (+0.000009515) du1 com_ericsson_triobjif:SEND_SIG: { cpu_id = 8 }, { processAndObjIf = \"Nci_control_proc(RICM_IF_DCI)\", fileAndLine = \"ricm_control_iq.c:1183\", msg = \"signo:16480a1 receiver :6993 RICM_RELEASE_IQC_SWITCH_CFM: unitId: 0x1, carrierBranchId: 4\" }\\n[2018-04-28 22:20:58.191144465] (+0.000006157) du1 com_ericsson_triobjif:TRACE6: { cpu_id = 3 }, { processAndObjIf = \"nc_main_thread(ncIcEquipmentControlIfSwU)\", fileAndLine = \"IcDciSessionImpl.cc:570\", msg = \"DU1:Sent RICM_RELEASE_IQC_SWITCH_REQ with clientRef=0xb16d07f4, serverRef=0x4e20\" }\\n[2018-04-28 22:20:58.191198387] (+0.000053922) du1 com_ericsson_triobjif:TRACE6: { cpu_id = 3 }, { processAndObjIf = \"nc_main_thread(ncDcIf)\", fileAndLine = \"IcDciMsgHelpers.cc:131\", msg = \"RICM_RELEASE_IQ_SWITCH_REQ, carrierBranchId=4, unitId=1\" }\\n[2018-04-28 22:20:58.191293308] (+0.000072671) du1 com_ericsson_triobjif:REC_SIG: { cpu_id = 8 }, { processAndObjIf = \"Nci_control_proc(RICM_IF_DCI)\", fileAndLine = \"ricm_control_iq.c:1933\", msg = \"signo:164809d sender :6993 RICM_RELEASE_IQ_SWITCH_REQ: unitId: 0x1, carrierBranchId: 4\" }\\n[2018-04-28 22:20:58.191359512] (+0.000058250) du1 com_ericsson_triobjif:TRACE6: { cpu_id = 3 }, { processAndObjIf = \"nc_main_thread(ncIcEquipmentControlIfSwU)\", fileAndLine = \"IcDciSessionImpl.cc:523\", msg = \"DU1:Sent RICM_RELEASE_IQ_SWITCH_REQ with clientRef=0xb146f2d4, serverRef=0x67756c50\" }\\n[2018-04-28 22:20:58.191369980] (+0.000010234) du1 com_ericsson_triobjif:SEND_SIG: { cpu_id = 8 }, { processAndObjIf = \"Nci_control_proc(RICM_IF_DCI)\", fileAndLine = \"ricm_control_iq.c:1151\", msg = \"signo:164809e receiver :6993 RICM_RELEASE_IQ_SWITCH_CFM: unitId: 0x1, carrierBranchId: 4\" }\\n[2018-04-28 22:20:58.191512808] (+0.000142828) du1 com_ericsson_triobjif:TRACE7: { cpu_id = 3 }, { processAndObjIf = \"nc_main_thread(ncIcEquipmentControlIfSwU)\", fileAndLine = \"IcDciSessionManagerImpl.cc:107\", msg = \"handleSignal received RICM_RELEASE_IQC_SWITCH_CFM addressInfo.clientRef=0xb16d07f4, addressInfo.serverRef=0x67756c50\" }\\n[2018-04-28 22:20:58.191621449] (+0.000015969) du1 com_ericsson_triobjif:TRACE7: { cpu_id = 3 }, { processAndObjIf = \"nc_main_thread(ncIcEquipmentControlIfSwU)\", fileAndLine = \"IcDciSessionImpl.cc:582\", msg = \"DU1:Received RICM_RELEASE_IQC_SWITCH_CFM, addressInfo.clientRef=0xb16d07f4, addressInfo.serverRef=0x67756c50, carrierBranchId=4, unitId=1\" }\\n[2018-04-28 22:20:58.191691027] (+0.000069578) du1 com_ericsson_triobjif:TRACE7: { cpu_id = 3 }, { processAndObjIf = \"nc_main_thread(ncIcEquipmentControlIfSwU)\", fileAndLine = \"IcDciSessionManagerImpl.cc:107\", msg = \"handleSignal received RICM_RELEASE_IQ_SWITCH_CFM addressInfo.clientRef=0xb146f2d4, addressInfo.serverRef=0x67756c50\" }\\n[2018-04-28 22:20:58.191790293] (+0.000014313) du1 com_ericsson_triobjif:TRACE7: { cpu_id = 3 }, { processAndObjIf = \"nc_main_thread(ncIcEquipmentControlIfSwU)\", fileAndLine = \"IcDciSessionImpl.cc:535\", msg = \"DU1:Received RICM_RELEASE_IQ_SWITCH_CFM, addressInfo.clientRef=0xb146f2d4, addressInfo.serverRef=0x67756c50, carrierBranchId=4, unitId=1\" }\\n[2018-04-28 22:20:58.194912308] (+0.000015531) du1 com_ericsson_triobjif:REC_SIG: { cpu_id = 8 }, { processAndObjIf = \"Nci_control_proc(RICM_IF_RICI)\", fileAndLine = \"spv_rici.c:7388\", msg = \"signo:10192a1 sender :b320 RICI_RELEASE_IQC_SWITCH_CFM: unit: DU_0, ruId: 1, clientReference: 0xEEC, carrierBranchId: 4\" }\\n[2018-04-28 22:20:58.194935043] (+0.000014610) du1 com_ericsson_triobjif:SEND_SIG: { cpu_id = 8 }, { processAndObjIf = \"Nci_control_proc(RICM_IF_DCI)\", fileAndLine = \"ricm_control_iq.c:1183\", msg = \"signo:16480a1 receiver :6993 RICM_RELEASE_IQC_SWITCH_CFM: unitId: 0x400, carrierBranchId: 4\" }\\n[2018-04-28 22:20:58.195070308] (+0.000135265) du1 com_ericsson_triobjif:TRACE7: { cpu_id = 2 }, { processAndObjIf = \"nc_main_thread(ncIcEquipmentControlIfSwU)\", fileAndLine = \"IcDciSessionManagerImpl.cc:107\", msg = \"handleSignal received RICM_RELEASE_IQC_SWITCH_CFM addressInfo.clientRef=0xb16bac34, addressInfo.serverRef=0x67756c50\" }\\n[2018-04-28 22:20:58.195232402] (+0.000018828) du1 com_ericsson_triobjif:TRACE7: { cpu_id = 2 }, { processAndObjIf = \"nc_main_thread(ncIcEquipmentControlIfSwU)\", fileAndLine = \"IcDciSessionImpl.cc:582\", msg = \"DU1:Received RICM_RELEASE_IQC_SWITCH_CFM, addressInfo.clientRef=0xb16bac34, addressInfo.serverRef=0x67756c50, carrierBranchId=4, unitId=1024\" }\\n[2018-04-28 22:20:58.198040621] (+0.000017734) du1 com_ericsson_triobjif:REC_SIG: { cpu_id = 8 }, { processAndObjIf = \"Nci_control_proc(RICM_IF_RICI)\", fileAndLine = \"spv_rici.c:7242\", msg = \"signo:101929e sender :b320 RICI_RELEASE_IQ_SWITCH_CFM: unit: DU_0, ruId: 1, clientReference: 0xEED, carrierBranchId: 4\" }\\n[2018-04-28 22:20:58.198057824] (+0.000010281) du1 com_ericsson_triobjif:SEND_SIG: { cpu_id = 8 }, { processAndObjIf = \"Nci_control_proc(RICM_IF_DCI)\", fileAndLine = \"ricm_control_iq.c:1151\", msg = \"signo:164809e receiver :6993 RICM_RELEASE_IQ_SWITCH_CFM: unitId: 0x400, carrierBranchId: 4\" }\\n[2018-04-28 22:20:58.198169840] (+0.000112016) du1 com_ericsson_triobjif:TRACE7: { cpu_id = 2 }, { processAndObjIf = \"nc_main_thread(ncIcEquipmentControlIfSwU)\", fileAndLine = \"IcDciSessionManagerImpl.cc:107\", msg = \"handleSignal received RICM_RELEASE_IQ_SWITCH_CFM addressInfo.clientRef=0xb13ae78c, addressInfo.serverRef=0x67756c50\" }\\n[2018-04-28 22:20:58.198308887] (+0.000017485) du1 com_ericsson_triobjif:TRACE7: { cpu_id = 2 }, { processAndObjIf = \"nc_main_thread(ncIcEquipmentControlIfSwU)\", fileAndLine = \"IcDciSessionImpl.cc:535\", msg = \"DU1:Received RICM_RELEASE_IQ_SWITCH_CFM, addressInfo.clientRef=0xb13ae78c, addressInfo.serverRef=0x67756c50, carrierBranchId=4, unitId=1024\" }\\n[2018-04-28 22:20:58.267825277] (+0.000019531) du1 com_ericsson_triobjif:REC_SIG: { cpu_id = 8 }, { processAndObjIf = \"Nci_control_proc(RICM_IF_RICI)\", fileAndLine = \"spv_rici.c:2801\", msg = \"signo:1019254 sender :b320 RICI_GET_DELAY_VALUES3_CFM: unit: DU_0, ruId: 1, portNo: 0, internalLoopDelay: 9378 (10ps)\" }\\n[2018-04-28 22:20:58.271682418] (+0.000016235) du1 com_ericsson_triobjif:REC_SIG: { cpu_id = 8 }, { processAndObjIf = \"Nci_control_proc(RICM_IF_RICI)\", fileAndLine = \"spv_rici.c:3657\", msg = \"signo:1019263 sender :b320 RICI_START_CPRI_LINK3_IND: path: DU_0, ruId: 1, portNo: 15, portType: 3, cpriRev: 3, bitRate: 2, availStatus: 1\" }\\n[2018-04-28 22:20:58.272510699] (+0.000010766) du1 com_ericsson_triobjif:SEND_SIG: { cpu_id = 8 }, { processAndObjIf = \"Nci_control_proc(RICM_IF_RICI)\", fileAndLine = \"spv_rici.c:5755\", msg = \"signo:1019253 receiver :b324 RICI_GET_DELAY_VALUES3_REQ: unit: DU_0_15, portNo: 0\" }\\n[2018-04-28 22:20:58.272721543] (+0.000011922) du1 com_ericsson_triobjif:SEND_SIG: { cpu_id = 8 }, { processAndObjIf = \"Nci_control_proc(RICM_IF_RICI)\", fileAndLine = \"spv_rici.c:6731\", msg = \"signo:1019282 receiver :b320 RICI_CONFIG_ECP_SWITCH_REQ: unit: DU_0, portNoIn: 0, portNoOut: 15, ecpAddressIn: 3, ecpAddressOut: 3\" }\\n[2018-04-28 22:20:58.275820449] (+0.000012219) du1 com_ericsson_triobjif:REC_SIG: { cpu_id = 8 }, { processAndObjIf = \"Nci_control_proc(RICM_IF_RICI)\", fileAndLine = \"spv_rici.c:6763\", msg = \"signo:1019283 sender :b320 RICI_CONFIG_ECP_SWITCH_CFM: unit: DU_0, ruId: 1, portNoIn: 0, portNoOut: 15, ecpAddressIn: 3, ecpAddressOut: 3\" }\\n[2018-04-28 22:20:58.413439246] (+0.000014891) du1 com_ericsson_triobjif:REC_SIG: { cpu_id = 9 }, { processAndObjIf = \"Nci_control_proc(RICM_IF_RICI)\", fileAndLine = \"spv_rici.c:2801\", msg = \"signo:1019254 sender :b324 RICI_GET_DELAY_VALUES3_CFM: unit: DU_0_15, ruId: 6, portNo: 0, internalLoopDelay: 8917 (10ps)\" }\\n[2018-04-28 22:20:58.413468402] (+0.000011375) du1 com_ericsson_triobjif:SEND_SIG: { cpu_id = 9 }, { processAndObjIf = \"Nci_control_proc(RICM_IF_RICI)\", fileAndLine = \"spv_rici.c:5836\", msg = \"signo:101925d receiver :b320 RICI_GET_RTD_MEAS3_REQ: unit: DU_0, portNo: 15\" }\\n[2018-04-28 22:20:58.420652340] (+0.000012110) du1 com_ericsson_triobjif:REC_SIG: { cpu_id = 9 }, { processAndObjIf = \"Nci_control_proc(RICM_IF_RICI)\", fileAndLine = \"spv_rici.c:3103\", msg = \"signo:101925e sender :b320 RICI_GET_RTD_MEAS3_CFM: unit: DU_0, ruId: 1, portNo: 15, RTDValue: 46814 (10ps), cascadeDelayDL: 106574 (10ps), cascadeDelayUL: 160351 (10ps)\" }\\n[2018-04-28 22:21:02.783114043] (+0.000060844) du1 com_ericsson_triobjif:TRACE6: { cpu_id = 6 }, { processAndObjIf = \"nc_main_thread(ncDcIf)\", fileAndLine = \"IcDciMsgHelpers.cc:108\", msg = \"RICM_CONFIGURE_IQC_SWITCH_REQ, carrierBranchId=2, localCarrierId=2, unitId=1, ingressPort=0, ingressAxcId=0, egressPort=65536, egressAxcId=1\" }\\n[2018-04-28 22:21:02.783277715] (+0.000132063) du1 com_ericsson_triobjif:REC_SIG: { cpu_id = 9 }, { processAndObjIf = \"Nci_control_proc(RICM_IF_DCI)\", fileAndLine = \"ricm_control_iq.c:1849\", msg = \"signo:164809a sender :6993 RICM_CONFIGURE_IQC_SWITCH_REQ: unitId: 0x1, carrierBranchId: 2, localCarrierId: 2, ingress.port: 0x0, ingress.axcId: 0, egress.port: 0x10000, egress.axcId: 1\" }\\n[2018-04-28 22:21:02.783310527] (+0.000015094) du1 com_ericsson_triobjif:TRACE6: { cpu_id = 6 }, { processAndObjIf = \"nc_main_thread(ncIcEquipmentControlIfSwU)\", fileAndLine = \"IcDciSessionImpl.cc:476\", msg = \"DU1:Sent RICM_CONFIGURE_IQC_SWITCH_REQ with clientRef=0xb1468c8c, serverRef=0x67756c50\" }\\n[2018-04-28 22:21:02.783377652] (+0.000012562) du1 com_ericsson_triobjif:SEND_SIG: { cpu_id = 9 }, { processAndObjIf = \"Nci_control_proc(RICM_IF_DCI)\", fileAndLine = \"ricm_control_iq.c:1119\", msg = \"signo:164809b receiver :6993 RICM_CONFIGURE_IQC_SWITCH_CFM: unitId: 0x1, carrierBranchId: 2\" }\\n[2018-04-28 22:21:02.783386355] (+0.000008703) du1 com_ericsson_triobjif:TRACE6: { cpu_id = 6 }, { processAndObjIf = \"nc_main_thread(ncDcIf)\", fileAndLine = \"IcDciMsgHelpers.cc:75\", msg = \"RICM_CONFIGURE_IQ_SWITCH_REQ, carrierBranchId=2, unitId=1, ingressPort=0, ingressAxcSlot=4, ingressAxcContainterFormat=2, ingressBfOffset=-1, ingressSubFrame=-1, egressPort=65536, egressAxcSlot=0, egressAxcContainerFormat=2, egressBfOffset=-1, egressSubFrame=15, noOfSlots=4\" }\\n[2018-04-28 22:21:02.783492308] (+0.000083265) du1 com_ericsson_triobjif:REC_SIG: { cpu_id = 9 }, { processAndObjIf = \"Nci_control_proc(RICM_IF_DCI)\", fileAndLine = \"ricm_control_iq.c:1744\", msg = \"signo:1648097 sender :6993 RICM_CONFIGURE_IQ_SWITCH_REQ: unitId: 0x1, carrierBranchId: 2, noOfAxcSlots: 4, ingress.port: 0x0, ingress.axcContFormat: 2, ingress.subFrame: 4294967295, ingress.axcSlot: 4, ingress.bfOffset: 4294967295, egress.port: 0x10000, egress.axcContFormat: 2, egress.subFrame: 15, egress.axcSlot: 0, egress.bfOffset: 4294967295\" }\\n[2018-04-28 22:21:02.783552605] (+0.000049656) du1 com_ericsson_triobjif:TRACE6: { cpu_id = 6 }, { processAndObjIf = \"nc_main_thread(ncIcEquipmentControlIfSwU)\", fileAndLine = \"IcDciSessionImpl.cc:429\", msg = \"DU1:Sent RICM_CONFIGURE_IQ_SWITCH_REQ with clientRef=0xb14455dc, serverRef=0x1c\" }\\n[2018-04-28 22:21:02.783585855] (+0.000010437) du1 com_ericsson_triobjif:SEND_SIG: { cpu_id = 9 }, { processAndObjIf = \"Nci_control_proc(RICM_IF_DCI)\", fileAndLine = \"ricm_control_iq.c:1087\", msg = \"signo:1648098 receiver :6993 RICM_CONFIGURE_IQ_SWITCH_CFM: unitId: 0x1, carrierBranchId: 2\" }\\n[2018-04-28 22:21:02.783630105] (+0.000044250) du1 com_ericsson_triobjif:TRACE6: { cpu_id = 6 }, { processAndObjIf = \"nc_main_thread(ncDcIf)\", fileAndLine = \"IcDciMsgHelpers.cc:108\", msg = \"RICM_CONFIGURE_IQC_SWITCH_REQ, carrierBranchId=2, localCarrierId=2, unitId=1024, ingressPort=65536, ingressAxcId=1, egressPort=65551, egressAxcId=1\" }\\n[2018-04-28 22:21:02.783733215] (+0.000076907) du1 com_ericsson_triobjif:REC_SIG: { cpu_id = 9 }, { processAndObjIf = \"Nci_control_proc(RICM_IF_DCI)\", fileAndLine = \"ricm_control_iq.c:1849\", msg = \"signo:164809a sender :6993 RICM_CONFIGURE_IQC_SWITCH_REQ: unitId: 0x400, carrierBranchId: 2, localCarrierId: 2, ingress.port: 0x10000, ingress.axcId: 1, egress.port: 0x1000F, egress.axcId: 1\" }\\n[2018-04-28 22:21:02.783798387] (+0.000002532) du1 com_ericsson_triobjif:TRACE6: { cpu_id = 6 }, { processAndObjIf = \"nc_main_thread(ncIcEquipmentControlIfSwU)\", fileAndLine = \"IcDciSessionImpl.cc:476\", msg = \"DU1:Sent RICM_CONFIGURE_IQC_SWITCH_REQ with clientRef=0xb16fdab4, serverRef=0x67756c50\" }\\n[2018-04-28 22:21:02.783838715] (+0.000015750) du1 com_ericsson_triobjif:SEND_SIG: { cpu_id = 9 }, { processAndObjIf = \"Nci_control_proc(RICM_IF_RICI)\", fileAndLine = \"spv_rici.c:7077\", msg = \"signo:101929a receiver :b320 RICI_CONFIG_IQC_SWITCH_REQ: unit: DU_0, clientReference: 0xF0E, carrierBranchId: 2, ingressPortNo: 0, ingressAxcId: 1, ingressCarrierId: 2, egressPortNo: 15, egressAxcId: 1, egressCarrierId: 2\" }\\n[2018-04-28 22:21:02.783862699] (+0.000023984) du1 com_ericsson_triobjif:TRACE6: { cpu_id = 6 }, { processAndObjIf = \"nc_main_thread(ncDcIf)\", fileAndLine = \"IcDciMsgHelpers.cc:75\", msg = \"RICM_CONFIGURE_IQ_SWITCH_REQ, carrierBranchId=2, unitId=1024, ingressPort=65536, ingressAxcSlot=0, ingressAxcContainterFormat=2, ingressBfOffset=-1, ingressSubFrame=15, egressPort=65551, egressAxcSlot=0, egressAxcContainerFormat=2, egressBfOffset=-1, egressSubFrame=3, noOfSlots=4\" }\\n[2018-04-28 22:21:02.783971746] (+0.000079563) du1 com_ericsson_triobjif:REC_SIG: { cpu_id = 9 }, { processAndObjIf = \"Nci_control_proc(RICM_IF_DCI)\", fileAndLine = \"ricm_control_iq.c:1744\", msg = \"signo:1648097 sender :6993 RICM_CONFIGURE_IQ_SWITCH_REQ: unitId: 0x400, carrierBranchId: 2, noOfAxcSlots: 4, ingress.port: 0x10000, ingress.axcContFormat: 2, ingress.subFrame: 15, ingress.axcSlot: 0, ingress.bfOffset: 4294967295, egress.port: 0x1000F, egress.axcContFormat: 2, egress.subFrame: 3, egress.axcSlot: 0, egress.bfOffset: 4294967295\" }\\n[2018-04-28 22:21:02.784036152] (+0.000002390) du1 com_ericsson_triobjif:TRACE6: { cpu_id = 6 }, { processAndObjIf = \"nc_main_thread(ncIcEquipmentControlIfSwU)\", fileAndLine = \"IcDciSessionImpl.cc:429\", msg = \"DU1:Sent RICM_CONFIGURE_IQ_SWITCH_REQ with clientRef=0xb1413e04, serverRef=0x1c\" }\\n[2018-04-28 22:21:02.784077715] (+0.000015844) du1 com_ericsson_triobjif:SEND_SIG: { cpu_id = 9 }, { processAndObjIf = \"Nci_control_proc(RICM_IF_RICI)\", fileAndLine = \"spv_rici.c:6861\", msg = \"signo:1019297 receiver :b320 RICI_CONFIG_IQ_SWITCH_REQ: unit: DU_0, clientReference: 0xF0F, wantedAllocation: 0, carrierBranchId: 2, ingressPortNo: 0, ingressSlotFormat: 1, ingressBfOffset: 0xFFFFFFFF, egressPortNo: 15, egressSlotFormat: 1, egressBfOffset: 0xFFFFFFFF, noOfAxcSlots: 4\" }\\n[2018-04-28 22:21:02.784139621] (+0.000061906) du1 com_ericsson_triobjif:TRACE7: { cpu_id = 6 }, { processAndObjIf = \"nc_main_thread(ncIcEquipmentControlIfSwU)\", fileAndLine = \"IcDciSessionManagerImpl.cc:107\", msg = \"handleSignal received RICM_CONFIGURE_IQC_SWITCH_CFM addressInfo.clientRef=0xb1468c8c, addressInfo.serverRef=0x67756c50\" }\\n[2018-04-28 22:21:02.784249793] (+0.000015235) du1 com_ericsson_triobjif:TRACE7: { cpu_id = 6 }, { processAndObjIf = \"nc_main_thread(ncIcEquipmentControlIfSwU)\", fileAndLine = \"IcDciSessionImpl.cc:488\", msg = \"DU1:Received RICM_CONFIGURE_IQC_SWITCH_CFM, addressInfo.clientRef=0xb1468c8c, addressInfo.serverRef=0x67756c50, carrierBranchId=2, unitId=1\" }\\n[2018-04-28 22:21:02.784318480] (+0.000068687) du1 com_ericsson_triobjif:TRACE7: { cpu_id = 6 }, { processAndObjIf = \"nc_main_thread(ncIcEquipmentControlIfSwU)\", fileAndLine = \"IcDciSessionManagerImpl.cc:107\", msg = \"handleSignal received RICM_CONFIGURE_IQ_SWITCH_CFM addressInfo.clientRef=0xb14455dc, addressInfo.serverRef=0x67756c50\" }\\n[2018-04-28 22:21:02.784429293] (+0.000015297) du1 com_ericsson_triobjif:TRACE7: { cpu_id = 6 }, { processAndObjIf = \"nc_main_thread(ncIcEquipmentControlIfSwU)\", fileAndLine = \"IcDciSessionImpl.cc:441\", msg = \"DU1:Received RICM_CONFIGURE_IQ_SWITCH_CFM, addressInfo.clientRef=0xb14455dc, addressInfo.serverRef=0x67756c50, carrierBranchId=2, unitId=1\" }\\n[2018-04-28 22:21:02.789124387] (+0.000012094) du1 com_ericsson_triobjif:REC_SIG: { cpu_id = 9 }, { processAndObjIf = \"Nci_control_proc(RICM_IF_RICI)\", fileAndLine = \"spv_rici.c:7111\", msg = \"signo:101929b sender :b320 RICI_CONFIG_IQC_SWITCH_CFM: unit: DU_0, ruId: 1, clientReference: 0xF0E, carrierBranchId: 2, localSwitchConfigId: 487\" }\\n[2018-04-28 22:21:02.789141402] (+0.000009515) du1 com_ericsson_triobjif:SEND_SIG: { cpu_id = 9 }, { processAndObjIf = \"Nci_control_proc(RICM_IF_DCI)\", fileAndLine = \"ricm_control_iq.c:1119\", msg = \"signo:164809b receiver :6993 RICM_CONFIGURE_IQC_SWITCH_CFM: unitId: 0x400, carrierBranchId: 2\" }\\n[2018-04-28 22:21:02.789259496] (+0.000118094) du1 com_ericsson_triobjif:TRACE7: { cpu_id = 10 }, { processAndObjIf = \"nc_main_thread(ncIcEquipmentControlIfSwU)\", fileAndLine = \"IcDciSessionManagerImpl.cc:107\", msg = \"handleSignal received RICM_CONFIGURE_IQC_SWITCH_CFM addressInfo.clientRef=0xb16fdab4, addressInfo.serverRef=0x67756c50\" }\\n[2018-04-28 22:21:02.789423449] (+0.000021406) du1 com_ericsson_triobjif:TRACE7: { cpu_id = 10 }, { processAndObjIf = \"nc_main_thread(ncIcEquipmentControlIfSwU)\", fileAndLine = \"IcDciSessionImpl.cc:488\", msg = \"DU1:Received RICM_CONFIGURE_IQC_SWITCH_CFM, addressInfo.clientRef=0xb16fdab4, addressInfo.serverRef=0x67756c50, carrierBranchId=2, unitId=1024\" }\\n[2018-04-28 22:21:02.794607637] (+0.000013172) du1 com_ericsson_triobjif:REC_SIG: { cpu_id = 9 }, { processAndObjIf = \"Nci_control_proc(RICM_IF_RICI)\", fileAndLine = \"spv_rici.c:6952\", msg = \"signo:1019298 sender :b320 RICI_CONFIG_IQ_SWITCH_CFM: unit: DU_0, ruId: 1, clientReference: 0xF0F, carrierBranchId: 2, localSwitchConfigId: 737, noOfAxcSlots: 4\" }\\n[2018-04-28 22:21:02.794624918] (+0.000009844) du1 com_ericsson_triobjif:SEND_SIG: { cpu_id = 9 }, { processAndObjIf = \"Nci_control_proc(RICM_IF_DCI)\", fileAndLine = \"ricm_control_iq.c:1087\", msg = \"signo:1648098 receiver :6993 RICM_CONFIGURE_IQ_SWITCH_CFM: unitId: 0x400, carrierBranchId: 2\" }\\n[2018-04-28 22:21:02.794698137] (+0.000073219) du1 com_ericsson_triobjif:TRACE7: { cpu_id = 10 }, { processAndObjIf = \"nc_main_thread(ncIcEquipmentControlIfSwU)\", fileAndLine = \"IcDciSessionManagerImpl.cc:107\", msg = \"handleSignal received RICM_CONFIGURE_IQ_SWITCH_CFM addressInfo.clientRef=0xb1413e04, addressInfo.serverRef=0x67756c50\" }\\n[2018-04-28 22:21:02.794815121] (+0.000016516) du1 com_ericsson_triobjif:TRACE7: { cpu_id = 10 }, { processAndObjIf = \"nc_main_thread(ncIcEquipmentControlIfSwU)\", fileAndLine = \"IcDciSessionImpl.cc:441\", msg = \"DU1:Received RICM_CONFIGURE_IQ_SWITCH_CFM, addressInfo.clientRef=0xb1413e04, addressInfo.serverRef=0x67756c50, carrierBranchId=2, unitId=1024\" }\\n[2018-04-28 22:21:02.796901605] (+0.000095453) du1 com_ericsson_triobjif:TRACE6: { cpu_id = 10 }, { processAndObjIf = \"nc_main_thread(ncDcIf)\", fileAndLine = \"IcDciMsgHelpers.cc:108\", msg = \"RICM_CONFIGURE_IQC_SWITCH_REQ, carrierBranchId=4, localCarrierId=4, unitId=1024, ingressPort=65551, ingressAxcId=13, egressPort=65536, egressAxcId=13\" }\\n[2018-04-28 22:21:02.797026808] (+0.000092968) du1 com_ericsson_triobjif:REC_SIG: { cpu_id = 9 }, { processAndObjIf = \"Nci_control_proc(RICM_IF_DCI)\", fileAndLine = \"ricm_control_iq.c:1849\", msg = \"signo:164809a sender :6993 RICM_CONFIGURE_IQC_SWITCH_REQ: unitId: 0x400, carrierBranchId: 4, localCarrierId: 4, ingress.port: 0x1000F, ingress.axcId: 13, egress.port: 0x10000, egress.axcId: 13\" }\\n[2018-04-28 22:21:02.797092012] (+0.000002750) du1 com_ericsson_triobjif:TRACE6: { cpu_id = 10 }, { processAndObjIf = \"nc_main_thread(ncIcEquipmentControlIfSwU)\", fileAndLine = \"IcDciSessionImpl.cc:476\", msg = \"DU1:Sent RICM_CONFIGURE_IQC_SWITCH_REQ with clientRef=0xb1468c8c, serverRef=0x67756c50\" }\\n[2018-04-28 22:21:02.797123887] (+0.000013891) du1 com_ericsson_triobjif:SEND_SIG: { cpu_id = 9 }, { processAndObjIf = \"Nci_control_proc(RICM_IF_RICI)\", fileAndLine = \"spv_rici.c:7077\", msg = \"signo:101929a receiver :b320 RICI_CONFIG_IQC_SWITCH_REQ: unit: DU_0, clientReference: 0xF10, carrierBranchId: 4, ingressPortNo: 15, ingressAxcId: 13, ingressCarrierId: 4, egressPortNo: 0, egressAxcId: 13, egressCarrierId: 4\" }\\n[2018-04-28 22:21:02.797170105] (+0.000046218) du1 com_ericsson_triobjif:TRACE6: { cpu_id = 10 }, { processAndObjIf = \"nc_main_thread(ncDcIf)\", fileAndLine = \"IcDciMsgHelpers.cc:75\", msg = \"RICM_CONFIGURE_IQ_SWITCH_REQ, carrierBranchId=4, unitId=1024, ingressPort=65551, ingressAxcSlot=0, ingressAxcContainterFormat=8, ingressBfOffset=-1, ingressSubFrame=3, egressPort=65536, egressAxcSlot=0, egressAxcContainerFormat=8, egressBfOffset=-1, egressSubFrame=15, noOfSlots=4\" }\\n[2018-04-28 22:21:02.797278480] (+0.000080250) du1 com_ericsson_triobjif:REC_SIG: { cpu_id = 9 }, { processAndObjIf = \"Nci_control_proc(RICM_IF_DCI)\", fileAndLine = \"ricm_control_iq.c:1744\", msg = \"signo:1648097 sender :6993 RICM_CONFIGURE_IQ_SWITCH_REQ: unitId: 0x400, carrierBranchId: 4, noOfAxcSlots: 4, ingress.port: 0x1000F, ingress.axcContFormat: 8, ingress.subFrame: 3, ingress.axcSlot: 0, ingress.bfOffset: 4294967295, egress.port: 0x10000, egress.axcContFormat: 8, egress.subFrame: 15, egress.axcSlot: 0, egress.bfOffset: 4294967295\" }\\n[2018-04-28 22:21:02.797350574] (+0.000007312) du1 com_ericsson_triobjif:TRACE6: { cpu_id = 10 }, { processAndObjIf = \"nc_main_thread(ncIcEquipmentControlIfSwU)\", fileAndLine = \"IcDciSessionImpl.cc:429\", msg = \"DU1:Sent RICM_CONFIGURE_IQ_SWITCH_REQ with clientRef=0xb14c39fc, serverRef=0x1c\" }\\n[2018-04-28 22:21:02.797370746] (+0.000014234) du1 com_ericsson_triobjif:SEND_SIG: { cpu_id = 9 }, { processAndObjIf = \"Nci_control_proc(RICM_IF_RICI)\", fileAndLine = \"spv_rici.c:6861\", msg = \"signo:1019297 receiver :b320 RICI_CONFIG_IQ_SWITCH_REQ: unit: DU_0, clientReference: 0xF11, wantedAllocation: 0, carrierBranchId: 4, ingressPortNo: 15, ingressSlotFormat: 7, ingressBfOffset: 0xFFFFFFFF, egressPortNo: 0, egressSlotFormat: 7, egressBfOffset: 0xFFFFFFFF, noOfAxcSlots: 4\" }\\n[2018-04-28 22:21:02.797456762] (+0.000045532) du1 com_ericsson_triobjif:TRACE6: { cpu_id = 10 }, { processAndObjIf = \"nc_main_thread(ncDcIf)\", fileAndLine = \"IcDciMsgHelpers.cc:108\", msg = \"RICM_CONFIGURE_IQC_SWITCH_REQ, carrierBranchId=4, localCarrierId=4, unitId=1, ingressPort=65536, ingressAxcId=13, egressPort=0, egressAxcId=0\" }\\n[2018-04-28 22:21:02.797557996] (+0.000080047) du1 com_ericsson_triobjif:REC_SIG: { cpu_id = 9 }, { processAndObjIf = \"Nci_control_proc(RICM_IF_DCI)\", fileAndLine = \"ricm_control_iq.c:1849\", msg = \"signo:164809a sender :6993 RICM_CONFIGURE_IQC_SWITCH_REQ: unitId: 0x1, carrierBranchId: 4, localCarrierId: 4, ingress.port: 0x10000, ingress.axcId: 13, egress.port: 0x0, egress.axcId: 0\" }\\n[2018-04-28 22:21:02.797636949] (+0.000067016) du1 com_ericsson_triobjif:TRACE6: { cpu_id = 10 }, { processAndObjIf = \"nc_main_thread(ncIcEquipmentControlIfSwU)\", fileAndLine = \"IcDciSessionImpl.cc:476\", msg = \"DU1:Sent RICM_CONFIGURE_IQC_SWITCH_REQ with clientRef=0xb143a6f4, serverRef=0x67756c50\" }\\n[2018-04-28 22:21:02.797649996] (+0.000010391) du1 com_ericsson_triobjif:SEND_SIG: { cpu_id = 9 }, { processAndObjIf = \"Nci_control_proc(RICM_IF_DCI)\", fileAndLine = \"ricm_control_iq.c:1119\", msg = \"signo:164809b receiver :6993 RICM_CONFIGURE_IQC_SWITCH_CFM: unitId: 0x1, carrierBranchId: 4\" }\\n[2018-04-28 22:21:02.797704308] (+0.000054312) du1 com_ericsson_triobjif:TRACE6: { cpu_id = 10 }, { processAndObjIf = \"nc_main_thread(ncDcIf)\", fileAndLine = \"IcDciMsgHelpers.cc:75\", msg = \"RICM_CONFIGURE_IQ_SWITCH_REQ, carrierBranchId=4, unitId=1, ingressPort=65536, ingressAxcSlot=0, ingressAxcContainterFormat=8, ingressBfOffset=-1, ingressSubFrame=15, egressPort=0, egressAxcSlot=4, egressAxcContainerFormat=8, egressBfOffset=-1, egressSubFrame=-1, noOfSlots=4\" }\\n[2018-04-28 22:21:02.797802621] (+0.000076500) du1 com_ericsson_triobjif:REC_SIG: { cpu_id = 9 }, { processAndObjIf = \"Nci_control_proc(RICM_IF_DCI)\", fileAndLine = \"ricm_control_iq.c:1744\", msg = \"signo:1648097 sender :6993 RICM_CONFIGURE_IQ_SWITCH_REQ: unitId: 0x1, carrierBranchId: 4, noOfAxcSlots: 4, ingress.port: 0x10000, ingress.axcContFormat: 8, ingress.subFrame: 15, ingress.axcSlot: 0, ingress.bfOffset: 4294967295, egress.port: 0x0, egress.axcContFormat: 8, egress.subFrame: 4294967295, egress.axcSlot: 4, egress.bfOffset: 4294967295\" }\\n[2018-04-28 22:21:02.797878465] (+0.000066000) du1 com_ericsson_triobjif:TRACE6: { cpu_id = 10 }, { processAndObjIf = \"nc_main_thread(ncIcEquipmentControlIfSwU)\", fileAndLine = \"IcDciSessionImpl.cc:429\", msg = \"DU1:Sent RICM_CONFIGURE_IQ_SWITCH_REQ with clientRef=0xb14069c4, serverRef=0x1c\" }\\n[2018-04-28 22:21:02.797891652] (+0.000010453) du1 com_ericsson_triobjif:SEND_SIG: { cpu_id = 9 }, { processAndObjIf = \"Nci_control_proc(RICM_IF_DCI)\", fileAndLine = \"ricm_control_iq.c:1087\", msg = \"signo:1648098 receiver :6993 RICM_CONFIGURE_IQ_SWITCH_CFM: unitId: 0x1, carrierBranchId: 4\" }\\n[2018-04-28 22:21:02.797991527] (+0.000099875) du1 com_ericsson_triobjif:TRACE7: { cpu_id = 10 }, { processAndObjIf = \"nc_main_thread(ncIcEquipmentControlIfSwU)\", fileAndLine = \"IcDciSessionManagerImpl.cc:107\", msg = \"handleSignal received RICM_CONFIGURE_IQC_SWITCH_CFM addressInfo.clientRef=0xb143a6f4, addressInfo.serverRef=0x67756c50\" }\\n[2018-04-28 22:21:02.798102527] (+0.000014515) du1 com_ericsson_triobjif:TRACE7: { cpu_id = 10 }, { processAndObjIf = \"nc_main_thread(ncIcEquipmentControlIfSwU)\", fileAndLine = \"IcDciSessionImpl.cc:488\", msg = \"DU1:Received RICM_CONFIGURE_IQC_SWITCH_CFM, addressInfo.clientRef=0xb143a6f4, addressInfo.serverRef=0x67756c50, carrierBranchId=4, unitId=1\" }\\n[2018-04-28 22:21:02.798169496] (+0.000066969) du1 com_ericsson_triobjif:TRACE7: { cpu_id = 10 }, { processAndObjIf = \"nc_main_thread(ncIcEquipmentControlIfSwU)\", fileAndLine = \"IcDciSessionManagerImpl.cc:107\", msg = \"handleSignal received RICM_CONFIGURE_IQ_SWITCH_CFM addressInfo.clientRef=0xb14069c4, addressInfo.serverRef=0x67756c50\" }\\n[2018-04-28 22:21:02.798273840] (+0.000014110) du1 com_ericsson_triobjif:TRACE7: { cpu_id = 10 }, { processAndObjIf = \"nc_main_thread(ncIcEquipmentControlIfSwU)\", fileAndLine = \"IcDciSessionImpl.cc:441\", msg = \"DU1:Received RICM_CONFIGURE_IQ_SWITCH_CFM, addressInfo.clientRef=0xb14069c4, addressInfo.serverRef=0x67756c50, carrierBranchId=4, unitId=1\" }\\n[2018-04-28 22:21:02.804815137] (+0.000011782) du1 com_ericsson_triobjif:REC_SIG: { cpu_id = 9 }, { processAndObjIf = \"Nci_control_proc(RICM_IF_RICI)\", fileAndLine = \"spv_rici.c:7111\", msg = \"signo:101929b sender :b320 RICI_CONFIG_IQC_SWITCH_CFM: unit: DU_0, ruId: 1, clientReference: 0xF10, carrierBranchId: 4, localSwitchConfigId: 488\" }\\n[2018-04-28 22:21:02.804832715] (+0.000009985) du1 com_ericsson_triobjif:SEND_SIG: { cpu_id = 9 }, { processAndObjIf = \"Nci_control_proc(RICM_IF_DCI)\", fileAndLine = \"ricm_control_iq.c:1119\", msg = \"signo:164809b receiver :6993 RICM_CONFIGURE_IQC_SWITCH_CFM: unitId: 0x400, carrierBranchId: 4\" }\\n[2018-04-28 22:21:02.804903058] (+0.000070343) du1 com_ericsson_triobjif:TRACE7: { cpu_id = 10 }, { processAndObjIf = \"nc_main_thread(ncIcEquipmentControlIfSwU)\", fileAndLine = \"IcDciSessionManagerImpl.cc:107\", msg = \"handleSignal received RICM_CONFIGURE_IQC_SWITCH_CFM addressInfo.clientRef=0xb1468c8c, addressInfo.serverRef=0x67756c50\" }\\n[2018-04-28 22:21:02.805016308] (+0.000016015) du1 com_ericsson_triobjif:TRACE7: { cpu_id = 10 }, { processAndObjIf = \"nc_main_thread(ncIcEquipmentControlIfSwU)\", fileAndLine = \"IcDciSessionImpl.cc:488\", msg = \"DU1:Received RICM_CONFIGURE_IQC_SWITCH_CFM, addressInfo.clientRef=0xb1468c8c, addressInfo.serverRef=0x67756c50, carrierBranchId=4, unitId=1024\" }\\n[2018-04-28 22:21:02.810785402] (+0.000012000) du1 com_ericsson_triobjif:REC_SIG: { cpu_id = 9 }, { processAndObjIf = \"Nci_control_proc(RICM_IF_RICI)\", fileAndLine = \"spv_rici.c:6952\", msg = \"signo:1019298 sender :b320 RICI_CONFIG_IQ_SWITCH_CFM: unit: DU_0, ruId: 1, clientReference: 0xF11, carrierBranchId: 4, localSwitchConfigId: 738, noOfAxcSlots: 4\" }\\n[2018-04-28 22:21:02.810810090] (+0.000009969) du1 com_ericsson_triobjif:SEND_SIG: { cpu_id = 9 }, { processAndObjIf = \"Nci_control_proc(RICM_IF_DCI)\", fileAndLine = \"ricm_control_iq.c:1087\", msg = \"signo:1648098 receiver :6993 RICM_CONFIGURE_IQ_SWITCH_CFM: unitId: 0x400, carrierBranchId: 4\" }\\n[2018-04-28 22:21:02.810874262] (+0.000064172) du1 com_ericsson_triobjif:TRACE7: { cpu_id = 10 }, { processAndObjIf = \"nc_main_thread(ncIcEquipmentControlIfSwU)\", fileAndLine = \"IcDciSessionManagerImpl.cc:107\", msg = \"handleSignal received RICM_CONFIGURE_IQ_SWITCH_CFM addressInfo.clientRef=0xb14c39fc, addressInfo.serverRef=0x67756c50\" }\\n[2018-04-28 22:21:02.810980418] (+0.000014250) du1 com_ericsson_triobjif:TRACE7: { cpu_id = 10 }, { processAndObjIf = \"nc_main_thread(ncIcEquipmentControlIfSwU)\", fileAndLine = \"IcDciSessionImpl.cc:441\", msg = \"DU1:Received RICM_CONFIGURE_IQ_SWITCH_CFM, addressInfo.clientRef=0xb14c39fc, addressInfo.serverRef=0x67756c50, carrierBranchId=4, unitId=1024\" }\\n[2018-04-28 22:21:04.020013418] (+0.000071219) du1 com_ericsson_triobjif:TRACE6: { cpu_id = 6 }, { processAndObjIf = \"nc_main_thread(ncDcIf)\", fileAndLine = \"IcDciMsgHelpers.cc:154\", msg = \"RICM_RELEASE_IQC_SWITCH_REQ, carrierBranchId=2, unitId=1\" }\\n[2018-04-28 22:21:04.020159965] (+0.000113032) du1 com_ericsson_triobjif:REC_SIG: { cpu_id = 9 }, { processAndObjIf = \"Nci_control_proc(RICM_IF_DCI)\", fileAndLine = \"ricm_control_iq.c:1973\", msg = \"signo:16480a0 sender :6993 RICM_RELEASE_IQC_SWITCH_REQ: unitId: 0x1, carrierBranchId: 2\" }\\n[2018-04-28 22:21:04.020216152] (+0.000040922) du1 com_ericsson_triobjif:TRACE6: { cpu_id = 6 }, { processAndObjIf = \"nc_main_thread(ncIcEquipmentControlIfSwU)\", fileAndLine = \"IcDciSessionImpl.cc:570\", msg = \"DU1:Sent RICM_RELEASE_IQC_SWITCH_REQ with clientRef=0xb13a9fbc, serverRef=0x4e20\" }\\n[2018-04-28 22:21:04.020240746] (+0.000012438) du1 com_ericsson_triobjif:SEND_SIG: { cpu_id = 9 }, { processAndObjIf = \"Nci_control_proc(RICM_IF_DCI)\", fileAndLine = \"ricm_control_iq.c:1183\", msg = \"signo:16480a1 receiver :6993 RICM_RELEASE_IQC_SWITCH_CFM: unitId: 0x1, carrierBranchId: 2\" }\\n[2018-04-28 22:21:04.020271324] (+0.000030578) du1 com_ericsson_triobjif:TRACE6: { cpu_id = 6 }, { processAndObjIf = \"nc_main_thread(ncDcIf)\", fileAndLine = \"IcDciMsgHelpers.cc:131\", msg = \"RICM_RELEASE_IQ_SWITCH_REQ, carrierBranchId=2, unitId=1\" }\\n[2018-04-28 22:21:04.020375512] (+0.000073219) du1 com_ericsson_triobjif:REC_SIG: { cpu_id = 9 }, { processAndObjIf = \"Nci_control_proc(RICM_IF_DCI)\", fileAndLine = \"ricm_control_iq.c:1933\", msg = \"signo:164809d sender :6993 RICM_RELEASE_IQ_SWITCH_REQ: unitId: 0x1, carrierBranchId: 2\" }\\n[2018-04-28 22:21:04.020441918] (+0.000008516) du1 com_ericsson_triobjif:TRACE6: { cpu_id = 6 }, { processAndObjIf = \"nc_main_thread(ncIcEquipmentControlIfSwU)\", fileAndLine = \"IcDciSessionImpl.cc:523\", msg = \"DU1:Sent RICM_RELEASE_IQ_SWITCH_REQ with clientRef=0xb16c1adc, serverRef=0x67756c50\" }\\n[2018-04-28 22:21:04.020443558] (+0.000001640) du1 com_ericsson_triobjif:SEND_SIG: { cpu_id = 9 }, { processAndObjIf = \"Nci_control_proc(RICM_IF_DCI)\", fileAndLine = \"ricm_control_iq.c:1151\", msg = \"signo:164809e receiver :6993 RICM_RELEASE_IQ_SWITCH_CFM: unitId: 0x1, carrierBranchId: 2\" }\\n[2018-04-28 22:21:04.020606730] (+0.000163172) du1 com_ericsson_triobjif:TRACE6: { cpu_id = 6 }, { processAndObjIf = \"nc_main_thread(ncDcIf)\", fileAndLine = \"IcDciMsgHelpers.cc:154\", msg = \"RICM_RELEASE_IQC_SWITCH_REQ, carrierBranchId=2, unitId=1024\" }\\n[2018-04-28 22:21:04.020712605] (+0.000077218) du1 com_ericsson_triobjif:REC_SIG: { cpu_id = 9 }, { processAndObjIf = \"Nci_control_proc(RICM_IF_DCI)\", fileAndLine = \"ricm_control_iq.c:1973\", msg = \"signo:16480a0 sender :6993 RICM_RELEASE_IQC_SWITCH_REQ: unitId: 0x400, carrierBranchId: 2\" }\\n[2018-04-28 22:21:04.020759230] (+0.000015531) du1 com_ericsson_triobjif:SEND_SIG: { cpu_id = 9 }, { processAndObjIf = \"Nci_control_proc(RICM_IF_RICI)\", fileAndLine = \"spv_rici.c:7346\", msg = \"signo:10192a0 receiver :b320 RICI_RELEASE_IQC_SWITCH_REQ: unit: DU_0, clientReference: 0xF0E, carrierBranchId: 2, noOfConfigIds: 1\" }\\n[2018-04-28 22:21:04.020782262] (+0.000023032) du1 com_ericsson_triobjif:TRACE6: { cpu_id = 6 }, { processAndObjIf = \"nc_main_thread(ncIcEquipmentControlIfSwU)\", fileAndLine = \"IcDciSessionImpl.cc:570\", msg = \"DU1:Sent RICM_RELEASE_IQC_SWITCH_REQ with clientRef=0xb148609c, serverRef=0x67756c50\" }\\n[2018-04-28 22:21:04.020842449] (+0.000060187) du1 com_ericsson_triobjif:TRACE6: { cpu_id = 6 }, { processAndObjIf = \"nc_main_thread(ncDcIf)\", fileAndLine = \"IcDciMsgHelpers.cc:131\", msg = \"RICM_RELEASE_IQ_SWITCH_REQ, carrierBranchId=2, unitId=1024\" }\\n[2018-04-28 22:21:04.020940340] (+0.000073610) du1 com_ericsson_triobjif:REC_SIG: { cpu_id = 9 }, { processAndObjIf = \"Nci_control_proc(RICM_IF_DCI)\", fileAndLine = \"ricm_control_iq.c:1933\", msg = \"signo:164809d sender :6993 RICM_RELEASE_IQ_SWITCH_REQ: unitId: 0x400, carrierBranchId: 2\" }\\n[2018-04-28 22:21:04.020976996] (+0.000013141) du1 com_ericsson_triobjif:SEND_SIG: { cpu_id = 9 }, { processAndObjIf = \"Nci_control_proc(RICM_IF_RICI)\", fileAndLine = \"spv_rici.c:7200\", msg = \"signo:101929d receiver :b320 RICI_RELEASE_IQ_SWITCH_REQ: unit: DU_0, clientReference: 0xF0F, carrierBranchId: 2, noOfConfigIds: 1\" }\\n[2018-04-28 22:21:04.021010965] (+0.000033969) du1 com_ericsson_triobjif:TRACE6: { cpu_id = 6 }, { processAndObjIf = \"nc_main_thread(ncIcEquipmentControlIfSwU)\", fileAndLine = \"IcDciSessionImpl.cc:523\", msg = \"DU1:Sent RICM_RELEASE_IQ_SWITCH_REQ with clientRef=0xb132bdcc, serverRef=0x4e20\" }\\n[2018-04-28 22:21:04.021112996] (+0.000102031) du1 com_ericsson_triobjif:TRACE7: { cpu_id = 6 }, { processAndObjIf = \"nc_main_thread(ncIcEquipmentControlIfSwU)\", fileAndLine = \"IcDciSessionManagerImpl.cc:107\", msg = \"handleSignal received RICM_RELEASE_IQC_SWITCH_CFM addressInfo.clientRef=0xb13a9fbc, addressInfo.serverRef=0x67756c50\" }\\n[2018-04-28 22:21:04.021224637] (+0.000016110) du1 com_ericsson_triobjif:TRACE7: { cpu_id = 6 }, { processAndObjIf = \"nc_main_thread(ncIcEquipmentControlIfSwU)\", fileAndLine = \"IcDciSessionImpl.cc:582\", msg = \"DU1:Received RICM_RELEASE_IQC_SWITCH_CFM, addressInfo.clientRef=0xb13a9fbc, addressInfo.serverRef=0x67756c50, carrierBranchId=2, unitId=1\" }\\n[2018-04-28 22:21:04.021293871] (+0.000069234) du1 com_ericsson_triobjif:TRACE7: { cpu_id = 6 }, { processAndObjIf = \"nc_main_thread(ncIcEquipmentControlIfSwU)\", fileAndLine = \"IcDciSessionManagerImpl.cc:107\", msg = \"handleSignal received RICM_RELEASE_IQ_SWITCH_CFM addressInfo.clientRef=0xb16c1adc, addressInfo.serverRef=0x67756c50\" }\\n[2018-04-28 22:21:04.021398387] (+0.000014563) du1 com_ericsson_triobjif:TRACE7: { cpu_id = 6 }, { processAndObjIf = \"nc_main_thread(ncIcEquipmentControlIfSwU)\", fileAndLine = \"IcDciSessionImpl.cc:535\", msg = \"DU1:Received RICM_RELEASE_IQ_SWITCH_CFM, addressInfo.clientRef=0xb16c1adc, addressInfo.serverRef=0x67756c50, carrierBranchId=2, unitId=1\" }\\n[2018-04-28 22:21:04.024737730] (+0.000013547) du1 com_ericsson_triobjif:REC_SIG: { cpu_id = 9 }, { processAndObjIf = \"Nci_control_proc(RICM_IF_RICI)\", fileAndLine = \"spv_rici.c:7388\", msg = \"signo:10192a1 sender :b320 RICI_RELEASE_IQC_SWITCH_CFM: unit: DU_0, ruId: 1, clientReference: 0xF0E, carrierBranchId: 2\" }\\n[2018-04-28 22:21:04.024754621] (+0.000010031) du1 com_ericsson_triobjif:SEND_SIG: { cpu_id = 9 }, { processAndObjIf = \"Nci_control_proc(RICM_IF_DCI)\", fileAndLine = \"ricm_control_iq.c:1183\", msg = \"signo:16480a1 receiver :6993 RICM_RELEASE_IQC_SWITCH_CFM: unitId: 0x400, carrierBranchId: 2\" }\\n[2018-04-28 22:21:04.024877996] (+0.000123375) du1 com_ericsson_triobjif:TRACE7: { cpu_id = 10 }, { processAndObjIf = \"nc_main_thread(ncIcEquipmentControlIfSwU)\", fileAndLine = \"IcDciSessionManagerImpl.cc:107\", msg = \"handleSignal received RICM_RELEASE_IQC_SWITCH_CFM addressInfo.clientRef=0xb148609c, addressInfo.serverRef=0x67756c50\" }\\n[2018-04-28 22:21:04.025030637] (+0.000020516) du1 com_ericsson_triobjif:TRACE7: { cpu_id = 10 }, { processAndObjIf = \"nc_main_thread(ncIcEquipmentControlIfSwU)\", fileAndLine = \"IcDciSessionImpl.cc:582\", msg = \"DU1:Received RICM_RELEASE_IQC_SWITCH_CFM, addressInfo.clientRef=0xb148609c, addressInfo.serverRef=0x67756c50, carrierBranchId=2, unitId=1024\" }\\n[2018-04-28 22:21:04.028049465] (+0.000013719) du1 com_ericsson_triobjif:REC_SIG: { cpu_id = 9 }, { processAndObjIf = \"Nci_control_proc(RICM_IF_RICI)\", fileAndLine = \"spv_rici.c:7242\", msg = \"signo:101929e sender :b320 RICI_RELEASE_IQ_SWITCH_CFM: unit: DU_0, ruId: 1, clientReference: 0xF0F, carrierBranchId: 2\" }\\n[2018-04-28 22:21:04.028080371] (+0.000012828) du1 com_ericsson_triobjif:SEND_SIG: { cpu_id = 9 }, { processAndObjIf = \"Nci_control_proc(RICM_IF_DCI)\", fileAndLine = \"ricm_control_iq.c:1151\", msg = \"signo:164809e receiver :6993 RICM_RELEASE_IQ_SWITCH_CFM: unitId: 0x400, carrierBranchId: 2\" }\\n[2018-04-28 22:21:04.028151808] (+0.000071437) du1 com_ericsson_triobjif:TRACE7: { cpu_id = 10 }, { processAndObjIf = \"nc_main_thread(ncIcEquipmentControlIfSwU)\", fileAndLine = \"IcDciSessionManagerImpl.cc:107\", msg = \"handleSignal received RICM_RELEASE_IQ_SWITCH_CFM addressInfo.clientRef=0xb132bdcc, addressInfo.serverRef=0x67756c50\" }\\n[2018-04-28 22:21:04.028274262] (+0.000016391) du1 com_ericsson_triobjif:TRACE7: { cpu_id = 10 }, { processAndObjIf = \"nc_main_thread(ncIcEquipmentControlIfSwU)\", fileAndLine = \"IcDciSessionImpl.cc:535\", msg = \"DU1:Received RICM_RELEASE_IQ_SWITCH_CFM, addressInfo.clientRef=0xb132bdcc, addressInfo.serverRef=0x67756c50, carrierBranchId=2, unitId=1024\" }\\n[2018-04-28 22:21:04.029948933] (+0.000072796) du1 com_ericsson_triobjif:TRACE6: { cpu_id = 10 }, { processAndObjIf = \"nc_main_thread(ncDcIf)\", fileAndLine = \"IcDciMsgHelpers.cc:154\", msg = \"RICM_RELEASE_IQC_SWITCH_REQ, carrierBranchId=4, unitId=1024\" }\\n[2018-04-28 22:21:04.030066933] (+0.000087796) du1 com_ericsson_triobjif:REC_SIG: { cpu_id = 9 }, { processAndObjIf = \"Nci_control_proc(RICM_IF_DCI)\", fileAndLine = \"ricm_control_iq.c:1973\", msg = \"signo:16480a0 sender :6993 RICM_RELEASE_IQC_SWITCH_REQ: unitId: 0x400, carrierBranchId: 4\" }\\n[2018-04-28 22:21:04.030107965] (+0.000012625) du1 com_ericsson_triobjif:SEND_SIG: { cpu_id = 9 }, { processAndObjIf = \"Nci_control_proc(RICM_IF_RICI)\", fileAndLine = \"spv_rici.c:7346\", msg = \"signo:10192a0 receiver :b320 RICI_RELEASE_IQC_SWITCH_REQ: unit: DU_0, clientReference: 0xF10, carrierBranchId: 4, noOfConfigIds: 1\" }\\n[2018-04-28 22:21:04.030161840] (+0.000053875) du1 com_ericsson_triobjif:TRACE6: { cpu_id = 10 }, { processAndObjIf = \"nc_main_thread(ncIcEquipmentControlIfSwU)\", fileAndLine = \"IcDciSessionImpl.cc:570\", msg = \"DU1:Sent RICM_RELEASE_IQC_SWITCH_REQ with clientRef=0xb13f3f84, serverRef=0x4e20\" }\\n[2018-04-28 22:21:04.030212215] (+0.000050375) du1 com_ericsson_triobjif:TRACE6: { cpu_id = 10 }, { processAndObjIf = \"nc_main_thread(ncDcIf)\", fileAndLine = \"IcDciMsgHelpers.cc:131\", msg = \"RICM_RELEASE_IQ_SWITCH_REQ, carrierBranchId=4, unitId=1024\" }\\n[2018-04-28 22:21:04.030311340] (+0.000072891) du1 com_ericsson_triobjif:REC_SIG: { cpu_id = 9 }, { processAndObjIf = \"Nci_control_proc(RICM_IF_DCI)\", fileAndLine = \"ricm_control_iq.c:1933\", msg = \"signo:164809d sender :6993 RICM_RELEASE_IQ_SWITCH_REQ: unitId: 0x400, carrierBranchId: 4\" }\\n[2018-04-28 22:21:04.030346918] (+0.000012047) du1 com_ericsson_triobjif:SEND_SIG: { cpu_id = 9 }, { processAndObjIf = \"Nci_control_proc(RICM_IF_RICI)\", fileAndLine = \"spv_rici.c:7200\", msg = \"signo:101929d receiver :b320 RICI_RELEASE_IQ_SWITCH_REQ: unit: DU_0, clientReference: 0xF11, carrierBranchId: 4, noOfConfigIds: 1\" }\\n[2018-04-28 22:21:04.030383418] (+0.000036500) du1 com_ericsson_triobjif:TRACE6: { cpu_id = 10 }, { processAndObjIf = \"nc_main_thread(ncIcEquipmentControlIfSwU)\", fileAndLine = \"IcDciSessionImpl.cc:523\", msg = \"DU1:Sent RICM_RELEASE_IQ_SWITCH_REQ with clientRef=0xb1392e4c, serverRef=0x4e20\" }\\n[2018-04-28 22:21:04.030445621] (+0.000062203) du1 com_ericsson_triobjif:TRACE6: { cpu_id = 10 }, { processAndObjIf = \"nc_main_thread(ncDcIf)\", fileAndLine = \"IcDciMsgHelpers.cc:154\", msg = \"RICM_RELEASE_IQC_SWITCH_REQ, carrierBranchId=4, unitId=1\" }\\n[2018-04-28 22:21:04.030542668] (+0.000075719) du1 com_ericsson_triobjif:REC_SIG: { cpu_id = 9 }, { processAndObjIf = \"Nci_control_proc(RICM_IF_DCI)\", fileAndLine = \"ricm_control_iq.c:1973\", msg = \"signo:16480a0 sender :6993 RICM_RELEASE_IQC_SWITCH_REQ: unitId: 0x1, carrierBranchId: 4\" }\\n[2018-04-28 22:21:04.030618387] (+0.000010391) du1 com_ericsson_triobjif:SEND_SIG: { cpu_id = 9 }, { processAndObjIf = \"Nci_control_proc(RICM_IF_DCI)\", fileAndLine = \"ricm_control_iq.c:1183\", msg = \"signo:16480a1 receiver :6993 RICM_RELEASE_IQC_SWITCH_CFM: unitId: 0x1, carrierBranchId: 4\" }\\n[2018-04-28 22:21:04.030623808] (+0.000005421) du1 com_ericsson_triobjif:TRACE6: { cpu_id = 10 }, { processAndObjIf = \"nc_main_thread(ncIcEquipmentControlIfSwU)\", fileAndLine = \"IcDciSessionImpl.cc:570\", msg = \"DU1:Sent RICM_RELEASE_IQC_SWITCH_REQ with clientRef=0xb16fd60c, serverRef=0x4e20\" }\\n[2018-04-28 22:21:04.030678465] (+0.000054657) du1 com_ericsson_triobjif:TRACE6: { cpu_id = 10 }, { processAndObjIf = \"nc_main_thread(ncDcIf)\", fileAndLine = \"IcDciMsgHelpers.cc:131\", msg = \"RICM_RELEASE_IQ_SWITCH_REQ, carrierBranchId=4, unitId=1\" }\\n[2018-04-28 22:21:04.030769715] (+0.000071203) du1 com_ericsson_triobjif:REC_SIG: { cpu_id = 9 }, { processAndObjIf = \"Nci_control_proc(RICM_IF_DCI)\", fileAndLine = \"ricm_control_iq.c:1933\", msg = \"signo:164809d sender :6993 RICM_RELEASE_IQ_SWITCH_REQ: unitId: 0x1, carrierBranchId: 4\" }\\n[2018-04-28 22:21:04.030833512] (+0.000009688) du1 com_ericsson_triobjif:SEND_SIG: { cpu_id = 9 }, { processAndObjIf = \"Nci_control_proc(RICM_IF_DCI)\", fileAndLine = \"ricm_control_iq.c:1151\", msg = \"signo:164809e receiver :6993 RICM_RELEASE_IQ_SWITCH_CFM: unitId: 0x1, carrierBranchId: 4\" }\\n[2018-04-28 22:21:04.030840355] (+0.000006843) du1 com_ericsson_triobjif:TRACE6: { cpu_id = 10 }, { processAndObjIf = \"nc_main_thread(ncIcEquipmentControlIfSwU)\", fileAndLine = \"IcDciSessionImpl.cc:523\", msg = \"DU1:Sent RICM_RELEASE_IQ_SWITCH_REQ with clientRef=0xb1346cec, serverRef=0x67756c50\" }\\n[2018-04-28 22:21:04.030990480] (+0.000150125) du1 com_ericsson_triobjif:TRACE7: { cpu_id = 10 }, { processAndObjIf = \"nc_main_thread(ncIcEquipmentControlIfSwU)\", fileAndLine = \"IcDciSessionManagerImpl.cc:107\", msg = \"handleSignal received RICM_RELEASE_IQC_SWITCH_CFM addressInfo.clientRef=0xb16fd60c, addressInfo.serverRef=0x67756c50\" }\\n[2018-04-28 22:21:04.031100324] (+0.000014609) du1 com_ericsson_triobjif:TRACE7: { cpu_id = 10 }, { processAndObjIf = \"nc_main_thread(ncIcEquipmentControlIfSwU)\", fileAndLine = \"IcDciSessionImpl.cc:582\", msg = \"DU1:Received RICM_RELEASE_IQC_SWITCH_CFM, addressInfo.clientRef=0xb16fd60c, addressInfo.serverRef=0x67756c50, carrierBranchId=4, unitId=1\" }\\n[2018-04-28 22:21:04.031168293] (+0.000067969) du1 com_ericsson_triobjif:TRACE7: { cpu_id = 10 }, { processAndObjIf = \"nc_main_thread(ncIcEquipmentControlIfSwU)\", fileAndLine = \"IcDciSessionManagerImpl.cc:107\", msg = \"handleSignal received RICM_RELEASE_IQ_SWITCH_CFM addressInfo.clientRef=0xb1346cec, addressInfo.serverRef=0x67756c50\" }\\n[2018-04-28 22:21:04.031272012] (+0.000013844) du1 com_ericsson_triobjif:TRACE7: { cpu_id = 10 }, { processAndObjIf = \"nc_main_thread(ncIcEquipmentControlIfSwU)\", fileAndLine = \"IcDciSessionImpl.cc:535\", msg = \"DU1:Received RICM_RELEASE_IQ_SWITCH_CFM, addressInfo.clientRef=0xb1346cec, addressInfo.serverRef=0x67756c50, carrierBranchId=4, unitId=1\" }\\n[2018-04-28 22:21:04.037053355] (+0.000012281) du1 com_ericsson_triobjif:REC_SIG: { cpu_id = 9 }, { processAndObjIf = \"Nci_control_proc(RICM_IF_RICI)\", fileAndLine = \"spv_rici.c:7388\", msg = \"signo:10192a1 sender :b320 RICI_RELEASE_IQC_SWITCH_CFM: unit: DU_0, ruId: 1, clientReference: 0xF10, carrierBranchId: 4\" }\\n[2018-04-28 22:21:04.037071512] (+0.000011079) du1 com_ericsson_triobjif:SEND_SIG: { cpu_id = 9 }, { processAndObjIf = \"Nci_control_proc(RICM_IF_DCI)\", fileAndLine = \"ricm_control_iq.c:1183\", msg = \"signo:16480a1 receiver :6993 RICM_RELEASE_IQC_SWITCH_CFM: unitId: 0x400, carrierBranchId: 4\" }\\n[2018-04-28 22:21:04.037140543] (+0.000069031) du1 com_ericsson_triobjif:TRACE7: { cpu_id = 10 }, { processAndObjIf = \"nc_main_thread(ncIcEquipmentControlIfSwU)\", fileAndLine = \"IcDciSessionManagerImpl.cc:107\", msg = \"handleSignal received RICM_RELEASE_IQC_SWITCH_CFM addressInfo.clientRef=0xb13f3f84, addressInfo.serverRef=0x67756c50\" }\\n[2018-04-28 22:21:04.037248996] (+0.000014125) du1 com_ericsson_triobjif:TRACE7: { cpu_id = 10 }, { processAndObjIf = \"nc_main_thread(ncIcEquipmentControlIfSwU)\", fileAndLine = \"IcDciSessionImpl.cc:582\", msg = \"DU1:Received RICM_RELEASE_IQC_SWITCH_CFM, addressInfo.clientRef=0xb13f3f84, addressInfo.serverRef=0x67756c50, carrierBranchId=4, unitId=1024\" }\\n[2018-04-28 22:21:04.040248512] (+0.000010954) du1 com_ericsson_triobjif:REC_SIG: { cpu_id = 9 }, { processAndObjIf = \"Nci_control_proc(RICM_IF_RICI)\", fileAndLine = \"spv_rici.c:7242\", msg = \"signo:101929e sender :b320 RICI_RELEASE_IQ_SWITCH_CFM: unit: DU_0, ruId: 1, clientReference: 0xF11, carrierBranchId: 4\" }\\n[2018-04-28 22:21:04.040273840] (+0.000010219) du1 com_ericsson_triobjif:SEND_SIG: { cpu_id = 9 }, { processAndObjIf = \"Nci_control_proc(RICM_IF_DCI)\", fileAndLine = \"ricm_control_iq.c:1151\", msg = \"signo:164809e receiver :6993 RICM_RELEASE_IQ_SWITCH_CFM: unitId: 0x400, carrierBranchId: 4\" }\\n[2018-04-28 22:21:04.040335949] (+0.000062109) du1 com_ericsson_triobjif:TRACE7: { cpu_id = 10 }, { processAndObjIf = \"nc_main_thread(ncIcEquipmentControlIfSwU)\", fileAndLine = \"IcDciSessionManagerImpl.cc:107\", msg = \"handleSignal received RICM_RELEASE_IQ_SWITCH_CFM addressInfo.clientRef=0xb1392e4c, addressInfo.serverRef=0x67756c50\" }\\n[2018-04-28 22:21:04.040441793] (+0.000013391) du1 com_ericsson_triobjif:TRACE7: { cpu_id = 10 }, { processAndObjIf = \"nc_main_thread(ncIcEquipmentControlIfSwU)\", fileAndLine = \"IcDciSessionImpl.cc:535\", msg = \"DU1:Received RICM_RELEASE_IQ_SWITCH_CFM, addressInfo.clientRef=0xb1392e4c, addressInfo.serverRef=0x67756c50, carrierBranchId=4, unitId=1024\" }\\n[2018-04-28 22:21:05.341283855] (+0.000069718) du1 com_ericsson_triobjif:TRACE6: { cpu_id = 3 }, { processAndObjIf = \"nc_main_thread(ncDcIf)\", fileAndLine = \"IcDciMsgHelpers.cc:108\", msg = \"RICM_CONFIGURE_IQC_SWITCH_REQ, carrierBranchId=2, localCarrierId=2, unitId=1, ingressPort=0, ingressAxcId=0, egressPort=65536, egressAxcId=1\" }\\n[2018-04-28 22:21:05.341463762] (+0.000141438) du1 com_ericsson_triobjif:REC_SIG: { cpu_id = 9 }, { processAndObjIf = \"Nci_control_proc(RICM_IF_DCI)\", fileAndLine = \"ricm_control_iq.c:1849\", msg = \"signo:164809a sender :6993 RICM_CONFIGURE_IQC_SWITCH_REQ: unitId: 0x1, carrierBranchId: 2, localCarrierId: 2, ingress.port: 0x0, ingress.axcId: 0, egress.port: 0x10000, egress.axcId: 1\" }\\n[2018-04-28 22:21:05.341504230] (+0.000017906) du1 com_ericsson_triobjif:TRACE6: { cpu_id = 3 }, { processAndObjIf = \"nc_main_thread(ncIcEquipmentControlIfSwU)\", fileAndLine = \"IcDciSessionImpl.cc:476\", msg = \"DU1:Sent RICM_CONFIGURE_IQC_SWITCH_REQ with clientRef=0xb1452504, serverRef=0x51492065\" }\\n[2018-04-28 22:21:05.341570027] (+0.000012937) du1 com_ericsson_triobjif:SEND_SIG: { cpu_id = 9 }, { processAndObjIf = \"Nci_control_proc(RICM_IF_DCI)\", fileAndLine = \"ricm_control_iq.c:1119\", msg = \"signo:164809b receiver :6993 RICM_CONFIGURE_IQC_SWITCH_CFM: unitId: 0x1, carrierBranchId: 2\" }\\n[2018-04-28 22:21:05.341583777] (+0.000013750) du1 com_ericsson_triobjif:TRACE6: { cpu_id = 3 }, { processAndObjIf = \"nc_main_thread(ncDcIf)\", fileAndLine = \"IcDciMsgHelpers.cc:75\", msg = \"RICM_CONFIGURE_IQ_SWITCH_REQ, carrierBranchId=2, unitId=1, ingressPort=0, ingressAxcSlot=4, ingressAxcContainterFormat=2, ingressBfOffset=-1, ingressSubFrame=-1, egressPort=65536, egressAxcSlot=0, egressAxcContainerFormat=2, egressBfOffset=-1, egressSubFrame=15, noOfSlots=4\" }\\n[2018-04-28 22:21:05.341694855] (+0.000087625) du1 com_ericsson_triobjif:REC_SIG: { cpu_id = 9 }, { processAndObjIf = \"Nci_control_proc(RICM_IF_DCI)\", fileAndLine = \"ricm_control_iq.c:1744\", msg = \"signo:1648097 sender :6993 RICM_CONFIGURE_IQ_SWITCH_REQ: unitId: 0x1, carrierBranchId: 2, noOfAxcSlots: 4, ingress.port: 0x0, ingress.axcContFormat: 2, ingress.subFrame: 4294967295, ingress.axcSlot: 4, ingress.bfOffset: 4294967295, egress.port: 0x10000, egress.axcContFormat: 2, egress.subFrame: 15, egress.axcSlot: 0, egress.bfOffset: 4294967295\" }\\n[2018-04-28 22:21:05.341747824] (+0.000042328) du1 com_ericsson_triobjif:TRACE6: { cpu_id = 3 }, { processAndObjIf = \"nc_main_thread(ncIcEquipmentControlIfSwU)\", fileAndLine = \"IcDciSessionImpl.cc:429\", msg = \"DU1:Sent RICM_CONFIGURE_IQ_SWITCH_REQ with clientRef=0xb13a104c, serverRef=0x1c\" }\\n[2018-04-28 22:21:05.341803340] (+0.000010297) du1 com_ericsson_triobjif:SEND_SIG: { cpu_id = 9 }, { processAndObjIf = \"Nci_control_proc(RICM_IF_DCI)\", fileAndLine = \"ricm_control_iq.c:1087\", msg = \"signo:1648098 receiver :6993 RICM_CONFIGURE_IQ_SWITCH_CFM: unitId: 0x1, carrierBranchId: 2\" }\\n[2018-04-28 22:21:05.341831980] (+0.000028640) du1 com_ericsson_triobjif:TRACE6: { cpu_id = 3 }, { processAndObjIf = \"nc_main_thread(ncDcIf)\", fileAndLine = \"IcDciMsgHelpers.cc:108\", msg = \"RICM_CONFIGURE_IQC_SWITCH_REQ, carrierBranchId=2, localCarrierId=2, unitId=1024, ingressPort=65536, ingressAxcId=1, egressPort=65551, egressAxcId=1\" }\\n[2018-04-28 22:21:05.341939480] (+0.000079703) du1 com_ericsson_triobjif:REC_SIG: { cpu_id = 9 }, { processAndObjIf = \"Nci_control_proc(RICM_IF_DCI)\", fileAndLine = \"ricm_control_iq.c:1849\", msg = \"signo:164809a sender :6993 RICM_CONFIGURE_IQC_SWITCH_REQ: unitId: 0x400, carrierBranchId: 2, localCarrierId: 2, ingress.port: 0x10000, ingress.axcId: 1, egress.port: 0x1000F, egress.axcId: 1\" }\\n[2018-04-28 22:21:05.342001730] (+0.000004890) du1 com_ericsson_triobjif:TRACE6: { cpu_id = 3 }, { processAndObjIf = \"nc_main_thread(ncIcEquipmentControlIfSwU)\", fileAndLine = \"IcDciSessionImpl.cc:476\", msg = \"DU1:Sent RICM_CONFIGURE_IQC_SWITCH_REQ with clientRef=0xb147a024, serverRef=0xb147a024\" }\\n[2018-04-28 22:21:05.342045699] (+0.000015297) du1 com_ericsson_triobjif:SEND_SIG: { cpu_id = 9 }, { processAndObjIf = \"Nci_control_proc(RICM_IF_RICI)\", fileAndLine = \"spv_rici.c:7077\", msg = \"signo:101929a receiver :b320 RICI_CONFIG_IQC_SWITCH_REQ: unit: DU_0, clientReference: 0xF16, carrierBranchId: 2, ingressPortNo: 0, ingressAxcId: 1, ingressCarrierId: 2, egressPortNo: 15, egressAxcId: 1, egressCarrierId: 2\" }\\n[2018-04-28 22:21:05.342124574] (+0.000078875) du1 com_ericsson_triobjif:TRACE6: { cpu_id = 3 }, { processAndObjIf = \"nc_main_thread(ncDcIf)\", fileAndLine = \"IcDciMsgHelpers.cc:75\", msg = \"RICM_CONFIGURE_IQ_SWITCH_REQ, carrierBranchId=2, unitId=1024, ingressPort=65536, ingressAxcSlot=0, ingressAxcContainterFormat=2, ingressBfOffset=-1, ingressSubFrame=15, egressPort=65551, egressAxcSlot=0, egressAxcContainerFormat=2, egressBfOffset=-1, egressSubFrame=3, noOfSlots=4\" }\\n[2018-04-28 22:21:05.342240730] (+0.000086984) du1 com_ericsson_triobjif:REC_SIG: { cpu_id = 9 }, { processAndObjIf = \"Nci_control_proc(RICM_IF_DCI)\", fileAndLine = \"ricm_control_iq.c:1744\", msg = \"signo:1648097 sender :6993 RICM_CONFIGURE_IQ_SWITCH_REQ: unitId: 0x400, carrierBranchId: 2, noOfAxcSlots: 4, ingress.port: 0x10000, ingress.axcContFormat: 2, ingress.subFrame: 15, ingress.axcSlot: 0, ingress.bfOffset: 4294967295, egress.port: 0x1000F, egress.axcContFormat: 2, egress.subFrame: 3, egress.axcSlot: 0, egress.bfOffset: 4294967295\" }\\n[2018-04-28 22:21:05.342296840] (+0.000001938) du1 com_ericsson_triobjif:TRACE6: { cpu_id = 3 }, { processAndObjIf = \"nc_main_thread(ncIcEquipmentControlIfSwU)\", fileAndLine = \"IcDciSessionImpl.cc:429\", msg = \"DU1:Sent RICM_CONFIGURE_IQ_SWITCH_REQ with clientRef=0xb1312e0c, serverRef=0x1c\" }\\n[2018-04-28 22:21:05.342344246] (+0.000015813) du1 com_ericsson_triobjif:SEND_SIG: { cpu_id = 9 }, { processAndObjIf = \"Nci_control_proc(RICM_IF_RICI)\", fileAndLine = \"spv_rici.c:6861\", msg = \"signo:1019297 receiver :b320 RICI_CONFIG_IQ_SWITCH_REQ: unit: DU_0, clientReference: 0xF17, wantedAllocation: 0, carrierBranchId: 2, ingressPortNo: 0, ingressSlotFormat: 1, ingressBfOffset: 0xFFFFFFFF, egressPortNo: 15, egressSlotFormat: 1, egressBfOffset: 0xFFFFFFFF, noOfAxcSlots: 4\" }\\n[2018-04-28 22:21:05.342403324] (+0.000059078) du1 com_ericsson_triobjif:TRACE7: { cpu_id = 3 }, { processAndObjIf = \"nc_main_thread(ncIcEquipmentControlIfSwU)\", fileAndLine = \"IcDciSessionManagerImpl.cc:107\", msg = \"handleSignal received RICM_CONFIGURE_IQC_SWITCH_CFM addressInfo.clientRef=0xb1452504, addressInfo.serverRef=0x67756c50\" }\\n[2018-04-28 22:21:05.342506262] (+0.000015235) du1 com_ericsson_triobjif:TRACE7: { cpu_id = 3 }, { processAndObjIf = \"nc_main_thread(ncIcEquipmentControlIfSwU)\", fileAndLine = \"IcDciSessionImpl.cc:488\", msg = \"DU1:Received RICM_CONFIGURE_IQC_SWITCH_CFM, addressInfo.clientRef=0xb1452504, addressInfo.serverRef=0x67756c50, carrierBranchId=2, unitId=1\" }\\n[2018-04-28 22:21:05.342573746] (+0.000067484) du1 com_ericsson_triobjif:TRACE7: { cpu_id = 3 }, { processAndObjIf = \"nc_main_thread(ncIcEquipmentControlIfSwU)\", fileAndLine = \"IcDciSessionManagerImpl.cc:107\", msg = \"handleSignal received RICM_CONFIGURE_IQ_SWITCH_CFM addressInfo.clientRef=0xb13a104c, addressInfo.serverRef=0x67756c50\" }\\n[2018-04-28 22:21:05.342671590] (+0.000014985) du1 com_ericsson_triobjif:TRACE7: { cpu_id = 3 }, { processAndObjIf = \"nc_main_thread(ncIcEquipmentControlIfSwU)\", fileAndLine = \"IcDciSessionImpl.cc:441\", msg = \"DU1:Received RICM_CONFIGURE_IQ_SWITCH_CFM, addressInfo.clientRef=0xb13a104c, addressInfo.serverRef=0x67756c50, carrierBranchId=2, unitId=1\" }\\n[2018-04-28 22:21:05.347191387] (+0.000013407) du1 com_ericsson_triobjif:REC_SIG: { cpu_id = 9 }, { processAndObjIf = \"Nci_control_proc(RICM_IF_RICI)\", fileAndLine = \"spv_rici.c:7111\", msg = \"signo:101929b sender :b320 RICI_CONFIG_IQC_SWITCH_CFM: unit: DU_0, ruId: 1, clientReference: 0xF16, carrierBranchId: 2, localSwitchConfigId: 489\" }\\n[2018-04-28 22:21:05.347208543] (+0.000009625) du1 com_ericsson_triobjif:SEND_SIG: { cpu_id = 9 }, { processAndObjIf = \"Nci_control_proc(RICM_IF_DCI)\", fileAndLine = \"ricm_control_iq.c:1119\", msg = \"signo:164809b receiver :6993 RICM_CONFIGURE_IQC_SWITCH_CFM: unitId: 0x400, carrierBranchId: 2\" }\\n[2018-04-28 22:21:05.347334277] (+0.000125734) du1 com_ericsson_triobjif:TRACE7: { cpu_id = 10 }, { processAndObjIf = \"nc_main_thread(ncIcEquipmentControlIfSwU)\", fileAndLine = \"IcDciSessionManagerImpl.cc:107\", msg = \"handleSignal received RICM_CONFIGURE_IQC_SWITCH_CFM addressInfo.clientRef=0xb147a024, addressInfo.serverRef=0x67756c50\" }\\n[2018-04-28 22:21:05.347481730] (+0.000020047) du1 com_ericsson_triobjif:TRACE7: { cpu_id = 10 }, { processAndObjIf = \"nc_main_thread(ncIcEquipmentControlIfSwU)\", fileAndLine = \"IcDciSessionImpl.cc:488\", msg = \"DU1:Received RICM_CONFIGURE_IQC_SWITCH_CFM, addressInfo.clientRef=0xb147a024, addressInfo.serverRef=0x67756c50, carrierBranchId=2, unitId=1024\" }\\n[2018-04-28 22:21:05.352667855] (+0.000012531) du1 com_ericsson_triobjif:REC_SIG: { cpu_id = 9 }, { processAndObjIf = \"Nci_control_proc(RICM_IF_RICI)\", fileAndLine = \"spv_rici.c:6952\", msg = \"signo:1019298 sender :b320 RICI_CONFIG_IQ_SWITCH_CFM: unit: DU_0, ruId: 1, clientReference: 0xF17, carrierBranchId: 2, localSwitchConfigId: 739, noOfAxcSlots: 4\" }\\n[2018-04-28 22:21:05.352685074] (+0.000009562) du1 com_ericsson_triobjif:SEND_SIG: { cpu_id = 9 }, { processAndObjIf = \"Nci_control_proc(RICM_IF_DCI)\", fileAndLine = \"ricm_control_iq.c:1087\", msg = \"signo:1648098 receiver :6993 RICM_CONFIGURE_IQ_SWITCH_CFM: unitId: 0x400, carrierBranchId: 2\" }\\n[2018-04-28 22:21:05.352753980] (+0.000068906) du1 com_ericsson_triobjif:TRACE7: { cpu_id = 10 }, { processAndObjIf = \"nc_main_thread(ncIcEquipmentControlIfSwU)\", fileAndLine = \"IcDciSessionManagerImpl.cc:107\", msg = \"handleSignal received RICM_CONFIGURE_IQ_SWITCH_CFM addressInfo.clientRef=0xb1312e0c, addressInfo.serverRef=0x67756c50\" }\\n[2018-04-28 22:21:05.352875308] (+0.000016171) du1 com_ericsson_triobjif:TRACE7: { cpu_id = 10 }, { processAndObjIf = \"nc_main_thread(ncIcEquipmentControlIfSwU)\", fileAndLine = \"IcDciSessionImpl.cc:441\", msg = \"DU1:Received RICM_CONFIGURE_IQ_SWITCH_CFM, addressInfo.clientRef=0xb1312e0c, addressInfo.serverRef=0x67756c50, carrierBranchId=2, unitId=1024\" }\\n[2018-04-28 22:21:05.357691824] (+0.000069156) du1 com_ericsson_triobjif:TRACE6: { cpu_id = 10 }, { processAndObjIf = \"nc_main_thread(ncDcIf)\", fileAndLine = \"IcDciMsgHelpers.cc:108\", msg = \"RICM_CONFIGURE_IQC_SWITCH_REQ, carrierBranchId=3, localCarrierId=3, unitId=1, ingressPort=0, ingressAxcId=0, egressPort=65536, egressAxcId=1\" }\\n[2018-04-28 22:21:05.357840387] (+0.000112938) du1 com_ericsson_triobjif:REC_SIG: { cpu_id = 9 }, { processAndObjIf = \"Nci_control_proc(RICM_IF_DCI)\", fileAndLine = \"ricm_control_iq.c:1849\", msg = \"signo:164809a sender :6993 RICM_CONFIGURE_IQC_SWITCH_REQ: unitId: 0x1, carrierBranchId: 3, localCarrierId: 3, ingress.port: 0x0, ingress.axcId: 0, egress.port: 0x10000, egress.axcId: 1\" }\\n[2018-04-28 22:21:05.357911496] (+0.000057156) du1 com_ericsson_triobjif:TRACE6: { cpu_id = 10 }, { processAndObjIf = \"nc_main_thread(ncIcEquipmentControlIfSwU)\", fileAndLine = \"IcDciSessionImpl.cc:476\", msg = \"DU1:Sent RICM_CONFIGURE_IQC_SWITCH_REQ with clientRef=0xb16bac34, serverRef=0x0\" }\\n[2018-04-28 22:21:05.357941340] (+0.000012453) du1 com_ericsson_triobjif:SEND_SIG: { cpu_id = 9 }, { processAndObjIf = \"Nci_control_proc(RICM_IF_DCI)\", fileAndLine = \"ricm_control_iq.c:1119\", msg = \"signo:164809b receiver :6993 RICM_CONFIGURE_IQC_SWITCH_CFM: unitId: 0x1, carrierBranchId: 3\" }\\n[2018-04-28 22:21:05.358004699] (+0.000063359) du1 com_ericsson_triobjif:TRACE6: { cpu_id = 10 }, { processAndObjIf = \"nc_main_thread(ncDcIf)\", fileAndLine = \"IcDciMsgHelpers.cc:75\", msg = \"RICM_CONFIGURE_IQ_SWITCH_REQ, carrierBranchId=3, unitId=1, ingressPort=0, ingressAxcSlot=8, ingressAxcContainterFormat=2, ingressBfOffset=-1, ingressSubFrame=-1, egressPort=65536, egressAxcSlot=0, egressAxcContainerFormat=2, egressBfOffset=-1, egressSubFrame=14, noOfSlots=4\" }\\n[2018-04-28 22:21:05.358131433] (+0.000090875) du1 com_ericsson_triobjif:REC_SIG: { cpu_id = 9 }, { processAndObjIf = \"Nci_control_proc(RICM_IF_DCI)\", fileAndLine = \"ricm_control_iq.c:1744\", msg = \"signo:1648097 sender :6993 RICM_CONFIGURE_IQ_SWITCH_REQ: unitId: 0x1, carrierBranchId: 3, noOfAxcSlots: 4, ingress.port: 0x0, ingress.axcContFormat: 2, ingress.subFrame: 4294967295, ingress.axcSlot: 8, ingress.bfOffset: 4294967295, egress.port: 0x10000, egress.axcContFormat: 2, egress.subFrame: 14, egress.axcSlot: 0, egress.bfOffset: 4294967295\" }\\n[2018-04-28 22:21:05.358203355] (+0.000060687) du1 com_ericsson_triobjif:TRACE6: { cpu_id = 10 }, { processAndObjIf = \"nc_main_thread(ncIcEquipmentControlIfSwU)\", fileAndLine = \"IcDciSessionImpl.cc:429\", msg = \"DU1:Sent RICM_CONFIGURE_IQ_SWITCH_REQ with clientRef=0xb13d3234, serverRef=0x1c\" }\\n[2018-04-28 22:21:05.358219183] (+0.000010750) du1 com_ericsson_triobjif:SEND_SIG: { cpu_id = 9 }, { processAndObjIf = \"Nci_control_proc(RICM_IF_DCI)\", fileAndLine = \"ricm_control_iq.c:1087\", msg = \"signo:1648098 receiver :6993 RICM_CONFIGURE_IQ_SWITCH_CFM: unitId: 0x1, carrierBranchId: 3\" }\\n[2018-04-28 22:21:05.358287980] (+0.000068797) du1 com_ericsson_triobjif:TRACE6: { cpu_id = 10 }, { processAndObjIf = \"nc_main_thread(ncDcIf)\", fileAndLine = \"IcDciMsgHelpers.cc:108\", msg = \"RICM_CONFIGURE_IQC_SWITCH_REQ, carrierBranchId=3, localCarrierId=3, unitId=1024, ingressPort=65536, ingressAxcId=1, egressPort=65551, egressAxcId=1\" }\\n[2018-04-28 22:21:05.358390496] (+0.000075125) du1 com_ericsson_triobjif:REC_SIG: { cpu_id = 9 }, { processAndObjIf = \"Nci_control_proc(RICM_IF_DCI)\", fileAndLine = \"ricm_control_iq.c:1849\", msg = \"signo:164809a sender :6993 RICM_CONFIGURE_IQC_SWITCH_REQ: unitId: 0x400, carrierBranchId: 3, localCarrierId: 3, ingress.port: 0x10000, ingress.axcId: 1, egress.port: 0x1000F, egress.axcId: 1\" }\\n[2018-04-28 22:21:05.358458387] (+0.000005829) du1 com_ericsson_triobjif:TRACE6: { cpu_id = 10 }, { processAndObjIf = \"nc_main_thread(ncIcEquipmentControlIfSwU)\", fileAndLine = \"IcDciSessionImpl.cc:476\", msg = \"DU1:Sent RICM_CONFIGURE_IQC_SWITCH_REQ with clientRef=0xb1312e0c, serverRef=0x1c\" }\\n[2018-04-28 22:21:05.358488652] (+0.000015219) du1 com_ericsson_triobjif:SEND_SIG: { cpu_id = 9 }, { processAndObjIf = \"Nci_control_proc(RICM_IF_RICI)\", fileAndLine = \"spv_rici.c:7077\", msg = \"signo:101929a receiver :b320 RICI_CONFIG_IQC_SWITCH_REQ: unit: DU_0, clientReference: 0xF1A, carrierBranchId: 3, ingressPortNo: 0, ingressAxcId: 1, ingressCarrierId: 3, egressPortNo: 15, egressAxcId: 1, egressCarrierId: 3\" }\\n[2018-04-28 22:21:05.358529355] (+0.000040703) du1 com_ericsson_triobjif:TRACE6: { cpu_id = 10 }, { processAndObjIf = \"nc_main_thread(ncDcIf)\", fileAndLine = \"IcDciMsgHelpers.cc:75\", msg = \"RICM_CONFIGURE_IQ_SWITCH_REQ, carrierBranchId=3, unitId=1024, ingressPort=65536, ingressAxcSlot=0, ingressAxcContainterFormat=2, ingressBfOffset=-1, ingressSubFrame=14, egressPort=65551, egressAxcSlot=0, egressAxcContainerFormat=2, egressBfOffset=-1, egressSubFrame=2, noOfSlots=4\" }\\n[2018-04-28 22:21:05.358631090] (+0.000077844) du1 com_ericsson_triobjif:REC_SIG: { cpu_id = 9 }, { processAndObjIf = \"Nci_control_proc(RICM_IF_DCI)\", fileAndLine = \"ricm_control_iq.c:1744\", msg = \"signo:1648097 sender :6993 RICM_CONFIGURE_IQ_SWITCH_REQ: unitId: 0x400, carrierBranchId: 3, noOfAxcSlots: 4, ingress.port: 0x10000, ingress.axcContFormat: 2, ingress.subFrame: 14, ingress.axcSlot: 0, ingress.bfOffset: 4294967295, egress.port: 0x1000F, egress.axcContFormat: 2, egress.subFrame: 2, egress.axcSlot: 0, egress.bfOffset: 4294967295\" }\\n[2018-04-28 22:21:05.358717152] (+0.000013578) du1 com_ericsson_triobjif:TRACE6: { cpu_id = 10 }, { processAndObjIf = \"nc_main_thread(ncIcEquipmentControlIfSwU)\", fileAndLine = \"IcDciSessionImpl.cc:429\", msg = \"DU1:Sent RICM_CONFIGURE_IQ_SWITCH_REQ with clientRef=0xb146acb4, serverRef=0x1c\" }\\n[2018-04-28 22:21:05.358732465] (+0.000014610) du1 com_ericsson_triobjif:SEND_SIG: { cpu_id = 9 }, { processAndObjIf = \"Nci_control_proc(RICM_IF_RICI)\", fileAndLine = \"spv_rici.c:6861\", msg = \"signo:1019297 receiver :b320 RICI_CONFIG_IQ_SWITCH_REQ: unit: DU_0, clientReference: 0xF1B, wantedAllocation: 0, carrierBranchId: 3, ingressPortNo: 0, ingressSlotFormat: 1, ingressBfOffset: 0xFFFFFFFF, egressPortNo: 15, egressSlotFormat: 1, egressBfOffset: 0xFFFFFFFF, noOfAxcSlots: 4\" }\\n[2018-04-28 22:21:05.358820324] (+0.000087859) du1 com_ericsson_triobjif:TRACE7: { cpu_id = 10 }, { processAndObjIf = \"nc_main_thread(ncIcEquipmentControlIfSwU)\", fileAndLine = \"IcDciSessionManagerImpl.cc:107\", msg = \"handleSignal received RICM_CONFIGURE_IQC_SWITCH_CFM addressInfo.clientRef=0xb16bac34, addressInfo.serverRef=0x67756c50\" }\\n[2018-04-28 22:21:05.358943277] (+0.000014500) du1 com_ericsson_triobjif:TRACE7: { cpu_id = 10 }, { processAndObjIf = \"nc_main_thread(ncIcEquipmentControlIfSwU)\", fileAndLine = \"IcDciSessionImpl.cc:488\", msg = \"DU1:Received RICM_CONFIGURE_IQC_SWITCH_CFM, addressInfo.clientRef=0xb16bac34, addressInfo.serverRef=0x67756c50, carrierBranchId=3, unitId=1\" }\\n[2018-04-28 22:21:05.359011152] (+0.000067875) du1 com_ericsson_triobjif:TRACE7: { cpu_id = 10 }, { processAndObjIf = \"nc_main_thread(ncIcEquipmentControlIfSwU)\", fileAndLine = \"IcDciSessionManagerImpl.cc:107\", msg = \"handleSignal received RICM_CONFIGURE_IQ_SWITCH_CFM addressInfo.clientRef=0xb13d3234, addressInfo.serverRef=0x67756c50\" }\\n[2018-04-28 22:21:05.359117887] (+0.000014719) du1 com_ericsson_triobjif:TRACE7: { cpu_id = 10 }, { processAndObjIf = \"nc_main_thread(ncIcEquipmentControlIfSwU)\", fileAndLine = \"IcDciSessionImpl.cc:441\", msg = \"DU1:Received RICM_CONFIGURE_IQ_SWITCH_CFM, addressInfo.clientRef=0xb13d3234, addressInfo.serverRef=0x67756c50, carrierBranchId=3, unitId=1\" }\\n[2018-04-28 22:21:05.361414168] (+0.000011406) du1 com_ericsson_triobjif:REC_SIG: { cpu_id = 9 }, { processAndObjIf = \"Nci_control_proc(RICM_IF_RICI)\", fileAndLine = \"spv_rici.c:7111\", msg = \"signo:101929b sender :b320 RICI_CONFIG_IQC_SWITCH_CFM: unit: DU_0, ruId: 1, clientReference: 0xF1A, carrierBranchId: 3, localSwitchConfigId: 489\" }\\n[2018-04-28 22:21:05.361431262] (+0.000009688) du1 com_ericsson_triobjif:SEND_SIG: { cpu_id = 9 }, { processAndObjIf = \"Nci_control_proc(RICM_IF_DCI)\", fileAndLine = \"ricm_control_iq.c:1119\", msg = \"signo:164809b receiver :6993 RICM_CONFIGURE_IQC_SWITCH_CFM: unitId: 0x400, carrierBranchId: 3\" }\\n[2018-04-28 22:21:05.361496340] (+0.000065078) du1 com_ericsson_triobjif:TRACE7: { cpu_id = 10 }, { processAndObjIf = \"nc_main_thread(ncIcEquipmentControlIfSwU)\", fileAndLine = \"IcDciSessionManagerImpl.cc:107\", msg = \"handleSignal received RICM_CONFIGURE_IQC_SWITCH_CFM addressInfo.clientRef=0xb1312e0c, addressInfo.serverRef=0x67756c50\" }\\n[2018-04-28 22:21:05.361605012] (+0.000014469) du1 com_ericsson_triobjif:TRACE7: { cpu_id = 10 }, { processAndObjIf = \"nc_main_thread(ncIcEquipmentControlIfSwU)\", fileAndLine = \"IcDciSessionImpl.cc:488\", msg = \"DU1:Received RICM_CONFIGURE_IQC_SWITCH_CFM, addressInfo.clientRef=0xb1312e0c, addressInfo.serverRef=0x67756c50, carrierBranchId=3, unitId=1024\" }\\n[2018-04-28 22:21:05.366796058] (+0.000012234) du1 com_ericsson_triobjif:REC_SIG: { cpu_id = 9 }, { processAndObjIf = \"Nci_control_proc(RICM_IF_RICI)\", fileAndLine = \"spv_rici.c:6952\", msg = \"signo:1019298 sender :b320 RICI_CONFIG_IQ_SWITCH_CFM: unit: DU_0, ruId: 1, clientReference: 0xF1B, carrierBranchId: 3, localSwitchConfigId: 740, noOfAxcSlots: 4\" }\\n[2018-04-28 22:21:05.366813543] (+0.000009563) du1 com_ericsson_triobjif:SEND_SIG: { cpu_id = 9 }, { processAndObjIf = \"Nci_control_proc(RICM_IF_DCI)\", fileAndLine = \"ricm_control_iq.c:1087\", msg = \"signo:1648098 receiver :6993 RICM_CONFIGURE_IQ_SWITCH_CFM: unitId: 0x400, carrierBranchId: 3\" }\\n[2018-04-28 22:21:05.366875965] (+0.000062422) du1 com_ericsson_triobjif:TRACE7: { cpu_id = 10 }, { processAndObjIf = \"nc_main_thread(ncIcEquipmentControlIfSwU)\", fileAndLine = \"IcDciSessionManagerImpl.cc:107\", msg = \"handleSignal received RICM_CONFIGURE_IQ_SWITCH_CFM addressInfo.clientRef=0xb146acb4, addressInfo.serverRef=0x67756c50\" }\\n[2018-04-28 22:21:05.366982012] (+0.000014188) du1 com_ericsson_triobjif:TRACE7: { cpu_id = 10 }, { processAndObjIf = \"nc_main_thread(ncIcEquipmentControlIfSwU)\", fileAndLine = \"IcDciSessionImpl.cc:441\", msg = \"DU1:Received RICM_CONFIGURE_IQ_SWITCH_CFM, addressInfo.clientRef=0xb146acb4, addressInfo.serverRef=0x67756c50, carrierBranchId=3, unitId=1024\" }\\n[2018-04-28 22:21:05.376044277] (+0.000114672) du1 com_ericsson_triobjif:TRACE6: { cpu_id = 10 }, { processAndObjIf = \"nc_main_thread(ncDcIf)\", fileAndLine = \"IcDciMsgHelpers.cc:108\", msg = \"RICM_CONFIGURE_IQC_SWITCH_REQ, carrierBranchId=4, localCarrierId=4, unitId=1024, ingressPort=65551, ingressAxcId=13, egressPort=65536, egressAxcId=13\" }\\n[2018-04-28 22:21:05.376206887] (+0.000121891) du1 com_ericsson_triobjif:REC_SIG: { cpu_id = 9 }, { processAndObjIf = \"Nci_control_proc(RICM_IF_DCI)\", fileAndLine = \"ricm_control_iq.c:1849\", msg = \"signo:164809a sender :6993 RICM_CONFIGURE_IQC_SWITCH_REQ: unitId: 0x400, carrierBranchId: 4, localCarrierId: 4, ingress.port: 0x1000F, ingress.axcId: 13, egress.port: 0x10000, egress.axcId: 13\" }\\n[2018-04-28 22:21:05.376276012] (+0.000000485) du1 com_ericsson_triobjif:TRACE6: { cpu_id = 10 }, { processAndObjIf = \"nc_main_thread(ncIcEquipmentControlIfSwU)\", fileAndLine = \"IcDciSessionImpl.cc:476\", msg = \"DU1:Sent RICM_CONFIGURE_IQC_SWITCH_REQ with clientRef=0xb13d6914, serverRef=0x0\" }\\n[2018-04-28 22:21:05.376315371] (+0.000017156) du1 com_ericsson_triobjif:SEND_SIG: { cpu_id = 9 }, { processAndObjIf = \"Nci_control_proc(RICM_IF_RICI)\", fileAndLine = \"spv_rici.c:7077\", msg = \"signo:101929a receiver :b320 RICI_CONFIG_IQC_SWITCH_REQ: unit: DU_0, clientReference: 0xF1C, carrierBranchId: 4, ingressPortNo: 15, ingressAxcId: 13, ingressCarrierId: 4, egressPortNo: 0, egressAxcId: 13, egressCarrierId: 4\" }\\n[2018-04-28 22:21:05.376359433] (+0.000044062) du1 com_ericsson_triobjif:TRACE6: { cpu_id = 10 }, { processAndObjIf = \"nc_main_thread(ncDcIf)\", fileAndLine = \"IcDciMsgHelpers.cc:75\", msg = \"RICM_CONFIGURE_IQ_SWITCH_REQ, carrierBranchId=4, unitId=1024, ingressPort=65551, ingressAxcSlot=0, ingressAxcContainterFormat=8, ingressBfOffset=-1, ingressSubFrame=3, egressPort=65536, egressAxcSlot=0, egressAxcContainerFormat=8, egressBfOffset=-1, egressSubFrame=15, noOfSlots=4\" }\\n[2018-04-28 22:21:05.376480355] (+0.000083625) du1 com_ericsson_triobjif:REC_SIG: { cpu_id = 9 }, { processAndObjIf = \"Nci_control_proc(RICM_IF_DCI)\", fileAndLine = \"ricm_control_iq.c:1744\", msg = \"signo:1648097 sender :6993 RICM_CONFIGURE_IQ_SWITCH_REQ: unitId: 0x400, carrierBranchId: 4, noOfAxcSlots: 4, ingress.port: 0x1000F, ingress.axcContFormat: 8, ingress.subFrame: 3, ingress.axcSlot: 0, ingress.bfOffset: 4294967295, egress.port: 0x10000, egress.axcContFormat: 8, egress.subFrame: 15, egress.axcSlot: 0, egress.bfOffset: 4294967295\" }\\n[2018-04-28 22:21:05.376568121] (+0.000000359) du1 com_ericsson_triobjif:TRACE6: { cpu_id = 10 }, { processAndObjIf = \"nc_main_thread(ncIcEquipmentControlIfSwU)\", fileAndLine = \"IcDciSessionImpl.cc:429\", msg = \"DU1:Sent RICM_CONFIGURE_IQ_SWITCH_REQ with clientRef=0xb145dfe4, serverRef=0xb145dfe4\" }\\n[2018-04-28 22:21:05.376620183] (+0.000015875) du1 com_ericsson_triobjif:SEND_SIG: { cpu_id = 9 }, { processAndObjIf = \"Nci_control_proc(RICM_IF_RICI)\", fileAndLine = \"spv_rici.c:6861\", msg = \"signo:1019297 receiver :b320 RICI_CONFIG_IQ_SWITCH_REQ: unit: DU_0, clientReference: 0xF1D, wantedAllocation: 0, carrierBranchId: 4, ingressPortNo: 15, ingressSlotFormat: 7, ingressBfOffset: 0xFFFFFFFF, egressPortNo: 0, egressSlotFormat: 7, egressBfOffset: 0xFFFFFFFF, noOfAxcSlots: 4\" }\\n[2018-04-28 22:21:05.376693277] (+0.000059281) du1 com_ericsson_triobjif:TRACE6: { cpu_id = 10 }, { processAndObjIf = \"nc_main_thread(ncDcIf)\", fileAndLine = \"IcDciMsgHelpers.cc:108\", msg = \"RICM_CONFIGURE_IQC_SWITCH_REQ, carrierBranchId=4, localCarrierId=4, unitId=1, ingressPort=65536, ingressAxcId=13, egressPort=0, egressAxcId=0\" }\\n[2018-04-28 22:21:05.376816371] (+0.000099594) du1 com_ericsson_triobjif:REC_SIG: { cpu_id = 9 }, { processAndObjIf = \"Nci_control_proc(RICM_IF_DCI)\", fileAndLine = \"ricm_control_iq.c:1849\", msg = \"signo:164809a sender :6993 RICM_CONFIGURE_IQC_SWITCH_REQ: unitId: 0x1, carrierBranchId: 4, localCarrierId: 4, ingress.port: 0x10000, ingress.axcId: 13, egress.port: 0x0, egress.axcId: 0\" }\\n[2018-04-28 22:21:05.376931121] (+0.000011531) du1 com_ericsson_triobjif:SEND_SIG: { cpu_id = 9 }, { processAndObjIf = \"Nci_control_proc(RICM_IF_DCI)\", fileAndLine = \"ricm_control_iq.c:1119\", msg = \"signo:164809b receiver :6993 RICM_CONFIGURE_IQC_SWITCH_CFM: unitId: 0x1, carrierBranchId: 4\" }\\n[2018-04-28 22:21:05.376953027] (+0.000021906) du1 com_ericsson_triobjif:TRACE6: { cpu_id = 10 }, { processAndObjIf = \"nc_main_thread(ncIcEquipmentControlIfSwU)\", fileAndLine = \"IcDciSessionImpl.cc:476\", msg = \"DU1:Sent RICM_CONFIGURE_IQC_SWITCH_REQ with clientRef=0xb1636934, serverRef=0x1c\" }\\n[2018-04-28 22:21:05.377026090] (+0.000073063) du1 com_ericsson_triobjif:TRACE6: { cpu_id = 10 }, { processAndObjIf = \"nc_main_thread(ncDcIf)\", fileAndLine = \"IcDciMsgHelpers.cc:75\", msg = \"RICM_CONFIGURE_IQ_SWITCH_REQ, carrierBranchId=4, unitId=1, ingressPort=65536, ingressAxcSlot=0, ingressAxcContainterFormat=8, ingressBfOffset=-1, ingressSubFrame=15, egressPort=0, egressAxcSlot=4, egressAxcContainerFormat=8, egressBfOffset=-1, egressSubFrame=-1, noOfSlots=4\" }\\n[2018-04-28 22:21:05.377139090] (+0.000089797) du1 com_ericsson_triobjif:REC_SIG: { cpu_id = 9 }, { processAndObjIf = \"Nci_control_proc(RICM_IF_DCI)\", fileAndLine = \"ricm_control_iq.c:1744\", msg = \"signo:1648097 sender :6993 RICM_CONFIGURE_IQ_SWITCH_REQ: unitId: 0x1, carrierBranchId: 4, noOfAxcSlots: 4, ingress.port: 0x10000, ingress.axcContFormat: 8, ingress.subFrame: 15, ingress.axcSlot: 0, ingress.bfOffset: 4294967295, egress.port: 0x0, egress.axcContFormat: 8, egress.subFrame: 4294967295, egress.axcSlot: 4, egress.bfOffset: 4294967295\" }\\n[2018-04-28 22:21:05.377223668] (+0.000074094) du1 com_ericsson_triobjif:TRACE6: { cpu_id = 10 }, { processAndObjIf = \"nc_main_thread(ncIcEquipmentControlIfSwU)\", fileAndLine = \"IcDciSessionImpl.cc:429\", msg = \"DU1:Sent RICM_CONFIGURE_IQ_SWITCH_REQ with clientRef=0xb1415bd4, serverRef=0x1c\" }\\n[2018-04-28 22:21:05.377237840] (+0.000010828) du1 com_ericsson_triobjif:SEND_SIG: { cpu_id = 9 }, { processAndObjIf = \"Nci_control_proc(RICM_IF_DCI)\", fileAndLine = \"ricm_control_iq.c:1087\", msg = \"signo:1648098 receiver :6993 RICM_CONFIGURE_IQ_SWITCH_CFM: unitId: 0x1, carrierBranchId: 4\" }\\n[2018-04-28 22:21:05.377359199] (+0.000121359) du1 com_ericsson_triobjif:TRACE7: { cpu_id = 10 }, { processAndObjIf = \"nc_main_thread(ncIcEquipmentControlIfSwU)\", fileAndLine = \"IcDciSessionManagerImpl.cc:107\", msg = \"handleSignal received RICM_CONFIGURE_IQC_SWITCH_CFM addressInfo.clientRef=0xb1636934, addressInfo.serverRef=0x67756c50\" }\\n[2018-04-28 22:21:05.377481402] (+0.000016265) du1 com_ericsson_triobjif:TRACE7: { cpu_id = 10 }, { processAndObjIf = \"nc_main_thread(ncIcEquipmentControlIfSwU)\", fileAndLine = \"IcDciSessionImpl.cc:488\", msg = \"DU1:Received RICM_CONFIGURE_IQC_SWITCH_CFM, addressInfo.clientRef=0xb1636934, addressInfo.serverRef=0x67756c50, carrierBranchId=4, unitId=1\" }\\n[2018-04-28 22:21:05.377556574] (+0.000075172) du1 com_ericsson_triobjif:TRACE7: { cpu_id = 10 }, { processAndObjIf = \"nc_main_thread(ncIcEquipmentControlIfSwU)\", fileAndLine = \"IcDciSessionManagerImpl.cc:107\", msg = \"handleSignal received RICM_CONFIGURE_IQ_SWITCH_CFM addressInfo.clientRef=0xb1415bd4, addressInfo.serverRef=0x67756c50\" }\\n[2018-04-28 22:21:05.377668340] (+0.000015078) du1 com_ericsson_triobjif:TRACE7: { cpu_id = 10 }, { processAndObjIf = \"nc_main_thread(ncIcEquipmentControlIfSwU)\", fileAndLine = \"IcDciSessionImpl.cc:441\", msg = \"DU1:Received RICM_CONFIGURE_IQ_SWITCH_CFM, addressInfo.clientRef=0xb1415bd4, addressInfo.serverRef=0x67756c50, carrierBranchId=4, unitId=1\" }\\n[2018-04-28 22:21:05.381708105] (+0.000015125) du1 com_ericsson_triobjif:REC_SIG: { cpu_id = 8 }, { processAndObjIf = \"Nci_control_proc(RICM_IF_RICI)\", fileAndLine = \"spv_rici.c:7111\", msg = \"signo:101929b sender :b320 RICI_CONFIG_IQC_SWITCH_CFM: unit: DU_0, ruId: 1, clientReference: 0xF1C, carrierBranchId: 4, localSwitchConfigId: 490\" }\\n[2018-04-28 22:21:05.381727902] (+0.000011609) du1 com_ericsson_triobjif:SEND_SIG: { cpu_id = 8 }, { processAndObjIf = \"Nci_control_proc(RICM_IF_DCI)\", fileAndLine = \"ricm_control_iq.c:1119\", msg = \"signo:164809b receiver :6993 RICM_CONFIGURE_IQC_SWITCH_CFM: unitId: 0x400, carrierBranchId: 4\" }\\n[2018-04-28 22:21:05.381800730] (+0.000072828) du1 com_ericsson_triobjif:TRACE7: { cpu_id = 10 }, { processAndObjIf = \"nc_main_thread(ncIcEquipmentControlIfSwU)\", fileAndLine = \"IcDciSessionManagerImpl.cc:107\", msg = \"handleSignal received RICM_CONFIGURE_IQC_SWITCH_CFM addressInfo.clientRef=0xb13d6914, addressInfo.serverRef=0x67756c50\" }\\n[2018-04-28 22:21:05.381928355] (+0.000023703) du1 com_ericsson_triobjif:TRACE7: { cpu_id = 10 }, { processAndObjIf = \"nc_main_thread(ncIcEquipmentControlIfSwU)\", fileAndLine = \"IcDciSessionImpl.cc:488\", msg = \"DU1:Received RICM_CONFIGURE_IQC_SWITCH_CFM, addressInfo.clientRef=0xb13d6914, addressInfo.serverRef=0x67756c50, carrierBranchId=4, unitId=1024\" }\\n[2018-04-28 22:21:05.387266902] (+0.000040234) du1 com_ericsson_triobjif:REC_SIG: { cpu_id = 9 }, { processAndObjIf = \"Nci_control_proc(RICM_IF_RICI)\", fileAndLine = \"spv_rici.c:6952\", msg = \"signo:1019298 sender :b320 RICI_CONFIG_IQ_SWITCH_CFM: unit: DU_0, ruId: 1, clientReference: 0xF1D, carrierBranchId: 4, localSwitchConfigId: 741, noOfAxcSlots: 4\" }\\n[2018-04-28 22:21:05.387294933] (+0.000018609) du1 com_ericsson_triobjif:SEND_SIG: { cpu_id = 9 }, { processAndObjIf = \"Nci_control_proc(RICM_IF_DCI)\", fileAndLine = \"ricm_control_iq.c:1087\", msg = \"signo:1648098 receiver :6993 RICM_CONFIGURE_IQ_SWITCH_CFM: unitId: 0x400, carrierBranchId: 4\" }\\n[2018-04-28 22:21:05.387364762] (+0.000069829) du1 com_ericsson_triobjif:TRACE7: { cpu_id = 10 }, { processAndObjIf = \"nc_main_thread(ncIcEquipmentControlIfSwU)\", fileAndLine = \"IcDciSessionManagerImpl.cc:107\", msg = \"handleSignal received RICM_CONFIGURE_IQ_SWITCH_CFM addressInfo.clientRef=0xb145dfe4, addressInfo.serverRef=0x67756c50\" }\\n[2018-04-28 22:21:05.387475027] (+0.000015203) du1 com_ericsson_triobjif:TRACE7: { cpu_id = 10 }, { processAndObjIf = \"nc_main_thread(ncIcEquipmentControlIfSwU)\", fileAndLine = \"IcDciSessionImpl.cc:441\", msg = \"DU1:Received RICM_CONFIGURE_IQ_SWITCH_CFM, addressInfo.clientRef=0xb145dfe4, addressInfo.serverRef=0x67756c50, carrierBranchId=4, unitId=1024\" }\\n[2018-04-28 22:21:05.392740105] (+0.000110031) du1 com_ericsson_triobjif:TRACE6: { cpu_id = 10 }, { processAndObjIf = \"nc_main_thread(ncDcIf)\", fileAndLine = \"IcDciMsgHelpers.cc:108\", msg = \"RICM_CONFIGURE_IQC_SWITCH_REQ, carrierBranchId=5, localCarrierId=5, unitId=1024, ingressPort=65551, ingressAxcId=13, egressPort=65536, egressAxcId=13\" }\\n[2018-04-28 22:21:05.392883527] (+0.000106984) du1 com_ericsson_triobjif:REC_SIG: { cpu_id = 9 }, { processAndObjIf = \"Nci_control_proc(RICM_IF_DCI)\", fileAndLine = \"ricm_control_iq.c:1849\", msg = \"signo:164809a sender :6993 RICM_CONFIGURE_IQC_SWITCH_REQ: unitId: 0x400, carrierBranchId: 5, localCarrierId: 5, ingress.port: 0x1000F, ingress.axcId: 13, egress.port: 0x10000, egress.axcId: 13\" }\\n[2018-04-28 22:21:05.392974027] (+0.000016281) du1 com_ericsson_triobjif:TRACE6: { cpu_id = 10 }, { processAndObjIf = \"nc_main_thread(ncIcEquipmentControlIfSwU)\", fileAndLine = \"IcDciSessionImpl.cc:476\", msg = \"DU1:Sent RICM_CONFIGURE_IQC_SWITCH_REQ with clientRef=0xb16ab25c, serverRef=0x67756c50\" }\\n[2018-04-28 22:21:05.392989824] (+0.000015797) du1 com_ericsson_triobjif:SEND_SIG: { cpu_id = 9 }, { processAndObjIf = \"Nci_control_proc(RICM_IF_RICI)\", fileAndLine = \"spv_rici.c:7077\", msg = \"signo:101929a receiver :b320 RICI_CONFIG_IQC_SWITCH_REQ: unit: DU_0, clientReference: 0xF20, carrierBranchId: 5, ingressPortNo: 15, ingressAxcId: 13, ingressCarrierId: 5, egressPortNo: 0, egressAxcId: 13, egressCarrierId: 5\" }\\n[2018-04-28 22:21:05.393063762] (+0.000073938) du1 com_ericsson_triobjif:TRACE6: { cpu_id = 10 }, { processAndObjIf = \"nc_main_thread(ncDcIf)\", fileAndLine = \"IcDciMsgHelpers.cc:75\", msg = \"RICM_CONFIGURE_IQ_SWITCH_REQ, carrierBranchId=5, unitId=1024, ingressPort=65551, ingressAxcSlot=0, ingressAxcContainterFormat=8, ingressBfOffset=-1, ingressSubFrame=2, egressPort=65536, egressAxcSlot=0, egressAxcContainerFormat=8, egressBfOffset=-1, egressSubFrame=14, noOfSlots=4\" }\\n[2018-04-28 22:21:05.393179558] (+0.000086453) du1 com_ericsson_triobjif:REC_SIG: { cpu_id = 9 }, { processAndObjIf = \"Nci_control_proc(RICM_IF_DCI)\", fileAndLine = \"ricm_control_iq.c:1744\", msg = \"signo:1648097 sender :6993 RICM_CONFIGURE_IQ_SWITCH_REQ: unitId: 0x400, carrierBranchId: 5, noOfAxcSlots: 4, ingress.port: 0x1000F, ingress.axcContFormat: 8, ingress.subFrame: 2, ingress.axcSlot: 0, ingress.bfOffset: 4294967295, egress.port: 0x10000, egress.axcContFormat: 8, egress.subFrame: 14, egress.axcSlot: 0, egress.bfOffset: 4294967295\" }\\n[2018-04-28 22:21:05.393252715] (+0.000005235) du1 com_ericsson_triobjif:TRACE6: { cpu_id = 10 }, { processAndObjIf = \"nc_main_thread(ncIcEquipmentControlIfSwU)\", fileAndLine = \"IcDciSessionImpl.cc:429\", msg = \"DU1:Sent RICM_CONFIGURE_IQ_SWITCH_REQ with clientRef=0xb132a4fc, serverRef=0x1c\" }\\n[2018-04-28 22:21:05.393278918] (+0.000016078) du1 com_ericsson_triobjif:SEND_SIG: { cpu_id = 9 }, { processAndObjIf = \"Nci_control_proc(RICM_IF_RICI)\", fileAndLine = \"spv_rici.c:6861\", msg = \"signo:1019297 receiver :b320 RICI_CONFIG_IQ_SWITCH_REQ: unit: DU_0, clientReference: 0xF21, wantedAllocation: 0, carrierBranchId: 5, ingressPortNo: 15, ingressSlotFormat: 7, ingressBfOffset: 0xFFFFFFFF, egressPortNo: 0, egressSlotFormat: 7, egressBfOffset: 0xFFFFFFFF, noOfAxcSlots: 4\" }\\n[2018-04-28 22:21:05.393359449] (+0.000045000) du1 com_ericsson_triobjif:TRACE6: { cpu_id = 10 }, { processAndObjIf = \"nc_main_thread(ncDcIf)\", fileAndLine = \"IcDciMsgHelpers.cc:108\", msg = \"RICM_CONFIGURE_IQC_SWITCH_REQ, carrierBranchId=5, localCarrierId=5, unitId=1, ingressPort=65536, ingressAxcId=13, egressPort=0, egressAxcId=0\" }\\n[2018-04-28 22:21:05.393462949] (+0.000081969) du1 com_ericsson_triobjif:REC_SIG: { cpu_id = 9 }, { processAndObjIf = \"Nci_control_proc(RICM_IF_DCI)\", fileAndLine = \"ricm_control_iq.c:1849\", msg = \"signo:164809a sender :6993 RICM_CONFIGURE_IQC_SWITCH_REQ: unitId: 0x1, carrierBranchId: 5, localCarrierId: 5, ingress.port: 0x10000, ingress.axcId: 13, egress.port: 0x0, egress.axcId: 0\" }\\n[2018-04-28 22:21:05.393556933] (+0.000010625) du1 com_ericsson_triobjif:SEND_SIG: { cpu_id = 9 }, { processAndObjIf = \"Nci_control_proc(RICM_IF_DCI)\", fileAndLine = \"ricm_control_iq.c:1119\", msg = \"signo:164809b receiver :6993 RICM_CONFIGURE_IQC_SWITCH_CFM: unitId: 0x1, carrierBranchId: 5\" }\\n[2018-04-28 22:21:05.393560465] (+0.000003532) du1 com_ericsson_triobjif:TRACE6: { cpu_id = 10 }, { processAndObjIf = \"nc_main_thread(ncIcEquipmentControlIfSwU)\", fileAndLine = \"IcDciSessionImpl.cc:476\", msg = \"DU1:Sent RICM_CONFIGURE_IQC_SWITCH_REQ with clientRef=0xb137c294, serverRef=0x1c\" }\\n[2018-04-28 22:21:05.393626074] (+0.000065609) du1 com_ericsson_triobjif:TRACE6: { cpu_id = 10 }, { processAndObjIf = \"nc_main_thread(ncDcIf)\", fileAndLine = \"IcDciMsgHelpers.cc:75\", msg = \"RICM_CONFIGURE_IQ_SWITCH_REQ, carrierBranchId=5, unitId=1, ingressPort=65536, ingressAxcSlot=0, ingressAxcContainterFormat=8, ingressBfOffset=-1, ingressSubFrame=14, egressPort=0, egressAxcSlot=8, egressAxcContainerFormat=8, egressBfOffset=-1, egressSubFrame=-1, noOfSlots=4\" }\\n[2018-04-28 22:21:05.393730480] (+0.000082859) du1 com_ericsson_triobjif:REC_SIG: { cpu_id = 9 }, { processAndObjIf = \"Nci_control_proc(RICM_IF_DCI)\", fileAndLine = \"ricm_control_iq.c:1744\", msg = \"signo:1648097 sender :6993 RICM_CONFIGURE_IQ_SWITCH_REQ: unitId: 0x1, carrierBranchId: 5, noOfAxcSlots: 4, ingress.port: 0x10000, ingress.axcContFormat: 8, ingress.subFrame: 14, ingress.axcSlot: 0, ingress.bfOffset: 4294967295, egress.port: 0x0, egress.axcContFormat: 8, egress.subFrame: 4294967295, egress.axcSlot: 8, egress.bfOffset: 4294967295\" }\\n[2018-04-28 22:21:05.393809433] (+0.000001765) du1 com_ericsson_triobjif:TRACE6: { cpu_id = 10 }, { processAndObjIf = \"nc_main_thread(ncIcEquipmentControlIfSwU)\", fileAndLine = \"IcDciSessionImpl.cc:429\", msg = \"DU1:Sent RICM_CONFIGURE_IQ_SWITCH_REQ with clientRef=0xb16a77e4, serverRef=0x1c\" }\\n[2018-04-28 22:21:05.393817777] (+0.000008344) du1 com_ericsson_triobjif:SEND_SIG: { cpu_id = 9 }, { processAndObjIf = \"Nci_control_proc(RICM_IF_DCI)\", fileAndLine = \"ricm_control_iq.c:1087\", msg = \"signo:1648098 receiver :6993 RICM_CONFIGURE_IQ_SWITCH_CFM: unitId: 0x1, carrierBranchId: 5\" }\\n[2018-04-28 22:21:05.393931558] (+0.000113781) du1 com_ericsson_triobjif:TRACE7: { cpu_id = 10 }, { processAndObjIf = \"nc_main_thread(ncIcEquipmentControlIfSwU)\", fileAndLine = \"IcDciSessionManagerImpl.cc:107\", msg = \"handleSignal received RICM_CONFIGURE_IQC_SWITCH_CFM addressInfo.clientRef=0xb137c294, addressInfo.serverRef=0x67756c50\" }\\n[2018-04-28 22:21:05.394066605] (+0.000015093) du1 com_ericsson_triobjif:TRACE7: { cpu_id = 10 }, { processAndObjIf = \"nc_main_thread(ncIcEquipmentControlIfSwU)\", fileAndLine = \"IcDciSessionImpl.cc:488\", msg = \"DU1:Received RICM_CONFIGURE_IQC_SWITCH_CFM, addressInfo.clientRef=0xb137c294, addressInfo.serverRef=0x67756c50, carrierBranchId=5, unitId=1\" }\\n[2018-04-28 22:21:05.394133855] (+0.000067250) du1 com_ericsson_triobjif:TRACE7: { cpu_id = 10 }, { processAndObjIf = \"nc_main_thread(ncIcEquipmentControlIfSwU)\", fileAndLine = \"IcDciSessionManagerImpl.cc:107\", msg = \"handleSignal received RICM_CONFIGURE_IQ_SWITCH_CFM addressInfo.clientRef=0xb16a77e4, addressInfo.serverRef=0x67756c50\" }\\n[2018-04-28 22:21:05.394247949] (+0.000014812) du1 com_ericsson_triobjif:TRACE7: { cpu_id = 10 }, { processAndObjIf = \"nc_main_thread(ncIcEquipmentControlIfSwU)\", fileAndLine = \"IcDciSessionImpl.cc:441\", msg = \"DU1:Received RICM_CONFIGURE_IQ_SWITCH_CFM, addressInfo.clientRef=0xb16a77e4, addressInfo.serverRef=0x67756c50, carrierBranchId=5, unitId=1\" }\\n[2018-04-28 22:21:05.396021043] (+0.000012906) du1 com_ericsson_triobjif:REC_SIG: { cpu_id = 9 }, { processAndObjIf = \"Nci_control_proc(RICM_IF_RICI)\", fileAndLine = \"spv_rici.c:7111\", msg = \"signo:101929b sender :b320 RICI_CONFIG_IQC_SWITCH_CFM: unit: DU_0, ruId: 1, clientReference: 0xF20, carrierBranchId: 5, localSwitchConfigId: 490\" }\\n[2018-04-28 22:21:05.396038605] (+0.000010187) du1 com_ericsson_triobjif:SEND_SIG: { cpu_id = 9 }, { processAndObjIf = \"Nci_control_proc(RICM_IF_DCI)\", fileAndLine = \"ricm_control_iq.c:1119\", msg = \"signo:164809b receiver :6993 RICM_CONFIGURE_IQC_SWITCH_CFM: unitId: 0x400, carrierBranchId: 5\" }\\n[2018-04-28 22:21:05.396102543] (+0.000063938) du1 com_ericsson_triobjif:TRACE7: { cpu_id = 10 }, { processAndObjIf = \"nc_main_thread(ncIcEquipmentControlIfSwU)\", fileAndLine = \"IcDciSessionManagerImpl.cc:107\", msg = \"handleSignal received RICM_CONFIGURE_IQC_SWITCH_CFM addressInfo.clientRef=0xb16ab25c, addressInfo.serverRef=0x67756c50\" }\\n[2018-04-28 22:21:05.396216449] (+0.000013922) du1 com_ericsson_triobjif:TRACE7: { cpu_id = 10 }, { processAndObjIf = \"nc_main_thread(ncIcEquipmentControlIfSwU)\", fileAndLine = \"IcDciSessionImpl.cc:488\", msg = \"DU1:Received RICM_CONFIGURE_IQC_SWITCH_CFM, addressInfo.clientRef=0xb16ab25c, addressInfo.serverRef=0x67756c50, carrierBranchId=5, unitId=1024\" }\\n[2018-04-28 22:21:05.401744902] (+0.000012156) du1 com_ericsson_triobjif:REC_SIG: { cpu_id = 9 }, { processAndObjIf = \"Nci_control_proc(RICM_IF_RICI)\", fileAndLine = \"spv_rici.c:6952\", msg = \"signo:1019298 sender :b320 RICI_CONFIG_IQ_SWITCH_CFM: unit: DU_0, ruId: 1, clientReference: 0xF21, carrierBranchId: 5, localSwitchConfigId: 742, noOfAxcSlots: 4\" }\\n[2018-04-28 22:21:05.401761824] (+0.000009719) du1 com_ericsson_triobjif:SEND_SIG: { cpu_id = 9 }, { processAndObjIf = \"Nci_control_proc(RICM_IF_DCI)\", fileAndLine = \"ricm_control_iq.c:1087\", msg = \"signo:1648098 receiver :6993 RICM_CONFIGURE_IQ_SWITCH_CFM: unitId: 0x400, carrierBranchId: 5\" }\\n[2018-04-28 22:21:05.401847980] (+0.000086156) du1 com_ericsson_triobjif:TRACE7: { cpu_id = 10 }, { processAndObjIf = \"nc_main_thread(ncIcEquipmentControlIfSwU)\", fileAndLine = \"IcDciSessionManagerImpl.cc:107\", msg = \"handleSignal received RICM_CONFIGURE_IQ_SWITCH_CFM addressInfo.clientRef=0xb132a4fc, addressInfo.serverRef=0x67756c50\" }\\n[2018-04-28 22:21:05.401956762] (+0.000014282) du1 com_ericsson_triobjif:TRACE7: { cpu_id = 10 }, { processAndObjIf = \"nc_main_thread(ncIcEquipmentControlIfSwU)\", fileAndLine = \"IcDciSessionImpl.cc:441\", msg = \"DU1:Received RICM_CONFIGURE_IQ_SWITCH_CFM, addressInfo.clientRef=0xb132a4fc, addressInfo.serverRef=0x67756c50, carrierBranchId=5, unitId=1024\" }\\n'"
      ]
     },
     "execution_count": 59,
     "metadata": {},
     "output_type": "execute_result"
    }
   ],
   "source": [
    "raw_trace"
   ]
  },
  {
   "cell_type": "code",
   "execution_count": 61,
   "metadata": {},
   "outputs": [],
   "source": [
    "words = [w.lower() for w in trace_tokens]"
   ]
  },
  {
   "cell_type": "code",
   "execution_count": 62,
   "metadata": {},
   "outputs": [],
   "source": [
    "vocab = sorted(set(words))"
   ]
  },
  {
   "cell_type": "code",
   "execution_count": 63,
   "metadata": {},
   "outputs": [
    {
     "name": "stdout",
     "output_type": "stream",
     "text": [
      "25125 920\n"
     ]
    }
   ],
   "source": [
    "print(len(words),len(vocab))"
   ]
  },
  {
   "cell_type": "code",
   "execution_count": 64,
   "metadata": {},
   "outputs": [],
   "source": [
    "vocab.append('blog')"
   ]
  },
  {
   "cell_type": "markdown",
   "metadata": {},
   "source": [
    "## 3.4   Regular Expressions for Detecting Word Patterns"
   ]
  },
  {
   "cell_type": "code",
   "execution_count": 67,
   "metadata": {},
   "outputs": [],
   "source": [
    "import nltk\n",
    "import re"
   ]
  },
  {
   "cell_type": "code",
   "execution_count": 68,
   "metadata": {},
   "outputs": [],
   "source": [
    "wordlist = [ w for w in nltk.corpus.words.words('en') if w.islower()]"
   ]
  },
  {
   "cell_type": "code",
   "execution_count": 71,
   "metadata": {},
   "outputs": [
    {
     "data": {
      "text/plain": [
       "['abox',\n",
       " 'abrasax',\n",
       " 'accusatrix',\n",
       " 'acronyx',\n",
       " 'addax',\n",
       " 'adfix',\n",
       " 'adieux',\n",
       " 'administratrix',\n",
       " 'admix',\n",
       " 'admonitrix',\n",
       " 'adnex',\n",
       " 'advocatrix',\n",
       " 'affix',\n",
       " 'afflux',\n",
       " 'agitatrix',\n",
       " 'ampyx',\n",
       " 'anatox',\n",
       " 'androsphinx',\n",
       " 'annex',\n",
       " 'antapex',\n",
       " 'antefix',\n",
       " 'anthrax',\n",
       " 'antianthrax',\n",
       " 'anticlimax',\n",
       " 'anticomplex',\n",
       " 'antiflux',\n",
       " 'antihelix',\n",
       " 'antiorthodox',\n",
       " 'antispadix',\n",
       " 'antitax',\n",
       " 'apex',\n",
       " 'apoplex',\n",
       " 'appendix',\n",
       " 'arbitratrix',\n",
       " 'archocystosyrinx',\n",
       " 'archosyrinx',\n",
       " 'arquifoux',\n",
       " 'arthrosyrinx',\n",
       " 'arx',\n",
       " 'assertrix',\n",
       " 'auspex',\n",
       " 'autocratrix',\n",
       " 'auxotox',\n",
       " 'aviatrix',\n",
       " 'ax',\n",
       " 'azox',\n",
       " 'bandbox',\n",
       " 'bateaux',\n",
       " 'beaux',\n",
       " 'beeswax',\n",
       " 'bemix',\n",
       " 'biconvex',\n",
       " 'biflex',\n",
       " 'bijoux',\n",
       " 'billywix',\n",
       " 'bisectrix',\n",
       " 'blennothorax',\n",
       " 'borax',\n",
       " 'bostryx',\n",
       " 'breadbox',\n",
       " 'breakax',\n",
       " 'broadax',\n",
       " 'bureaux',\n",
       " 'butterbox',\n",
       " 'cacanthrax',\n",
       " 'cakebox',\n",
       " 'calix',\n",
       " 'calx',\n",
       " 'calyx',\n",
       " 'candlebox',\n",
       " 'capax',\n",
       " 'captivatrix',\n",
       " 'carapax',\n",
       " 'carfax',\n",
       " 'carnifex',\n",
       " 'casebox',\n",
       " 'cashbox',\n",
       " 'caudex',\n",
       " 'cephalothorax',\n",
       " 'cerebellocortex',\n",
       " 'cerviciplex',\n",
       " 'cervix',\n",
       " 'chafewax',\n",
       " 'chaffwax',\n",
       " 'chalcedonyx',\n",
       " 'chapeaux',\n",
       " 'chartophylax',\n",
       " 'chateaux',\n",
       " 'chatterbox',\n",
       " 'cheesebox',\n",
       " 'cheiropompholyx',\n",
       " 'chemoreflex',\n",
       " 'chiropompholyx',\n",
       " 'choenix',\n",
       " 'chylothorax',\n",
       " 'cicatrix',\n",
       " 'cimex',\n",
       " 'circumflex',\n",
       " 'clavilux',\n",
       " 'climax',\n",
       " 'coadjutrix',\n",
       " 'coadministratrix',\n",
       " 'coalbox',\n",
       " 'coannex',\n",
       " 'coax',\n",
       " 'coccyx',\n",
       " 'codex',\n",
       " 'coexecutrix',\n",
       " 'commix',\n",
       " 'competitrix',\n",
       " 'complex',\n",
       " 'confix',\n",
       " 'conflux',\n",
       " 'connex',\n",
       " 'conservatrix',\n",
       " 'consolatrix',\n",
       " 'contraplex',\n",
       " 'convex',\n",
       " 'cordax',\n",
       " 'cortex',\n",
       " 'counterfix',\n",
       " 'counterflux',\n",
       " 'counterparadox',\n",
       " 'cowpox',\n",
       " 'cox',\n",
       " 'creatrix',\n",
       " 'creditrix',\n",
       " 'criosphinx',\n",
       " 'crucifix',\n",
       " 'crux',\n",
       " 'curatrix',\n",
       " 'cylix',\n",
       " 'cystosyrinx',\n",
       " 'cytopharynx',\n",
       " 'dacryosyrinx',\n",
       " 'darnex',\n",
       " 'decemplex',\n",
       " 'decomplex',\n",
       " 'deedbox',\n",
       " 'deflex',\n",
       " 'demiox',\n",
       " 'dentex',\n",
       " 'desex',\n",
       " 'detax',\n",
       " 'deutoscolex',\n",
       " 'dewax',\n",
       " 'diaplex',\n",
       " 'dicebox',\n",
       " 'dictatrix',\n",
       " 'diplex',\n",
       " 'directrix',\n",
       " 'disannex',\n",
       " 'disclimax',\n",
       " 'dispensatrix',\n",
       " 'doctrix',\n",
       " 'donax',\n",
       " 'dorsiflex',\n",
       " 'duplex',\n",
       " 'durax',\n",
       " 'dustbox',\n",
       " 'dux',\n",
       " 'earwax',\n",
       " 'efflux',\n",
       " 'electroplax',\n",
       " 'embox',\n",
       " 'endocortex',\n",
       " 'endothorax',\n",
       " 'entothorax',\n",
       " 'epicalyx',\n",
       " 'epipharynx',\n",
       " 'equiconvex',\n",
       " 'equinox',\n",
       " 'esonarthex',\n",
       " 'evocatrix',\n",
       " 'ex',\n",
       " 'executrix',\n",
       " 'exlex',\n",
       " 'exonarthex',\n",
       " 'expenditrix',\n",
       " 'exterminatrix',\n",
       " 'extispex',\n",
       " 'factrix',\n",
       " 'falx',\n",
       " 'feedbox',\n",
       " 'firebox',\n",
       " 'fix',\n",
       " 'flambeaux',\n",
       " 'flax',\n",
       " 'flex',\n",
       " 'flix',\n",
       " 'flummox',\n",
       " 'flux',\n",
       " 'fornicatrix',\n",
       " 'fornix',\n",
       " 'fox',\n",
       " 'fundatrix',\n",
       " 'gearbox',\n",
       " 'generatrix',\n",
       " 'genetrix',\n",
       " 'genuflex',\n",
       " 'gladiatrix',\n",
       " 'glommox',\n",
       " 'glossanthrax',\n",
       " 'gonocalyx',\n",
       " 'googolplex',\n",
       " 'gubernatrix',\n",
       " 'gulix',\n",
       " 'hallex',\n",
       " 'hallux',\n",
       " 'haruspex',\n",
       " 'hatbox',\n",
       " 'helix',\n",
       " 'hellbox',\n",
       " 'hematosalpinx',\n",
       " 'hematothorax',\n",
       " 'hemopneumothorax',\n",
       " 'hemosalpinx',\n",
       " 'hemothorax',\n",
       " 'heretrix',\n",
       " 'heritrix',\n",
       " 'heterodox',\n",
       " 'hex',\n",
       " 'hieracosphinx',\n",
       " 'hoax',\n",
       " 'homodox',\n",
       " 'horsepox',\n",
       " 'hotbox',\n",
       " 'hox',\n",
       " 'hydrohemothorax',\n",
       " 'hydropneumothorax',\n",
       " 'hydrosalpinx',\n",
       " 'hydrothorax',\n",
       " 'hyperclimax',\n",
       " 'hypercomplex',\n",
       " 'hyperothodox',\n",
       " 'hypopharynx',\n",
       " 'hyrax',\n",
       " 'ibex',\n",
       " 'icebox',\n",
       " 'idioreflex',\n",
       " 'ilex',\n",
       " 'imbrex',\n",
       " 'imitatrix',\n",
       " 'immix',\n",
       " 'imperatrix',\n",
       " 'impersonatrix',\n",
       " 'implex',\n",
       " 'impostrix',\n",
       " 'impropriatrix',\n",
       " 'incomplex',\n",
       " 'index',\n",
       " 'indicatrix',\n",
       " 'infix',\n",
       " 'inflex',\n",
       " 'influx',\n",
       " 'inheritrix',\n",
       " 'initiatrix',\n",
       " 'inquisitrix',\n",
       " 'inspectrix',\n",
       " 'inspiratrix',\n",
       " 'instigatrix',\n",
       " 'institutrix',\n",
       " 'interflux',\n",
       " 'interlocutrix',\n",
       " 'intermix',\n",
       " 'interrex',\n",
       " 'interrogatrix',\n",
       " 'intersex',\n",
       " 'introflex',\n",
       " 'jackbox',\n",
       " 'janitrix',\n",
       " 'jasponyx',\n",
       " 'jinx',\n",
       " 'judex',\n",
       " 'jukebox',\n",
       " 'jynx',\n",
       " 'kerflummox',\n",
       " 'kex',\n",
       " 'kinepox',\n",
       " 'kylix',\n",
       " 'lanx',\n",
       " 'larnax',\n",
       " 'larynx',\n",
       " 'latex',\n",
       " 'lax',\n",
       " 'lepothrix',\n",
       " 'leptomeninx',\n",
       " 'leucoryx',\n",
       " 'liferentrix',\n",
       " 'lithanthrax',\n",
       " 'lockbox',\n",
       " 'lox',\n",
       " 'lummox',\n",
       " 'lux',\n",
       " 'lynx',\n",
       " 'mailbox',\n",
       " 'malax',\n",
       " 'mastax',\n",
       " 'matax',\n",
       " 'matchbox',\n",
       " 'matrix',\n",
       " 'maux',\n",
       " 'mediatrix',\n",
       " 'medithorax',\n",
       " 'meninx',\n",
       " 'meretrix',\n",
       " 'merveileux',\n",
       " 'mesoappendix',\n",
       " 'mesosalpinx',\n",
       " 'mesothorax',\n",
       " 'metathorax',\n",
       " 'metrosalpinx',\n",
       " 'microlux',\n",
       " 'microthorax',\n",
       " 'millilux',\n",
       " 'minx',\n",
       " 'mirepoix',\n",
       " 'mix',\n",
       " 'moderatrix',\n",
       " 'monilethrix',\n",
       " 'monitrix',\n",
       " 'multiplex',\n",
       " 'multireflex',\n",
       " 'murex',\n",
       " 'mux',\n",
       " 'myeloplax',\n",
       " 'mystax',\n",
       " 'narratrix',\n",
       " 'narthex',\n",
       " 'nasopharynx',\n",
       " 'nectocalyx',\n",
       " 'negotiatrix',\n",
       " 'nix',\n",
       " 'nominatrix',\n",
       " 'nomophylax',\n",
       " 'nonorthodox',\n",
       " 'nontax',\n",
       " 'novatrix',\n",
       " 'nulliplex',\n",
       " 'obex',\n",
       " 'objurgatrix',\n",
       " 'obstetrix',\n",
       " 'octuplex',\n",
       " 'oleothorax',\n",
       " 'onyx',\n",
       " 'operatrix',\n",
       " 'opopanax',\n",
       " 'optomeninx',\n",
       " 'oratrix',\n",
       " 'oropharynx',\n",
       " 'orthodox',\n",
       " 'osculatrix',\n",
       " 'otosalpinx',\n",
       " 'outbox',\n",
       " 'outflux',\n",
       " 'outjinx',\n",
       " 'overcomplex',\n",
       " 'overfix',\n",
       " 'overlax',\n",
       " 'overmix',\n",
       " 'overprolix',\n",
       " 'overrelax',\n",
       " 'overtax',\n",
       " 'ox',\n",
       " 'pachymeninx',\n",
       " 'paintbox',\n",
       " 'paintrix',\n",
       " 'panax',\n",
       " 'pappox',\n",
       " 'paradox',\n",
       " 'parallax',\n",
       " 'patrix',\n",
       " 'pax',\n",
       " 'paxwax',\n",
       " 'pegbox',\n",
       " 'pepperbox',\n",
       " 'perborax',\n",
       " 'perionyx',\n",
       " 'perpetratrix',\n",
       " 'perplex',\n",
       " 'persecutrix',\n",
       " 'perturbatrix',\n",
       " 'petrosilex',\n",
       " 'phalanx',\n",
       " 'phantoplex',\n",
       " 'pharynx',\n",
       " 'philodox',\n",
       " 'philorthodox',\n",
       " 'phoenix',\n",
       " 'phonoplex',\n",
       " 'phorminx',\n",
       " 'photosyntax',\n",
       " 'pickax',\n",
       " 'pillbox',\n",
       " 'pinax',\n",
       " 'pistrix',\n",
       " 'pix',\n",
       " 'plateaux',\n",
       " 'playbox',\n",
       " 'plex',\n",
       " 'pneumohemothorax',\n",
       " 'pneumohydrothorax',\n",
       " 'pneumopyothorax',\n",
       " 'pneumothorax',\n",
       " 'podex',\n",
       " 'poleax',\n",
       " 'pollex',\n",
       " 'pollux',\n",
       " 'pompholix',\n",
       " 'pompholyx',\n",
       " 'pontifex',\n",
       " 'portmanteaux',\n",
       " 'postbox',\n",
       " 'postclimax',\n",
       " 'postfix',\n",
       " 'pox',\n",
       " 'praecox',\n",
       " 'praehallux',\n",
       " 'preannex',\n",
       " 'precentrix',\n",
       " 'preclimax',\n",
       " 'precox',\n",
       " 'prefix',\n",
       " 'prehallux',\n",
       " 'premix',\n",
       " 'prepollex',\n",
       " 'primogenetrix',\n",
       " 'princox',\n",
       " 'procreatrix',\n",
       " 'procuratrix',\n",
       " 'progenitrix',\n",
       " 'projectrix',\n",
       " 'prolix',\n",
       " 'prolocutrix',\n",
       " 'promotrix',\n",
       " 'proplex',\n",
       " 'proprietrix',\n",
       " 'proscolex',\n",
       " 'prosecutrix',\n",
       " 'protax',\n",
       " 'protectrix',\n",
       " 'prothorax',\n",
       " 'pseudocortex',\n",
       " 'pseudodox',\n",
       " 'psychoreflex',\n",
       " 'pterothorax',\n",
       " 'pyohemothorax',\n",
       " 'pyopneumothorax',\n",
       " 'pyosalpinx',\n",
       " 'pyothorax',\n",
       " 'pyrex',\n",
       " 'pyx',\n",
       " 'quadratrix',\n",
       " 'quadruplex',\n",
       " 'quincunx',\n",
       " 'radix',\n",
       " 'ramex',\n",
       " 'rattlebox',\n",
       " 'rax',\n",
       " 'reannex',\n",
       " 'rebox',\n",
       " 'rectrix',\n",
       " 'redox',\n",
       " 'redux',\n",
       " 'refix',\n",
       " 'reflex',\n",
       " 'reflux',\n",
       " 'regeneratrix',\n",
       " 'relatrix',\n",
       " 'relax',\n",
       " 'remex',\n",
       " 'remix',\n",
       " 'reperplex',\n",
       " 'resex',\n",
       " 'retax',\n",
       " 'retroflex',\n",
       " 'retroflux',\n",
       " 'rewax',\n",
       " 'rex',\n",
       " 'rhinopharynx',\n",
       " 'rickettsialpox',\n",
       " 'rix',\n",
       " 'rixatrix',\n",
       " 'rollix',\n",
       " 'rox',\n",
       " 'rux',\n",
       " 'sacrococcyx',\n",
       " 'salix',\n",
       " 'salpinx',\n",
       " 'sandbox',\n",
       " 'sandix',\n",
       " 'sardonyx',\n",
       " 'saucebox',\n",
       " 'sax',\n",
       " 'saxifrax',\n",
       " 'sceuophylax',\n",
       " 'schistothorax',\n",
       " 'scleromeninx',\n",
       " 'scolex',\n",
       " 'scramasax',\n",
       " 'seax',\n",
       " 'seedbox',\n",
       " 'semiduplex',\n",
       " 'semiflex',\n",
       " 'semireflex',\n",
       " 'senatrix',\n",
       " 'separatrix',\n",
       " 'sequestratrix',\n",
       " 'sermocinatrix',\n",
       " 'seropneumothorax',\n",
       " 'servitrix',\n",
       " 'sex',\n",
       " 'sextuplex',\n",
       " 'shadowbox',\n",
       " 'sialosyrinx',\n",
       " 'significatrix',\n",
       " 'silex',\n",
       " 'simplex',\n",
       " 'siphonoplax',\n",
       " 'six',\n",
       " 'skeezix',\n",
       " 'smallpox',\n",
       " 'smilax',\n",
       " 'smokebox',\n",
       " 'snuffbox',\n",
       " 'soapbox',\n",
       " 'solicitrix',\n",
       " 'spadix',\n",
       " 'spectatrix',\n",
       " 'speculatrix',\n",
       " 'spex',\n",
       " 'sphinx',\n",
       " 'spinifex',\n",
       " 'spitbox',\n",
       " 'stenothorax',\n",
       " 'stereomatrix',\n",
       " 'stimulatrix',\n",
       " 'storax',\n",
       " 'strix',\n",
       " 'strongbox',\n",
       " 'stupex',\n",
       " 'styrax',\n",
       " 'subclimax',\n",
       " 'subconvex',\n",
       " 'subcortex',\n",
       " 'subfix',\n",
       " 'subindex',\n",
       " 'subnex',\n",
       " 'suffix',\n",
       " 'suffrutex',\n",
       " 'supellex',\n",
       " 'supercomplex',\n",
       " 'superfix',\n",
       " 'superflux',\n",
       " 'supertax',\n",
       " 'surtax',\n",
       " 'sweatbox',\n",
       " 'syntax',\n",
       " 'syrinx',\n",
       " 'tableaux',\n",
       " 'tax',\n",
       " 'taxwax',\n",
       " 'teabox',\n",
       " 'televox',\n",
       " 'testatrix',\n",
       " 'tettix',\n",
       " 'theomastix',\n",
       " 'thorax',\n",
       " 'thoroughwax',\n",
       " 'thriftbox',\n",
       " 'tinderbox',\n",
       " 'toadflax',\n",
       " 'toolbox',\n",
       " 'touchbox',\n",
       " 'tox',\n",
       " 'tractrix',\n",
       " 'transfix',\n",
       " 'transflux',\n",
       " 'translatrix',\n",
       " 'triplex',\n",
       " 'trisectrix',\n",
       " 'trophothylax',\n",
       " 'trousseaux',\n",
       " 'turnix',\n",
       " 'tutrix',\n",
       " 'tux',\n",
       " 'ulex',\n",
       " 'ultracomplex',\n",
       " 'ultraorthodox',\n",
       " 'unannex',\n",
       " 'unbox',\n",
       " 'uncomplex',\n",
       " 'underbox',\n",
       " 'unfix',\n",
       " 'unhex',\n",
       " 'unimultiplex',\n",
       " 'unmix',\n",
       " 'unorthodox',\n",
       " 'unparadox',\n",
       " 'unperplex',\n",
       " 'unprolix',\n",
       " 'unsex',\n",
       " 'untax',\n",
       " 'unwax',\n",
       " 'upmix',\n",
       " 'upwax',\n",
       " 'varix',\n",
       " 'vasoreflex',\n",
       " 'vaticinatrix',\n",
       " 'veniplex',\n",
       " 'vermix',\n",
       " 'versificatrix',\n",
       " 'vertex',\n",
       " 'vex',\n",
       " 'vibex',\n",
       " 'vibix',\n",
       " 'victrix',\n",
       " 'vindex',\n",
       " 'visitrix',\n",
       " 'vitraux',\n",
       " 'vivax',\n",
       " 'vortex',\n",
       " 'wax',\n",
       " 'werefox',\n",
       " 'wheelbox',\n",
       " 'woodwax',\n",
       " 'workbox',\n",
       " 'wrox',\n",
       " 'x',\n",
       " 'yex',\n",
       " 'yox',\n",
       " 'zax',\n",
       " 'zelatrix']"
      ]
     },
     "execution_count": 71,
     "metadata": {},
     "output_type": "execute_result"
    }
   ],
   "source": [
    "[w for w in wordlist if re.search('x$',w)]"
   ]
  },
  {
   "cell_type": "code",
   "execution_count": null,
   "metadata": {},
   "outputs": [],
   "source": []
  },
  {
   "cell_type": "code",
   "execution_count": 77,
   "metadata": {},
   "outputs": [
    {
     "data": {
      "text/plain": [
       "['alabaster', 'alabastos', 'anabiotic', 'anabrotic', 'apobiotic', 'azobacter']"
      ]
     },
     "execution_count": 77,
     "metadata": {},
     "output_type": "execute_result"
    }
   ],
   "source": [
    "[w for w in wordlist if re.search('^a..b..t..$',w)]"
   ]
  },
  {
   "cell_type": "code",
   "execution_count": 82,
   "metadata": {},
   "outputs": [
    {
     "data": {
      "text/plain": [
       "['gold', 'golf', 'hold', 'hole']"
      ]
     },
     "execution_count": 82,
     "metadata": {},
     "output_type": "execute_result"
    }
   ],
   "source": [
    "[w for w in wordlist if re.search('^[ghi][mno][jlk][def]$',w)]"
   ]
  },
  {
   "cell_type": "code",
   "execution_count": 84,
   "metadata": {},
   "outputs": [
    {
     "data": {
      "text/plain": [
       "['gilim',\n",
       " 'golem',\n",
       " 'hakam',\n",
       " 'hakim',\n",
       " 'helio',\n",
       " 'hello',\n",
       " 'hilum',\n",
       " 'hokum',\n",
       " 'hollo',\n",
       " 'igloo',\n",
       " 'inken']"
      ]
     },
     "execution_count": 84,
     "metadata": {},
     "output_type": "execute_result"
    }
   ],
   "source": [
    "[w for w in wordlist if re.search('^[ghi].[jkl].[mno]$',w)]"
   ]
  },
  {
   "cell_type": "code",
   "execution_count": 85,
   "metadata": {},
   "outputs": [
    {
     "data": {
      "text/plain": [
       "[]"
      ]
     },
     "execution_count": 85,
     "metadata": {},
     "output_type": "execute_result"
    }
   ],
   "source": [
    "[w for w in wordlist if re.search('^[abc][def][jkl][mno]$',w)]"
   ]
  },
  {
   "cell_type": "code",
   "execution_count": 87,
   "metadata": {},
   "outputs": [
    {
     "data": {
      "text/plain": [
       "['abaft', 'abbot', 'abdat', 'abnet', 'abort', 'about', 'abret', 'absit']"
      ]
     },
     "execution_count": 87,
     "metadata": {},
     "output_type": "execute_result"
    }
   ],
   "source": [
    "[w for w in wordlist if re.search('^[a-d]b..t$',w)]"
   ]
  },
  {
   "cell_type": "code",
   "execution_count": 91,
   "metadata": {},
   "outputs": [
    {
     "data": {
      "text/plain": [
       "['aal',\n",
       " 'ail',\n",
       " 'all',\n",
       " 'awl',\n",
       " 'bal',\n",
       " 'bel',\n",
       " 'cal',\n",
       " 'col',\n",
       " 'dal',\n",
       " 'eel',\n",
       " 'ell',\n",
       " 'gal',\n",
       " 'gel',\n",
       " 'gol',\n",
       " 'gul',\n",
       " 'ill',\n",
       " 'kil',\n",
       " 'kyl',\n",
       " 'lall',\n",
       " 'leal',\n",
       " 'lill',\n",
       " 'loll',\n",
       " 'lull',\n",
       " 'mal',\n",
       " 'mel',\n",
       " 'mil',\n",
       " 'nil',\n",
       " 'nul',\n",
       " 'oil',\n",
       " 'owl',\n",
       " 'pal',\n",
       " 'pol',\n",
       " 'pul',\n",
       " 'rel',\n",
       " 'sal',\n",
       " 'sil',\n",
       " 'sol',\n",
       " 'tal',\n",
       " 'til',\n",
       " 'tol',\n",
       " 'ull',\n",
       " 'vol',\n",
       " 'zel']"
      ]
     },
     "execution_count": 91,
     "metadata": {},
     "output_type": "execute_result"
    }
   ],
   "source": [
    "[w for w in wordlist if re.search('^[l]?..l$',w)]"
   ]
  },
  {
   "cell_type": "code",
   "execution_count": null,
   "metadata": {},
   "outputs": [],
   "source": []
  },
  {
   "cell_type": "code",
   "execution_count": null,
   "metadata": {},
   "outputs": [],
   "source": []
  },
  {
   "cell_type": "code",
   "execution_count": null,
   "metadata": {},
   "outputs": [],
   "source": []
  },
  {
   "cell_type": "code",
   "execution_count": null,
   "metadata": {},
   "outputs": [],
   "source": []
  },
  {
   "cell_type": "code",
   "execution_count": null,
   "metadata": {},
   "outputs": [],
   "source": []
  },
  {
   "cell_type": "code",
   "execution_count": null,
   "metadata": {},
   "outputs": [],
   "source": []
  },
  {
   "cell_type": "code",
   "execution_count": null,
   "metadata": {},
   "outputs": [],
   "source": []
  },
  {
   "cell_type": "code",
   "execution_count": null,
   "metadata": {},
   "outputs": [],
   "source": []
  },
  {
   "cell_type": "code",
   "execution_count": null,
   "metadata": {},
   "outputs": [],
   "source": []
  },
  {
   "cell_type": "code",
   "execution_count": null,
   "metadata": {},
   "outputs": [],
   "source": []
  },
  {
   "cell_type": "code",
   "execution_count": null,
   "metadata": {},
   "outputs": [],
   "source": []
  },
  {
   "cell_type": "code",
   "execution_count": null,
   "metadata": {},
   "outputs": [],
   "source": []
  },
  {
   "cell_type": "code",
   "execution_count": null,
   "metadata": {},
   "outputs": [],
   "source": []
  },
  {
   "cell_type": "code",
   "execution_count": null,
   "metadata": {},
   "outputs": [],
   "source": []
  },
  {
   "cell_type": "code",
   "execution_count": null,
   "metadata": {},
   "outputs": [],
   "source": []
  },
  {
   "cell_type": "code",
   "execution_count": null,
   "metadata": {},
   "outputs": [],
   "source": []
  },
  {
   "cell_type": "code",
   "execution_count": null,
   "metadata": {},
   "outputs": [],
   "source": []
  },
  {
   "cell_type": "code",
   "execution_count": null,
   "metadata": {},
   "outputs": [],
   "source": []
  },
  {
   "cell_type": "code",
   "execution_count": null,
   "metadata": {},
   "outputs": [],
   "source": []
  },
  {
   "cell_type": "code",
   "execution_count": null,
   "metadata": {},
   "outputs": [],
   "source": []
  },
  {
   "cell_type": "code",
   "execution_count": null,
   "metadata": {},
   "outputs": [],
   "source": []
  },
  {
   "cell_type": "code",
   "execution_count": null,
   "metadata": {},
   "outputs": [],
   "source": []
  },
  {
   "cell_type": "code",
   "execution_count": null,
   "metadata": {},
   "outputs": [],
   "source": []
  },
  {
   "cell_type": "code",
   "execution_count": null,
   "metadata": {},
   "outputs": [],
   "source": []
  },
  {
   "cell_type": "code",
   "execution_count": null,
   "metadata": {},
   "outputs": [],
   "source": []
  },
  {
   "cell_type": "code",
   "execution_count": null,
   "metadata": {},
   "outputs": [],
   "source": []
  },
  {
   "cell_type": "code",
   "execution_count": null,
   "metadata": {},
   "outputs": [],
   "source": []
  },
  {
   "cell_type": "code",
   "execution_count": null,
   "metadata": {},
   "outputs": [],
   "source": []
  },
  {
   "cell_type": "code",
   "execution_count": null,
   "metadata": {},
   "outputs": [],
   "source": []
  },
  {
   "cell_type": "code",
   "execution_count": null,
   "metadata": {},
   "outputs": [],
   "source": []
  },
  {
   "cell_type": "code",
   "execution_count": null,
   "metadata": {},
   "outputs": [],
   "source": []
  },
  {
   "cell_type": "code",
   "execution_count": null,
   "metadata": {},
   "outputs": [],
   "source": []
  },
  {
   "cell_type": "code",
   "execution_count": null,
   "metadata": {},
   "outputs": [],
   "source": []
  },
  {
   "cell_type": "code",
   "execution_count": null,
   "metadata": {},
   "outputs": [],
   "source": []
  },
  {
   "cell_type": "code",
   "execution_count": null,
   "metadata": {},
   "outputs": [],
   "source": []
  },
  {
   "cell_type": "code",
   "execution_count": null,
   "metadata": {},
   "outputs": [],
   "source": []
  },
  {
   "cell_type": "code",
   "execution_count": null,
   "metadata": {},
   "outputs": [],
   "source": []
  },
  {
   "cell_type": "code",
   "execution_count": null,
   "metadata": {},
   "outputs": [],
   "source": []
  },
  {
   "cell_type": "code",
   "execution_count": null,
   "metadata": {},
   "outputs": [],
   "source": []
  },
  {
   "cell_type": "code",
   "execution_count": null,
   "metadata": {},
   "outputs": [],
   "source": []
  },
  {
   "cell_type": "code",
   "execution_count": null,
   "metadata": {},
   "outputs": [],
   "source": []
  },
  {
   "cell_type": "code",
   "execution_count": null,
   "metadata": {},
   "outputs": [],
   "source": []
  },
  {
   "cell_type": "code",
   "execution_count": null,
   "metadata": {},
   "outputs": [],
   "source": []
  },
  {
   "cell_type": "code",
   "execution_count": null,
   "metadata": {},
   "outputs": [],
   "source": []
  },
  {
   "cell_type": "code",
   "execution_count": null,
   "metadata": {},
   "outputs": [],
   "source": []
  },
  {
   "cell_type": "code",
   "execution_count": null,
   "metadata": {},
   "outputs": [],
   "source": []
  },
  {
   "cell_type": "code",
   "execution_count": null,
   "metadata": {},
   "outputs": [],
   "source": []
  },
  {
   "cell_type": "code",
   "execution_count": null,
   "metadata": {},
   "outputs": [],
   "source": []
  },
  {
   "cell_type": "code",
   "execution_count": null,
   "metadata": {},
   "outputs": [],
   "source": []
  },
  {
   "cell_type": "code",
   "execution_count": null,
   "metadata": {},
   "outputs": [],
   "source": []
  },
  {
   "cell_type": "code",
   "execution_count": null,
   "metadata": {},
   "outputs": [],
   "source": []
  },
  {
   "cell_type": "code",
   "execution_count": null,
   "metadata": {},
   "outputs": [],
   "source": []
  },
  {
   "cell_type": "code",
   "execution_count": null,
   "metadata": {},
   "outputs": [],
   "source": []
  },
  {
   "cell_type": "code",
   "execution_count": null,
   "metadata": {},
   "outputs": [],
   "source": []
  },
  {
   "cell_type": "code",
   "execution_count": null,
   "metadata": {},
   "outputs": [],
   "source": []
  },
  {
   "cell_type": "code",
   "execution_count": null,
   "metadata": {},
   "outputs": [],
   "source": []
  },
  {
   "cell_type": "code",
   "execution_count": null,
   "metadata": {},
   "outputs": [],
   "source": []
  },
  {
   "cell_type": "code",
   "execution_count": null,
   "metadata": {},
   "outputs": [],
   "source": []
  },
  {
   "cell_type": "code",
   "execution_count": null,
   "metadata": {},
   "outputs": [],
   "source": []
  },
  {
   "cell_type": "code",
   "execution_count": null,
   "metadata": {},
   "outputs": [],
   "source": []
  },
  {
   "cell_type": "code",
   "execution_count": null,
   "metadata": {},
   "outputs": [],
   "source": []
  }
 ],
 "metadata": {
  "kernelspec": {
   "display_name": "Python 3",
   "language": "python",
   "name": "python3"
  },
  "language_info": {
   "codemirror_mode": {
    "name": "ipython",
    "version": 3
   },
   "file_extension": ".py",
   "mimetype": "text/x-python",
   "name": "python",
   "nbconvert_exporter": "python",
   "pygments_lexer": "ipython3",
   "version": "3.6.5"
  }
 },
 "nbformat": 4,
 "nbformat_minor": 2
}
