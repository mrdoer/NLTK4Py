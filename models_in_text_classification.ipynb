{
  "nbformat": 4,
  "nbformat_minor": 0,
  "metadata": {
    "colab": {
      "name": "Overview of Colaboratory Features",
      "version": "0.3.2",
      "provenance": [],
      "collapsed_sections": [],
      "toc_visible": true,
      "include_colab_link": true
    },
    "kernelspec": {
      "display_name": "Python 3",
      "name": "python3"
    }
  },
  "cells": [
    {
      "cell_type": "markdown",
      "metadata": {
        "id": "view-in-github",
        "colab_type": "text"
      },
      "source": [
        "[View in Colaboratory](https://colab.research.google.com/github/mrdoer/NLTK4Py/blob/master/models_in_text_classification.ipynb)"
      ]
    },
    {
      "metadata": {
        "id": "zYm2SabX5S-m",
        "colab_type": "text"
      },
      "cell_type": "markdown",
      "source": [
        "Overview and benchmark of traditional and deep learning models in text classification"
      ]
    },
    {
      "metadata": {
        "id": "tu97UZFV5R48",
        "colab_type": "code",
        "colab": {
          "base_uri": "https://localhost:8080/",
          "height": 17
        },
        "outputId": "c1281838-7055-41df-cdb2-ada3367bae1c"
      },
      "cell_type": "code",
      "source": [
        "import os\n",
        "import re\n",
        "\n",
        "import warnings\n",
        "warnings.simplefilter(\"ignore\", UserWarning)\n",
        "from matplotlib import pyplot as plt\n",
        "%matplotlib inline\n",
        "\n",
        "\n",
        "import pandas as pd\n",
        "pd.options.mode.chained_assignment = None\n",
        "import numpy as np \n",
        "from string import punctuation\n",
        "\n",
        "from nltk.tokenize import word_tokenize\n",
        "\n",
        "from sklearn.model_selection import train_test_split\n",
        "from sklearn.feature_extraction.text import TfidfVectorizer\n",
        "from sklearn.linear_model import LogisticRegression\n",
        "from sklearn.metrics import accuracy_score, auc, roc_auc_score\n",
        "from sklearn.externals import joblib\n",
        "\n",
        "import scipy\n",
        "from scipy.sparse import hstack"
      ],
      "execution_count": 1,
      "outputs": []
    }
  ]
}